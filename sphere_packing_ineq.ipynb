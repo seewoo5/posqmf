{
 "cells": [
  {
   "cell_type": "markdown",
   "id": "194b0da1",
   "metadata": {},
   "source": [
    "This is a supplementary sage notebook for the paper \"Algebraic proof\". This code checks the modular form identities appearing in the paper."
   ]
  },
  {
   "cell_type": "code",
   "execution_count": 1,
   "id": "4513c630",
   "metadata": {
    "vscode": {
     "languageId": "sage"
    }
   },
   "outputs": [],
   "source": [
    "from posqmf import *"
   ]
  },
  {
   "cell_type": "markdown",
   "id": "86aa942d",
   "metadata": {},
   "source": [
    "# Extremal quasimodular forms"
   ]
  },
  {
   "cell_type": "markdown",
   "id": "d180d7cc",
   "metadata": {},
   "source": [
    "Here are extremal quasimodular forms of weight $ \\le 14$ and depth 1 and 2 in Table 1."
   ]
  },
  {
   "cell_type": "code",
   "execution_count": 2,
   "id": "2382d963",
   "metadata": {
    "vscode": {
     "languageId": "sage"
    }
   },
   "outputs": [
    {
     "name": "stdout",
     "output_type": "stream",
     "text": [
      "X_6,1\n",
      "\n",
      "q_expansion q + 18*q^2 + 84*q^3 + 292*q^4 + 630*q^5 + 1512*q^6 + 2408*q^7 + 4680*q^8 + 6813*q^9 + 11340*q^10 + 14652*q^11 + 24528*q^12 + 28574*q^13 + 43344*q^14 + 52920*q^15 + 74896*q^16 + 83538*q^17 + 122634*q^18 + 130340*q^19 + O(q^20) \n",
      "\n",
      "weight 6\n",
      "depth 1\n",
      "cusp order 1\n",
      "polynomial (-1/720) * (-E2*E4 + E6) \n",
      "\n",
      "X_8,1\n",
      "\n",
      "q_expansion q + 66*q^2 + 732*q^3 + 4228*q^4 + 15630*q^5 + 48312*q^6 + 117656*q^7 + 270600*q^8 + 533637*q^9 + 1031580*q^10 + 1771572*q^11 + 3094896*q^12 + 4826822*q^13 + 7765296*q^14 + 11441160*q^15 + 17318416*q^16 + 24137586*q^17 + 35220042*q^18 + 47045900*q^19 + O(q^20) \n",
      "\n",
      "weight 8\n",
      "depth 1\n",
      "cusp order 1\n",
      "polynomial (-1/1008) * (E2*E6 - E4^2) \n",
      "\n",
      "X_10,1\n",
      "\n",
      "q_expansion q + 258*q^2 + 6564*q^3 + 66052*q^4 + 390630*q^5 + 1693512*q^6 + 5764808*q^7 + 16909320*q^8 + 43066413*q^9 + 100782540*q^10 + 214358892*q^11 + 433565328*q^12 + 815730734*q^13 + 1487320464*q^14 + 2564095320*q^15 + 4328785936*q^16 + 6975757458*q^17 + 11111134554*q^18 + 16983563060*q^19 + O(q^20) \n",
      "\n",
      "weight 10\n",
      "depth 1\n",
      "cusp order 1\n",
      "polynomial (-1/720) * E4 * (-E2*E4 + E6) \n",
      "\n",
      "X_12,1\n",
      "\n",
      "q_expansion q^2 + 56*q^3 + 1002*q^4 + 9296*q^5 + 57708*q^6 + 269040*q^7 + 1024532*q^8 + 3321024*q^9 + 9542526*q^10 + 24701800*q^11 + 59087672*q^12 + 131294352*q^13 + 276018296*q^14 + 549217872*q^15 + 1049202216*q^16 + 1920000768*q^17 + 3407256981*q^18 + 5839100568*q^19 + O(q^20) \n",
      "\n",
      "weight 12\n",
      "depth 1\n",
      "cusp order 2\n",
      "polynomial (1/3991680) * (-12*E2*E4*E6 + 5*E4^3 + 7*E6^2) \n",
      "\n",
      "X_14,1\n",
      "\n",
      "q_expansion q^2 + 128*q^3 + 4050*q^4 + 58880*q^5 + 525300*q^6 + 3338496*q^7 + 16582820*q^8 + 68121600*q^9 + 241314390*q^10 + 756976000*q^11 + 2151594536*q^12 + 5619414528*q^13 + 13681039400*q^14 + 31294513920*q^15 + 67923894600*q^16 + 140526375936*q^17 + 279161294013*q^18 + 533843395200*q^19 + O(q^20) \n",
      "\n",
      "weight 14\n",
      "depth 1\n",
      "cusp order 2\n",
      "polynomial (1/4717440) * (7*E2*E4^3 + 5*E2*E6^2 - 12*E4^2*E6) \n",
      "\n"
     ]
    }
   ],
   "source": [
    "# Depth 1\n",
    "for w in range(6, 15, 2):\n",
    "    print_qm(extremal_qm(w, 1), \"X_\" + str(w) + \",1\")"
   ]
  },
  {
   "cell_type": "code",
   "execution_count": 3,
   "id": "c6521fbc",
   "metadata": {
    "vscode": {
     "languageId": "sage"
    }
   },
   "outputs": [
    {
     "name": "stdout",
     "output_type": "stream",
     "text": [
      "X_4,2\n",
      "\n",
      "q_expansion q + 6*q^2 + 12*q^3 + 28*q^4 + 30*q^5 + 72*q^6 + 56*q^7 + 120*q^8 + 117*q^9 + 180*q^10 + 132*q^11 + 336*q^12 + 182*q^13 + 336*q^14 + 360*q^15 + 496*q^16 + 306*q^17 + 702*q^18 + 380*q^19 + O(q^20) \n",
      "\n",
      "weight 4\n",
      "depth 2\n",
      "cusp order 1\n",
      "polynomial (1/288) * (-E2^2 + E4) \n",
      "\n",
      "X_8,2\n",
      "\n",
      "q_expansion q^2 + 16*q^3 + 102*q^4 + 416*q^5 + 1308*q^6 + 3360*q^7 + 7772*q^8 + 15744*q^9 + 30606*q^10 + 53680*q^11 + 93352*q^12 + 148512*q^13 + 238616*q^14 + 354912*q^15 + 537336*q^16 + 757248*q^17 + 1100421*q^18 + 1485648*q^19 + O(q^20) \n",
      "\n",
      "weight 8\n",
      "depth 2\n",
      "cusp order 2\n",
      "polynomial (1/362880) * (-7*E2^2*E4 + 2*E2*E6 + 5*E4^2) \n",
      "\n",
      "X_10,2\n",
      "\n",
      "q_expansion q^2 + 104/3*q^3 + 390*q^4 + 2480*q^5 + 11140*q^6 + 39216*q^7 + 117020*q^8 + 303680*q^9 + 717990*q^10 + 1546600*q^11 + 9438728/3*q^12 + 5976048*q^13 + 10941320*q^14 + 18987920*q^15 + 32156280*q^16 + 52106496*q^17 + 83152173*q^18 + 127695960*q^19 + O(q^20) \n",
      "\n",
      "weight 10\n",
      "depth 2\n",
      "cusp order 2\n",
      "polynomial (-1/1088640) * (-5*E2^2*E6 - 2*E2*E4^2 + 7*E4*E6) \n",
      "\n",
      "X_12,2\n",
      "\n",
      "q_expansion q^3 + 51/2*q^4 + 1422/5*q^5 + 1944*q^6 + 9714*q^7 + 38709*q^8 + 130152*q^9 + 1918992/5*q^10 + 1016811*q^11 + 2472610*q^12 + 5582766*q^13 + 11872944*q^14 + 119498814/5*q^15 + 46047186*q^16 + 85019040*q^17 + 151844544*q^18 + 262077525*q^19 + O(q^20) \n",
      "\n",
      "weight 12\n",
      "depth 2\n",
      "cusp order 3\n",
      "polynomial (-1/798336000) * (77*E2^2*E4^2 - 34*E2*E4*E6 - 50*E4^3 + 7*E6^2) \n",
      "\n",
      "X_14,2\n",
      "\n",
      "q_expansion q^3 + 93/2*q^4 + 810*q^5 + 8004*q^6 + 54474*q^7 + 283743*q^8 + 1208568*q^9 + 4400040*q^10 + 14116275*q^11 + 40842466*q^12 + 108318210*q^13 + 267020712*q^14 + 617622270*q^15 + 1352960838*q^16 + 2822872032*q^17 + 5647635936*q^18 + 10872089541*q^19 + O(q^20) \n",
      "\n",
      "weight 14\n",
      "depth 2\n",
      "cusp order 3\n",
      "polynomial (-1/415134720) * (-13*E2^2*E4*E6 - E2*E4^3 + 3*E2*E6^2 + 11*E4^2*E6) \n",
      "\n"
     ]
    }
   ],
   "source": [
    "# Depth 2\n",
    "for w in range(4, 15, 2):\n",
    "    if w != 6:\n",
    "        print_qm(extremal_qm(w, 2), \"X_\" + str(w) + \",2\")"
   ]
  },
  {
   "cell_type": "markdown",
   "id": "5b75868f",
   "metadata": {},
   "source": [
    "The following codes checks the identities between extremal quasimodular forms given in Proposition 4.6. Complete positivity of $X_{w,2}$ directly follows from these identities."
   ]
  },
  {
   "cell_type": "code",
   "execution_count": 4,
   "id": "05a9c3c3",
   "metadata": {
    "vscode": {
     "languageId": "sage"
    }
   },
   "outputs": [],
   "source": [
    "X_6_1 = extremal_qm(6, 1)\n",
    "X_8_1 = extremal_qm(8, 1)\n",
    "X_12_1 = extremal_qm(12, 1)\n",
    "\n",
    "X_4_2 = extremal_qm(4, 2)\n",
    "X_8_2 = extremal_qm(8, 2)\n",
    "X_10_2 = extremal_qm(10, 2)\n",
    "X_12_2 = extremal_qm(12, 2)\n",
    "X_14_2 = extremal_qm(14, 2)\n",
    "\n",
    "# identities\n",
    "assert X_8_2.derivative() == 2 * X_4_2 * X_6_1\n",
    "assert X_10_2.derivative() == (8/9) * X_4_2 * X_8_1 + (10/9) * X_6_1^2\n",
    "assert X_12_2.derivative() == 3 * X_6_1 * X_8_2\n",
    "assert X_14_2.derivative() == 3 * X_4_2 * X_12_1"
   ]
  },
  {
   "cell_type": "markdown",
   "id": "22ac0993",
   "metadata": {},
   "source": [
    "# Dimension 8\n",
    "\n",
    "For dimension 8, we have two modular forms $F$ (`F_8d`) and $G$ (`G_8d`) correspond to $(+1)$- and $(-1)$-Fourier eigenfunctions.\n",
    "They have order 2 and 3/2 at the cusp, respectively.\n"
   ]
  },
  {
   "cell_type": "code",
   "execution_count": 5,
   "id": "bf43198a",
   "metadata": {
    "vscode": {
     "languageId": "sage"
    }
   },
   "outputs": [
    {
     "name": "stdout",
     "output_type": "stream",
     "text": [
      "F_8d\n",
      "\n",
      "q_expansion 518400*q^2 + 18662400*q^3 + 255052800*q^4 + 1870387200*q^5 + 9760435200*q^6 + 38755584000*q^7 + 129782476800*q^8 + 372202905600*q^9 + 967623667200*q^10 + 2263116672000*q^11 + 4995028684800*q^12 + 10180874188800*q^13 + 19989201254400*q^14 + 36921804134400*q^15 + 66489204326400*q^16 + 113850991411200*q^17 + 191997786758400*q^18 + 309769955251200*q^19 + O(q^20) \n",
      "\n",
      "weight 12\n",
      "depth 2\n",
      "cusp order 2\n",
      "polynomial (-E2*E4 + E6)^2 \n",
      "\n",
      "G_8d\n",
      "\n",
      "q_expansion 20480*qh^3 + 2015232*qh^5 + 41656320*qh^7 + 399933440*qh^9 + 2434068480*qh^11 + 10946396160*qh^13 + 39685644288*qh^15 + 122413547520*qh^17 + 333096652800*qh^19 + 819943505920*qh^21 + 1859254149120*qh^23 + 3937755267072*qh^25 + 7871982018560*qh^27 + 14975122391040*qh^29 + Order(qh^30) \n",
      "\n",
      "weight 10\n",
      "depth 0\n",
      "cusp order 3/2\n",
      "polynomial H2^3 * (2*H2^2 + 5*H2*H4 + 5*H4^2) \n",
      "\n"
     ]
    }
   ],
   "source": [
    "F_8d = (E2 * E4 - E6)^2\n",
    "print_qm(F_8d, \"F_8d\")\n",
    "\n",
    "G_8d = H2^3 * (2 * H2^2 + 5 * H2 * H4 + 5 * H4^2)\n",
    "print_qm2(G_8d, \"G_8d\")"
   ]
  },
  {
   "cell_type": "markdown",
   "id": "e7c39e72",
   "metadata": {},
   "source": [
    "We prove that the function $t \\mapsto F(it) / G(it)$ is monotone decreasing, while $\\lim_{t \\to 0^+} F(it) / G(it) = \\frac{18}{\\pi^2}$."
   ]
  },
  {
   "cell_type": "code",
   "execution_count": 6,
   "id": "e2dba4b4",
   "metadata": {
    "vscode": {
     "languageId": "sage"
    }
   },
   "outputs": [
    {
     "data": {
      "image/png": "[encoded data removed]",
      "text/plain": [
       "Graphics object consisting of 2 graphics primitives"
      ]
     },
     "metadata": {},
     "output_type": "display_data"
    }
   ],
   "source": [
    "f_8d = qm_to_func(F_8d, prec=100)\n",
    "g_8d = qm2_to_func(G_8d, prec=100)\n",
    "\n",
    "q_8d = f_8d / g_8d\n",
    "lim_8d = 18 / pi^2\n",
    "\n",
    "\n",
    "p = plot(lim_8d, (t, 0.1, 2.0), color=\"red\", legend_label=\"18 / pi^2\", linestyle=\"dashed\") + \\\n",
    "    plot(q_8d, (t, 0.1, 2.0), color=\"blue\", legend_label=\"F(it) / G(it)\")\n",
    "show(p)"
   ]
  },
  {
   "cell_type": "markdown",
   "id": "de5f369b",
   "metadata": {},
   "source": [
    "To prove the monotonicity (Proposition 5.2), following identities are used:\n",
    "$$\n",
    "\\begin{align*}\n",
    "\\partial_{10}^{2}F &= \\frac{5}{6} E_4 F + 172800 \\Delta X_{4, 2} \\\\\n",
    "\\partial_{10}^{2}G &= \\frac{5}{6} E_4 G - 640 \\Delta H_{2}\n",
    "\\end{align*}\n",
    "$$\n",
    "which implies the identity $\\partial_{22} \\mathcal{L}_{1, 0} = \\mathcal{L}_{2, 0} = \\Delta(172800 X_{4, 2} G + 640 H_2 F) > 0$."
   ]
  },
  {
   "cell_type": "code",
   "execution_count": 7,
   "id": "64162d5c",
   "metadata": {
    "vscode": {
     "languageId": "sage"
    }
   },
   "outputs": [
    {
     "name": "stdout",
     "output_type": "stream",
     "text": [
      "L_1,0\n",
      "\n",
      "q_expansion 5308416000*qh^7 + 50960793600*qh^9 + (-528718233600)*qh^11 + (-1961990553600)*qh^13 + 23011983360000*qh^15 + (-22728513945600)*qh^17 + (-168678103449600)*qh^19 + (-25149151641600)*qh^21 + 2255043782246400*qh^23 + (-1339334590464000)*qh^25 + (-14279004153446400)*qh^27 + 15087095827660800*qh^29 + Order(qh^30) \n",
      "\n",
      "weight 24\n",
      "depth 2\n",
      "cusp order 7/2\n",
      "polynomial (-15/8) * H4^2 * (H2 + H4)^2 * H2^3 * (-2*H2^2 - 2*H2*H4 - 2*H4^2 + H2*E2 + 2*H4*E2) * (2*H2^3 + 3*H2^2*H4 - 3*H2*H4^2 - 2*H4^3 + 2*H2^2*E2 + 2*H2*H4*E2 + 2*H4^2*E2) \n",
      "\n"
     ]
    }
   ],
   "source": [
    "F_8d_ = l1_to_l2(F_8d)\n",
    "X_4_2_ = l1_to_l2(X_4_2)\n",
    "\n",
    "# L_1,0\n",
    "L_1_0_8d = qm2_serre_derivative(F_8d_, 10) * G_8d - F_8d_ * qm2_serre_derivative(G_8d, 10)\n",
    "print_qm2(L_1_0_8d, \"L_1,0\")  # The first nonzero coefficient is positive\n",
    "\n",
    "# F_8d and G_8d satisfy the following differential identities\n",
    "a = 172800\n",
    "b = 640\n",
    "assert qm_serre_derivative_fold(F_8d, 2, 10) == (5/6) * E4 * F_8d + a * Disc * X_4_2\n",
    "assert qm2_serre_derivative_fold(G_8d, 2, 10) == (5/6) * E4_ * G_8d - b * Disc_ * H2\n",
    "\n",
    "# Now, take Serre derivative of L_1,0, which gives L_2,0\n",
    "L_2_0_8d = qm2_serre_derivative_fold(F_8d_, 2, 10) * G_8d - F_8d_ * qm2_serre_derivative_fold(G_8d, 2, 10)\n",
    "assert qm2_serre_derivative(L_1_0_8d, 22) == L_2_0_8d\n",
    "assert L_2_0_8d == Disc_ * (a * X_4_2_ * G_8d + b * H2 * F_8d_)"
   ]
  },
  {
   "cell_type": "markdown",
   "id": "0e00ace4",
   "metadata": {},
   "source": [
    "To compute the limit (Proposition 5.1), we transform it as\n",
    "$$\n",
    "\\lim_{t \\to \\infty} \\frac{F(i/t)}{G(i/t)} = \\lim_{t \\to \\infty} \\frac{t^{12}(F|_{12}S)(it)}{-t^{10}(G|_{10}S)(it)} = \\lim_{t \\to \\infty} - t^{2} \\frac{(F|_{12}S)(it)}{(G|_{10}S)(it)}\n",
    "$$\n",
    "and observe that the cusp forms in the expansion of $(F|_{12}S)$ do not contribute to the limit."
   ]
  },
  {
   "cell_type": "code",
   "execution_count": 8,
   "id": "8ffeb600",
   "metadata": {
    "vscode": {
     "languageId": "sage"
    }
   },
   "outputs": [
    {
     "name": "stdout",
     "output_type": "stream",
     "text": [
      "F_8d|S\n",
      "polynomial (E2^2*E4^2 - 2*E2*E4*E6 + E6^2) + (-12*E2*E4^2 + 12*E4*E6)*(1/π)*(i/z) + (36*E4^2)*(1/π)^2*(i/z)^2\n",
      "weight 12\n",
      "depth 2\n",
      "\n",
      "G_8d|S\n",
      "polynomial (-5*H2^2*H4^3 - 5*H2*H4^4 - 2*H4^5)\n",
      "weight 10\n",
      "depth 0\n",
      "\n",
      "F_8dS, ip^0 * ioz^0: 518400*q^2 + 18662400*q^3 + 255052800*q^4 + 1870387200*q^5 + O(q^6)\n",
      "F_8dS, ip^1 * ioz^1: -8640*q - 2229120*q^2 - 56712960*q^3 - 570689280*q^4 - 3375043200*q^5 + O(q^6)\n",
      "F_8dS, ip^2 * ioz^2: 36 + 17280*q + 2229120*q^2 + 37808640*q^3 + 285344640*q^4 + 1350017280*q^5 + O(q^6)\n",
      "G_8dS, ip^0 * ioz^0: (-2) + (-240)*qh^2 + 10240*qh^3 + (-134640)*qh^4 + 1007616*qh^5 + (-5215680)*qh^6 + 20828160*qh^7 + (-69131760)*qh^8 + 199966720*qh^9 + Order(qh^10)\n"
     ]
    }
   ],
   "source": [
    "F_8dS = qm_S_action(F_8d)\n",
    "G_8dS = qm2_S_action(G_8d)\n",
    "\n",
    "print_rqm(F_8dS, \"F_8d|S\")\n",
    "print_rqm2(G_8dS, \"G_8d|S\")\n",
    "\n",
    "# The modular components of F_8dS for ip^0 * ioz^0 and ip^1 * ioz^1 are both cusp forms, hence does not contribute to the limit\n",
    "print(\"F_8dS, ip^0 * ioz^0:\", F_8dS.coefficient([0, 0]))\n",
    "print(\"F_8dS, ip^1 * ioz^1:\", F_8dS.coefficient([1, 1]))\n",
    "print(\"F_8dS, ip^2 * ioz^2:\", F_8dS.coefficient([2, 2]))\n",
    "\n",
    "print(\"G_8dS, ip^0 * ioz^0:\", qm2_q_series(QM2(G_8dS.coefficient([0, 0])), 10))"
   ]
  },
  {
   "cell_type": "markdown",
   "id": "52170935",
   "metadata": {},
   "source": [
    "In the alternative proof of the monotonicity (Remark 5.4), we used the factorization of $\\mathcal{L}_{1, 0}$,\n",
    "$$\n",
    "    \\mathcal{L}_{1, 0} = \\frac{15}{2} H_2^3 (H_2 + H_4)^2 H_4^2 (E_2 E_4 - E_6)\\left(E_4 - \\frac{1}{2}E_2(H_2 + 2H_4)\\right),\n",
    "$$"
   ]
  },
  {
   "cell_type": "code",
   "execution_count": 9,
   "id": "a15df198",
   "metadata": {
    "vscode": {
     "languageId": "sage"
    }
   },
   "outputs": [],
   "source": [
    "assert L_1_0_8d == (15/2) * H2^3 * (H2 + H4)^2 * H4^2 * (E2_ * E4_ - E6_) * (E4_ - (1/2) * E2_ * (H2 + 2 * H4))"
   ]
  },
  {
   "cell_type": "markdown",
   "id": "d6e26672",
   "metadata": {},
   "source": [
    "# Dimension 24\n",
    "\n",
    "For dimension 24, we have two modular forms $F$ (`F_24d`) and $G$ (`G_24d`) correspond to $(+1)$- and $(-1)$-Fourier eigenfunctions.\n",
    "They have order 3 and 5/2 at the cusp, respectively."
   ]
  },
  {
   "cell_type": "code",
   "execution_count": 10,
   "id": "0b1f441a",
   "metadata": {
    "vscode": {
     "languageId": "sage"
    }
   },
   "outputs": [
    {
     "name": "stdout",
     "output_type": "stream",
     "text": [
      "F_24d\n",
      "\n",
      "q_expansion 3657830400*q^3 + 138997555200*q^4 + 2567796940800*q^5 + 27477621964800*q^6 + 203324160614400*q^7 + 1155903669043200*q^8 + 5339174090342400*q^9 + 21015084264652800*q^10 + 72521005100544000*q^11 + 224861553797529600*q^12 + 636227181370368000*q^13 + 1668067755850137600*q^14 + 4088240185030041600*q^15 + 9465006273911193600*q^16 + 20805434866660147200*q^17 + 43762572956919398400*q^18 + 88336945205133004800*q^19 + O(q^20) \n",
      "\n",
      "weight 16\n",
      "depth 2\n",
      "cusp order 3\n",
      "polynomial 49*E2^2*E4^3 - 25*E2^2*E6^2 - 48*E2*E4^2*E6 - 25*E4^4 + 49*E4*E6^2 \n",
      "\n",
      "G_24d\n",
      "\n",
      "q_expansion 7340032*qh^5 + 566231040*qh^7 + 14900264960*qh^9 + 202291281920*qh^11 + 1774709637120*qh^13 + 11404383879168*qh^15 + 58038146826240*qh^17 + 246418086297600*qh^19 + 905169579540480*qh^21 + 2953520097525760*qh^23 + 8731672090509312*qh^25 + 23746909873111040*qh^27 + 60124559766978560*qh^29 + Order(qh^30) \n",
      "\n",
      "weight 14\n",
      "depth 0\n",
      "cusp order 5/2\n",
      "polynomial H2^5 * (2*H2^2 + 7*H2*H4 + 7*H4^2) \n",
      "\n"
     ]
    }
   ],
   "source": [
    "F_24d = 49 * E2^2 * E4^3 - 25 * E2^2 * E6^2 - 48 * E2 * E4^2 * E6 - 25 * E4^4 + 49 * E4 * E6^2\n",
    "print_qm(F_24d, \"F_24d\")\n",
    "\n",
    "G_24d = H2^5 * (2 * H2^2 + 7 * H2 * H4 + 7 * H4^2)\n",
    "print_qm2(G_24d, \"G_24d\")"
   ]
  },
  {
   "cell_type": "markdown",
   "id": "ca1c2003",
   "metadata": {},
   "source": [
    "For the \"easy\" inequality, we used (Lemma 6.1)\n",
    "$$\n",
    "\\partial_{14} F = 6706022400 X_{6, 1} X_{12, 1}\n",
    "$$"
   ]
  },
  {
   "cell_type": "code",
   "execution_count": 11,
   "id": "04665df7",
   "metadata": {
    "vscode": {
     "languageId": "sage"
    }
   },
   "outputs": [
    {
     "name": "stdout",
     "output_type": "stream",
     "text": [
      "S_14(F_24d)\n",
      "\n",
      "q_expansion 6706022400*q^3 + 496245657600*q^4 + 14042410905600*q^5 + 216792292147200*q^6 + 2187410622566400*q^7 + 16215323107737600*q^8 + 94873425079910400*q^9 + 460862859379507200*q^10 + 1924860638237644800*q^11 + 7100425841338368000*q^12 + 23586538442064998400*q^13 + 71694366272969932800*q^14 + 201781741465304985600*q^15 + 531331202203774156800*q^16 + 1319004010440990720000*q^17 + 3109234547965516185600*q^18 + 6995462883702112512000*q^19 + O(q^20) \n",
      "\n",
      "weight 18\n",
      "depth 2\n",
      "cusp order 3\n",
      "polynomial (-7/3) * (-E2*E4 + E6) * (-12*E2*E4*E6 + 5*E4^3 + 7*E6^2) \n",
      "\n"
     ]
    }
   ],
   "source": [
    "SF_24d = qm_serre_derivative(F_24d, 14)\n",
    "print_qm(SF_24d, \"S_14(F_24d)\")\n",
    "\n",
    "X_6_1 = extremal_qm(6, 1)\n",
    "X_12_1 = extremal_qm(12, 1)\n",
    "\n",
    "assert SF_24d == 6706022400 * X_6_1 * X_12_1"
   ]
  },
  {
   "cell_type": "markdown",
   "id": "32f9d2f6",
   "metadata": {},
   "source": [
    "For the \"hard\" inequaltiy, we prove that the function $t \\mapsto F(it) / G(it)$ is monotone decreasing, and $\\lim_{t \\to 0^+} F(it) / G(it) = \\frac{432}{\\pi^2}$.\n"
   ]
  },
  {
   "cell_type": "code",
   "execution_count": 12,
   "id": "5ace1a24",
   "metadata": {
    "vscode": {
     "languageId": "sage"
    }
   },
   "outputs": [
    {
     "data": {
      "image/png": "[encoded data removed]",
      "text/plain": [
       "Graphics object consisting of 2 graphics primitives"
      ]
     },
     "metadata": {},
     "output_type": "display_data"
    }
   ],
   "source": [
    "f_24d = qm_to_func(F_24d, prec=100)\n",
    "g_24d = qm2_to_func(G_24d, prec=100)\n",
    "\n",
    "q_24d = f_24d / g_24d\n",
    "lim_24d = 432 / pi^2\n",
    "\n",
    "p = plot(lim_24d, (t, 0.1, 2.0), color=\"red\", legend_label=\"432 / pi^2\", linestyle=\"dashed\") + \\\n",
    "    plot(q_24d, (t, 0.1, 2.0), color=\"blue\", legend_label=\"F(it) / G(it)\")\n",
    "show(p)"
   ]
  },
  {
   "cell_type": "markdown",
   "id": "6116e9b9",
   "metadata": {},
   "source": [
    "For the monotonicity (Proposition 6.5), we use the following identities\n",
    "$$\n",
    "\\begin{align*}\n",
    "\\partial_{10}^{2}F &= \\frac{14}{9} E_4 F + 5486745600 \\Delta X_{8, 2} \\\\\n",
    "\\partial_{10}^{2}G &= \\frac{14}{9} E_4 G\n",
    "\\end{align*}\n",
    "$$"
   ]
  },
  {
   "cell_type": "code",
   "execution_count": 13,
   "id": "103a2709",
   "metadata": {
    "vscode": {
     "languageId": "sage"
    }
   },
   "outputs": [
    {
     "name": "stdout",
     "output_type": "stream",
     "text": [
      "L_1,0\n",
      "\n",
      "q_expansion 13424296093286400*qh^11 + 494781198866841600*qh^13 + 4717681198497792000*qh^15 + 1434481925396889600*qh^17 + (-154584605027362406400)*qh^19 + (-391694111409910579200)*qh^21 + 1831396170230503833600*qh^23 + 8236035784021377024000*qh^25 + (-6718846770393749913600)*qh^27 + (-83998612909280408371200)*qh^29 + Order(qh^30) \n",
      "\n",
      "weight 32\n",
      "depth 2\n",
      "cusp order 11/2\n",
      "polynomial (-105/8) * H4^2 * (H2 + H4)^2 * H2^5 * (-26*H2^7 - 130*H2^6*H4 - 333*H2^5*H4^2 - 536*H2^4*H4^3 - 415*H2^3*H4^4 - 54*H2^2*H4^5 + 112*H2*H4^6 + 32*H4^7 + 20*H2^6*E2 + 90*H2^5*H4*E2 + 96*H2^4*H4^2*E2 - 52*H2^3*H4^3*E2 - 186*H2^2*H4^4*E2 - 192*H2*H4^5*E2 - 64*H4^6*E2 + 46*H2^5*E2^2 + 184*H2^4*H4*E2^2 + 292*H2^3*H4^2*E2^2 + 248*H2^2*H4^3*E2^2 + 80*H2*H4^4*E2^2 + 32*H4^5*E2^2) \n",
      "\n"
     ]
    }
   ],
   "source": [
    "F_24d_ = l1_to_l2(F_24d)\n",
    "L_1_0_24d = qm2_serre_derivative(F_24d_, 14) * G_24d - F_24d_ * qm2_serre_derivative(G_24d, 14)\n",
    "assert L_1_0_24d == qm2_derivative(F_24d_) * G_24d - F_24d_ * qm2_derivative(G_24d)\n",
    "print_qm2(L_1_0_24d, \"L_1,0\")\n",
    "\n",
    "# F_24d and G_24d satisfy the following differential identities\n",
    "c = 5486745600\n",
    "assert qm_serre_derivative_fold(F_24d, 2, 14) == (14/9) * E4 * F_24d + c * Disc * extremal_qm(8, 2)\n",
    "assert qm2_serre_derivative_fold(G_24d, 2, 14) == (14/9) * E4_ * G_24d\n",
    "\n",
    "# Now, take Serre derivative of L_1,0, which gives L_2,0\n",
    "L_2_0_24d = qm2_serre_derivative_fold(F_24d_, 2, 14) * G_24d - F_24d_ * qm2_serre_derivative_fold(G_24d, 2, 14)\n",
    "assert qm2_serre_derivative(L_1_0_24d, 30) == L_2_0_24d\n",
    "assert L_2_0_24d == c * Disc_ * l1_to_l2(extremal_qm(8, 2)) * G_24d"
   ]
  },
  {
   "cell_type": "markdown",
   "id": "59ebc9bd",
   "metadata": {},
   "source": [
    "Limit can be computed similarly as in the 8-dimensional case (Proposition 6.4)."
   ]
  },
  {
   "cell_type": "code",
   "execution_count": 14,
   "id": "63e61884",
   "metadata": {
    "vscode": {
     "languageId": "sage"
    }
   },
   "outputs": [
    {
     "name": "stdout",
     "output_type": "stream",
     "text": [
      "F_24d|S\n",
      "polynomial (49*E2^2*E4^3 - 25*E2^2*E6^2 - 48*E2*E4^2*E6 - 25*E4^4 + 49*E4*E6^2) + (-588*E2*E4^3 + 300*E2*E6^2 + 288*E4^2*E6)*(1/π)*(i/z) + (1764*E4^3 - 900*E6^2)*(1/π)^2*(i/z)^2\n",
      "weight 16\n",
      "depth 2\n",
      "\n",
      "G_24d|S\n",
      "polynomial (-7*H2^2*H4^5 - 7*H2*H4^6 - 2*H4^7)\n",
      "weight 14\n",
      "depth 0\n",
      "\n",
      "F_24dS, ip^0 * ioz^0: 3657830400*q^3 + 138997555200*q^4 + 2567796940800*q^5 + O(q^6)\n",
      "F_24dS, ip^1 * ioz^1: -725760*q - 78382080*q^2 - 15040650240*q^3 - 454261893120*q^4 - 6683835916800*q^5 + O(q^6)\n",
      "F_24dS, ip^2 * ioz^2: 864 + 2177280*q + 117573120*q^2 + 15040650240*q^3 + 340696419840*q^4 + 4010301550080*q^5 + O(q^6)\n",
      "G_24dS, ip^0 * ioz^0: (-2) + 560*qh^2 + (-196560)*qh^4 + 3670016*qh^5 + (-38445120)*qh^6 + 283115520*qh^7 + (-1608122320)*qh^8 + 7450132480*qh^9 + Order(qh^10)\n"
     ]
    }
   ],
   "source": [
    "F_24dS = qm_S_action(F_24d)\n",
    "G_24dS = qm2_S_action(G_24d)\n",
    "\n",
    "print_rqm(F_24dS, \"F_24d|S\")\n",
    "print_rqm2(G_24dS, \"G_24d|S\")\n",
    "\n",
    "# The modular components of F_24dS for ip^0 * ioz^0 and ip^1 * ioz^1 are both cusp forms, hence does not contribute to the limit\n",
    "print(\"F_24dS, ip^0 * ioz^0:\", F_24dS.coefficient([0, 0]))\n",
    "print(\"F_24dS, ip^1 * ioz^1:\", F_24dS.coefficient([1, 1]))\n",
    "print(\"F_24dS, ip^2 * ioz^2:\", F_24dS.coefficient([2, 2]))\n",
    "\n",
    "print(\"G_24dS, ip^0 * ioz^0:\", qm2_q_series(QM2(G_24dS.coefficient([0, 0])), 10))"
   ]
  },
  {
   "cell_type": "markdown",
   "id": "87201ce5",
   "metadata": {},
   "source": [
    "For the \"harder\" inequality, the main observation is monotonicity of the function\n",
    "$$\n",
    "g(t) := \\frac{432}{\\pi^2} - \\frac{F(it)}{G(it)} - 725760 \\frac{\\Delta(it)}{G(it)} \\left(\\frac{1}{\\pi t^3} - \\frac{10}{3 \\pi^2 t^2}\\right)\n",
    "$$\n",
    "for $0 < t < \\frac{3\\pi}{10}$, and its limit as $t \\to 0^+$ equals to $0$ (Proposition 6.8)."
   ]
  },
  {
   "cell_type": "code",
   "execution_count": 15,
   "id": "fc272323",
   "metadata": {
    "vscode": {
     "languageId": "sage"
    }
   },
   "outputs": [
    {
     "data": {
      "image/png": "[encoded data removed]",
      "text/plain": [
       "Graphics object consisting of 3 graphics primitives"
      ]
     },
     "metadata": {},
     "output_type": "display_data"
    }
   ],
   "source": [
    "disc = qm_to_func(Disc)\n",
    "LHS_func = 432 / pi^2 - f_24d / g_24d\n",
    "RHS_func = 725760 * disc / g_24d * (1 / pi / t^3 - (10/3) / pi^2 / t^2)\n",
    "g_func = LHS_func - RHS_func\n",
    "\n",
    "show(\n",
    "    plot(LHS_func, (t, 0.2, 1.0), color=\"blue\", legend_label=\"LHS(t)\") + \\\n",
    "    plot(RHS_func, (t, 0.2, 1.0), color=\"red\", legend_label=\"RHS(t)\") + \\\n",
    "    plot(g_func, (t, 0.2, 1.0), color=\"green\", linestyle=\"dashed\", legend_label=\"g(t)\")\n",
    ")"
   ]
  },
  {
   "cell_type": "markdown",
   "id": "04b44799",
   "metadata": {},
   "source": [
    "For the monotonicity part, $\\mathrm{d}g / \\mathrm{d}t > 0$ is equivalent to\n",
    "$$\n",
    "\\widetilde{\\mathcal{L}}_{1, 0}(it) := \\mathcal{L}_{1, 0}(it) - 725760 \\Delta(it) \\left[(\\partial_{12}G)(it) \\left(\\frac{1}{\\pi t^3} - \\frac{10}{3 \\pi^2 t^2}\\right) - G(it) \\left(\\frac{3}{2 \\pi^2 t^4} - \\frac{10}{3 \\pi^3 t^3} \\right)\\right] > 0.\n",
    "$$\n",
    "To prove this, we first check $\\widetilde{\\mathcal{L}}_{1, 0}\\left(\\frac{3\\pi i}{10}\\right) > 0$, and show $\\partial_{30}\\widetilde{\\mathcal{L}}_{1, 0}(it) > 0$ on $0 < t < \\frac{3\\pi}{10}$.\n",
    "We set $p = p(t) = \\frac{1}{\\pi t^3} - \\frac{10}{\\pi^2 t^2}$ so\n",
    "$$\n",
    "\\begin{align*}\n",
    "Dp &= -\\frac{1}{2\\pi} \\frac{\\mathrm{d}p}{\\mathrm{d}t} = \\frac{3}{2 \\pi^2 t^4} - \\frac{10}{\\pi^3 t^3}, \\\\\n",
    "D^{2}p &= \\frac{1}{4\\pi^2} \\frac{\\mathrm{d}^{2}p}{\\mathrm{d}t^2} = \\frac{3}{\\pi^3 t^5} - \\frac{5}{\\pi^4 t^4},\n",
    "\\end{align*}\n",
    "$$\n",
    "then we get (70)\n",
    "$$\n",
    "\\partial_{30} \\widetilde{\\mathcal{L}}_{1, 0} = 725760 \\Delta G\\left[ 7560 X_{8, 2} - \\left(\\frac{37 E_4 - E_2^2}{24}\\right) \\cdot p - \\frac{1}{2}E_2 \\cdot Dp + D^{2}p \\right].\n",
    "$$"
   ]
  },
  {
   "cell_type": "code",
   "execution_count": 16,
   "id": "0bca19e1",
   "metadata": {
    "vscode": {
     "languageId": "sage"
    }
   },
   "outputs": [],
   "source": [
    "p = ip * ioz^3 - (10/3) * ip^2 * ioz^2\n",
    "Dp = rqm_derivative(p)  # (3/2) * ip^2 * ioz^4 - (10/3) * ip^3 * ioz^3\n",
    "DDp = rqm_derivative(Dp)  # 3 * ip^3 * ioz^5 - 5 * ip^4 * ioz^4\n",
    "p_ = rqm_to_rqm2(p)\n",
    "Dp_ = rqm_to_rqm2(Dp)\n",
    "DDp_ = rqm_to_rqm2(DDp)\n",
    "X82 = extremal_qm(8, 2)\n",
    "\n",
    "Ltilde = L_1_0_24d - 725760 * Disc_ * (qm2_serre_derivative(G_24d, 12) * p_ - G_24d * Dp_)\n",
    "S30Ltilde = rqm2_serre_derivative(Ltilde, 30)\n",
    "h = 7560 * X82 - ((37 * E4 - E2^2) / 24) * p - (E2 / 2) * Dp + DDp\n",
    "h_ = rqm_to_rqm2(h)\n",
    "assert S30Ltilde == 725760 * Disc_ * G_24d * h_"
   ]
  },
  {
   "cell_type": "markdown",
   "id": "cd463317",
   "metadata": {},
   "source": [
    "So it is enough to show that the factor (71)\n",
    "$$\n",
    "h = h(t) := 7560 X_{8, 2}(it) - \\left(\\frac{37 E_4(it) - E_2(it)^2}{24}\\right) \\cdot p - \\frac{1}{2}E_2(it) \\cdot Dp + D^{2}p \n",
    "$$\n",
    "is positive on $0 < t < \\frac{3\\pi}{10}$, which is equivalent to proving\n",
    "$$\n",
    "\\begin{align*}\n",
    "(h|_{8, S})(t) &= t^{-8} h\\left(\\frac{1}{t}\\right) \\\\\n",
    "&= 7560 X_{8, 2}(it) \\\\\n",
    "&\\quad + \\frac{1}{\\pi t} \\left(\\frac{7 E_2(it) E_4(it) - E_6(it)}{4} - \\frac{37 E_4(it) - E_2(it)^{2}}{24}\\right) + \\frac{1}{\\pi^{2} t^{2}} \\left(- \\frac{4 E_4(it) + 5E_2(it)^{2}}{36} + \\frac{E_2(it)}{4}\\right) > 0\n",
    "\\end{align*}\n",
    "$$\n",
    "for $t > \\frac{10}{3 \\pi}$ (72). One can actually prove that the last line (`hS2` below) is positive (73)."
   ]
  },
  {
   "cell_type": "code",
   "execution_count": 17,
   "id": "fb8dca3d",
   "metadata": {
    "vscode": {
     "languageId": "sage"
    }
   },
   "outputs": [
    {
     "name": "stdout",
     "output_type": "stream",
     "text": [
      "h\n",
      "polynomial (-7/48*E2^2*E4 + 1/24*E2*E6 + 5/48*E4^2) + (1/24*E2^2 - 37/24*E4)*(1/π)*(i/z)^3 + (-5/36*E2^2 + 185/36*E4)*(1/π)^2*(i/z)^2 + (-3/4*E2)*(1/π)^2*(i/z)^4 + (5/3*E2)*(1/π)^3*(i/z)^3 + (3)*(1/π)^3*(i/z)^5 + (-5)*(1/π)^4*(i/z)^4\n",
      "weight 8\n",
      "depth 2\n",
      "\n",
      "weight 8 component\n",
      "polynomial (-7/48*E2^2*E4 + 1/24*E2*E6 + 5/48*E4^2) + (7/4*E2*E4 - 1/4*E6)*(1/π)*(i/z) + (-5/36*E2^2 - 1/9*E4)*(1/π)^2*(i/z)^2\n",
      "weight 8\n",
      "depth 2\n",
      "\n",
      "weight 6 component\n",
      "polynomial (1/24*E2^2 - 37/24*E4)*(1/π)*(i/z) + (1/4*E2)*(1/π)^2*(i/z)^2\n",
      "weight 6\n",
      "depth 2\n",
      "\n"
     ]
    },
    {
     "data": {
      "image/png": "[encoded data removed]",
      "text/plain": [
       "Graphics object consisting of 2 graphics primitives"
      ]
     },
     "metadata": {},
     "output_type": "display_data"
    }
   ],
   "source": [
    "print_rqm(h, \"h\")\n",
    "hS = rqm_S_action(h)\n",
    "hS_comps = rqm_homogeneous_comps(hS)\n",
    "for k in hS_comps:\n",
    "    print_rqm(hS_comps[k], \"weight \" + str(k) + \" component\")\n",
    "\n",
    "assert hS == 7560 * X82 + ip * ioz * ((7 * E2 * E4 - E6) / 4 - (37 * E4 - E2^2) / 24) + ip^2 * ioz^2 * (-(4*E4+5*E2^2)/36 + E2 / 4)\n",
    "\n",
    "hS2 = ((7 * E2 * E4 - E6) / 4 - (37 * E4 - E2^2) / 24) + ip * ioz * (-(4*E4+5*E2^2)/36 + E2 / 4)\n",
    "assert hS == 7560 * X82 + ip * ioz * hS2\n",
    "\n",
    "show(\n",
    "    plot(rqm_to_func(hS), (t, 1.0, 3.0), legend_label=\"hS(t)\") + \\\n",
    "    plot(rqm_to_func(hS2), (t, 1.0, 3.0), color=\"red\", legend_label=\"hS2(t)\")\n",
    ")"
   ]
  },
  {
   "cell_type": "markdown",
   "id": "ae951e06",
   "metadata": {},
   "source": [
    "One can rewrite `hS2` as\n",
    "$$\n",
    "    \\left(\\frac{3}{10} - \\frac{1}{\\pi t}\\right) J_{1} + \\frac{3}{40} J_{2} + \\frac{7}{4} J_{3}.\n",
    "$$\n",
    "for $J_{1}, J_{2},  J_{3}$ below ((74), (75), (78)), and we prove that these are all positive for $t > \\frac{10}{3\\pi}$.\n",
    "$J_{1}$ and $J_{2}$ are completely positive by using the below identities (Lemma 6.9).\n",
    "$$\n",
    "\\begin{align*}\n",
    "    J_{1} &= \\frac{5}{3} E_{2}' -\\frac{1}{4} E_{2} + \\frac{1}{4} E_{4} = \\sum_{n \\geq 1} (60 \\sigma_{3}(n) - 40 n\\sigma_{1}(n) + 6 \\sigma_{1}(n)) q^{n}, \\\\\n",
    "    J_{2} &= E_{2} - E_{6} = \\sum_{n \\geq 1} (504 \\sigma_{5}(n) - 24 \\sigma_{1}(n)) q^{n}.\n",
    "\\end{align*}\n",
    "$$\n",
    "and observe their $q$-coefficients (Lemma 6.9). Similarly, from\n",
    "$$\n",
    "J_{3} = 3 E_{4}' + \\frac{9}{10} E_{6} - \\frac{9}{10} E_{4} = \\sum_{n\\geq 1} \\left(720 n \\sigma_{3}(n)- \\frac{2268}{5} \\sigma_{5}(n) - 216 \\sigma_{3}(n)\\right) q^{n},\n",
    "$$\n",
    "all the $q$-coefficients of $J_{3}$ except for $a_{1}$ are negative, which implies monotonicity of $t \\mapsto e^{2 \\pi t} J_{3}(it)$. Combined with $J_{3}(i) > 0$, we get $J_{3}(it) > e^{-2 \\pi (t-1)} J_{3}(i) > 0$ for $t > 1$."
   ]
  },
  {
   "cell_type": "code",
   "execution_count": 18,
   "id": "b64b70b0",
   "metadata": {
    "vscode": {
     "languageId": "sage"
    }
   },
   "outputs": [
    {
     "name": "stdout",
     "output_type": "stream",
     "text": [
      "J1\n",
      "\n",
      "q_expansion 26*q + 318*q^2 + 1224*q^3 + 3302*q^4 + 6396*q^5 + 12312*q^6 + 18448*q^7 + 30390*q^8 + 40818*q^9 + 60948*q^10 + 74712*q^11 + 109368*q^12 + 124684*q^13 + 172464*q^14 + 197424*q^15 + 261206*q^16 + 282708*q^17 + 380934*q^18 + 396520*q^19 + O(q^20) \n",
      "\n",
      "weight [2, 4]\n",
      "depth 2\n",
      "cusp order 1\n",
      "polynomial (1/36) * (5*E2^2 + 4*E4 - 9*E2) \n",
      "\n",
      "J2\n",
      "\n",
      "q_expansion 480*q + 16560*q^2 + 122880*q^3 + 532560*q^4 + 1575360*q^5 + 4057920*q^6 + 8471040*q^7 + 17047440*q^8 + 29883360*q^9 + 51991200*q^10 + 81169920*q^11 + 129984960*q^12 + 187131840*q^13 + 279550080*q^14 + 384422400*q^15 + 545529360*q^16 + 715608000*q^17 + 986160240*q^18 + 1247953920*q^19 + O(q^20) \n",
      "\n",
      "weight [2, 6]\n",
      "depth 1\n",
      "cusp order 1\n",
      "polynomial (-1) * (E6 - E2) \n",
      "\n",
      "J3\n",
      "\n",
      "q_expansion 252/5*q - 19764/5*q^2 - 281232/5*q^3 - 1424916/5*q^4 - 4957848/5*q^5 - 13090896/5*q^6 - 29823264/5*q^7 - 12099780*q^8 - 110767284/5*q^9 - 194363064/5*q^10 - 313957296/5*q^11 - 498842064/5*q^12 - 741602232/5*q^13 - 1105283232/5*q^14 - 1543201632/5*q^15 - 2190315348/5*q^16 - 2924808264/5*q^17 - 4003600932/5*q^18 - 1030795920*q^19 + O(q^20) \n",
      "\n",
      "weight [4, 6]\n",
      "depth 1\n",
      "cusp order 1\n",
      "polynomial (-1/10) * (-10*E2*E4 + E6 + 9*E4) \n",
      "\n"
     ]
    }
   ],
   "source": [
    "# hS2 is positive\n",
    "J1 = (5 * E2^2 + 4 * E4) / 36 - E2 / 4\n",
    "J2 = E2 - E6\n",
    "J3 = E2 * E4 - E6 / 10 - (9 / 10) * E4\n",
    "print_qm(J1, \"J1\")\n",
    "print_qm(J2, \"J2\")\n",
    "print_qm(J3, \"J3\")\n",
    "assert hS2 == (3/10 - ip * ioz) * J1 + (3/40) * J2 + (7/4) * J3\n",
    "assert J1 == (5/3) * E2.derivative() - (1/4) * E2 + (1/4) * E4\n",
    "assert J3 == 3 * E4.derivative() + (9/10) * E6 - (9/10) * E4\n",
    "\n",
    "# sanity check of q-coefficients upto q^1000\n",
    "M = 1000\n",
    "J1_coeffs = qm_coefficients(J1, M)\n",
    "J2_coeffs = qm_coefficients(J2, M)\n",
    "J3_coeffs = qm_coefficients(J3, M)\n",
    "J1_coeffs_check = [60 * sigma(n, 3) - 40 * n * sigma(n, 1) + 6 * sigma(n, 1) for n in range(M)]\n",
    "J2_coeffs_check = [504 * sigma(n, 5) - 24 * sigma(n, 1) for n in range(M)]\n",
    "J3_coeffs_check = [720 * n * sigma(n, 3) - (2268/5) * sigma(n, 5) - 216 * sigma(n, 3) for n in range(M)]\n",
    "assert J1_coeffs == J1_coeffs_check\n",
    "assert J2_coeffs == J2_coeffs_check\n",
    "assert J3_coeffs == J3_coeffs_check\n"
   ]
  },
  {
   "cell_type": "markdown",
   "id": "ff6fd0db",
   "metadata": {},
   "source": [
    "Here are plots of $J_1, J_2, J_3$ and $e^{2 \\pi t} J_3(it)$ for $t > 1$."
   ]
  },
  {
   "cell_type": "code",
   "execution_count": 19,
   "id": "78ebf972",
   "metadata": {
    "vscode": {
     "languageId": "sage"
    }
   },
   "outputs": [
    {
     "data": {
      "image/png": "[encoded data removed]",
      "text/plain": [
       "Graphics object consisting of 3 graphics primitives"
      ]
     },
     "metadata": {},
     "output_type": "display_data"
    },
    {
     "data": {
      "image/png": "[encoded data removed]",
      "text/plain": [
       "Graphics object consisting of 1 graphics primitive"
      ]
     },
     "metadata": {},
     "output_type": "display_data"
    }
   ],
   "source": [
    "\n",
    "# graphs of J1, J2, J3\n",
    "low_t = 1\n",
    "high_t = 3.0\n",
    "plots = [\n",
    "    plot(qm_to_func(J1), (t, low_t, high_t), legend_label=\"J1\"),\n",
    "    plot(qm_to_func(J2), (t, low_t, high_t), color=\"green\", legend_label=\"J2\"),\n",
    "    plot(qm_to_func(J3), (t, low_t, high_t), color=\"orange\", legend_label=\"J3\"),\n",
    "]\n",
    "show(sum(plots))\n",
    "\n",
    "# graph of exp(2 pi t) * J3(it), which is monotone increasing\n",
    "show(plot(exp(2*pi*t) * qm_to_func(J3), (t, low_t, high_t), legend_label=\"exp(2πt) * J3\"))"
   ]
  }
 ],
 "metadata": {
  "kernelspec": {
   "display_name": "SageMath 10.6",
   "language": "sage",
   "name": "SageMath-10.6"
  },
  "language_info": {
   "codemirror_mode": {
    "name": "ipython",
    "version": 3
   },
   "file_extension": ".py",
   "mimetype": "text/x-python",
   "name": "python",
   "nbconvert_exporter": "python",
   "pygments_lexer": "ipython3",
   "version": "3.12.5"
  }
 },
 "nbformat": 4,
 "nbformat_minor": 5
}
