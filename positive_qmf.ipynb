{
 "cells": [
  {
   "cell_type": "markdown",
   "id": "0b0c04d4",
   "metadata": {},
   "source": [
    "This is a supplementary sage notebook for the paper \"Extremal quasimodular forms and modular form inequalities for optimal sphere packing\". This code checks the modular form identities appearing in the paper."
   ]
  },
  {
   "cell_type": "markdown",
   "id": "41035f2b",
   "metadata": {},
   "source": [
    "# Level 1 quasimodular forms\n",
    "\n",
    "Quasimodular forms of level 1 (or more generally, level $\\Gamma_0(N)$ or $\\Gamma_1(N)$) is implemented in Sage, mostly by David Ayotte. We define some utility functions that help us to study the quasimodular forms easily."
   ]
  },
  {
   "cell_type": "code",
   "execution_count": 1,
   "id": "2624c934",
   "metadata": {},
   "outputs": [],
   "source": [
    "# Level 1 quasimodular forms\n",
    "QM = QuasiModularForms(1)\n",
    "E2, E4, E6 = QM.0, QM.1, QM.2  # generators, normalized as constant terms = 1\n",
    "Disc = (1 / 1728) * (E4^3 - E6^2)  # discriminant form\n",
    "\n",
    "# Depth\n",
    "def qm_depth(qm):\n",
    "    return qm.polynomial().degree(E2.polynomial())\n",
    "\n",
    "# Fourier coefficients\n",
    "def qm_coefficients(qm, prec=20):\n",
    "    qexp = qm.q_expansion(prec)\n",
    "    return q_expansion_to_list(qexp, prec)\n",
    "\n",
    "def q_expansion_to_list(qexp, prec=20):\n",
    "    return [qexp[i] for i in range(prec)]\n",
    "\n",
    "# Iterative differentiation of quasimodular forms\n",
    "def dfold(qm, k):\n",
    "    if k == 0:\n",
    "        return qm\n",
    "    else:\n",
    "        return dfold(qm.derivative(), k - 1)\n",
    "\n",
    "# Serre derivative with given weight k\n",
    "# If weight is not given, we use k = (weight - depth) that preserves depth.\n",
    "def qm_serre_derivative(qm, k=None):\n",
    "    if k is None:\n",
    "        k = qm.weight() - qm_depth(qm)\n",
    "    return qm.derivative() - E2 * qm * (k / 12)\n",
    "\n",
    "# Iterative Serre derivative, which is \n",
    "# \\partial_{k + 2(r-1)} \\circ \\partial_{k + 2(r-2)} \\circ \\cdots \\circ \\partial_{k} for given r >= 1.\n",
    "def qm_serre_derivative_fold(qm, r, k=None):\n",
    "    assert r >= 0\n",
    "    if r == 0:\n",
    "        return qm\n",
    "    elif r == 1:\n",
    "        return qm_serre_derivative(qm, k)\n",
    "    else:\n",
    "        if k is None:\n",
    "            k = qm.weight() - qm_depth(qm)\n",
    "        return qm_serre_derivative(qm_serre_derivative_fold(qm, r-1, k), k + 2 * (r-1))\n",
    "\n",
    "# Dimension of the space of (genuine) modular forms of weight w and level 1\n",
    "def dim_m(w):\n",
    "    assert w % 2 == 0\n",
    "    if w % 12 == 2:\n",
    "        return w // 12\n",
    "    else:\n",
    "        return w // 12 + 1\n",
    "\n",
    "# Dimension of the space of (genuine) modular forms of weight w, depth <= s and level 1\n",
    "def dim_qm(w, s):\n",
    "    assert w % 2 == 0\n",
    "    assert s >= 0\n",
    "    d = (w * (s + 1)) // 12\n",
    "    d -= ((s + 1) // 6) * (s - 3 * ((s + 1) // 6) - 1)\n",
    "    d += s // 6 + 1\n",
    "    if (w * (s + 1)) % 12 == 2:\n",
    "        d -= 1\n",
    "    return d\n",
    "\n",
    "# Basis of the space of quasimodular forms of given weight and depth, in terms of Eisenstein series\n",
    "def qm_basis(w, s):\n",
    "    basis = []\n",
    "    for r in range(s + 1):\n",
    "        w_ = w - 2 * r\n",
    "        for i in range(w_ // 4 + 1):\n",
    "            if (w_ - 4 * i) % 6 == 0:\n",
    "                j = (w_ - 4 * i) // 6\n",
    "                basis.append(E2^r * E4^i * E6^j)\n",
    "    return basis\n",
    "\n",
    "# Vanishing order at the cusp\n",
    "def qm_cusp_order(qm):\n",
    "    N = 1000\n",
    "    c_ = qm_coefficients(qm, N)\n",
    "    r = 0\n",
    "    for i in range(N):\n",
    "        if c_[i] != 0:\n",
    "            break\n",
    "        r += 1\n",
    "    return r\n",
    "\n",
    "# First nonzero Fourier coefficient\n",
    "def qm_first_nonzero_coeff(qm):\n",
    "    N = 1000\n",
    "    c_ = qm_coefficients(qm, N)\n",
    "    for i in range(N):\n",
    "        if c_[i] != 0:\n",
    "            return c_[i]\n",
    "\n",
    "# Normalize to make the first nonzero coefficient as 1\n",
    "def qm_normalize(qm):\n",
    "    return qm / qm_first_nonzero_coeff(qm)\n",
    "\n",
    "# Print q-expansion, weight, depth, cusp order, and its polynomial form\n",
    "def print_qm(qm, name, prec=20):\n",
    "    print(name + \"\\n\")\n",
    "    print(\"q_expansion\", qm.q_expansion(prec), \"\\n\")\n",
    "    print(\"weight\", qm.weight())\n",
    "    print(\"depth\", qm_depth(qm))\n",
    "    print(\"cusp order\", qm_cusp_order(qm))\n",
    "    print(\"polynomial\", qm.polynomial().factor(), \"\\n\")"
   ]
  },
  {
   "cell_type": "markdown",
   "id": "1c2a799c",
   "metadata": {},
   "source": [
    "For example, the following quasimodular forms appear as a part of the magic functions."
   ]
  },
  {
   "cell_type": "code",
   "execution_count": 2,
   "id": "48462225",
   "metadata": {},
   "outputs": [
    {
     "name": "stdout",
     "output_type": "stream",
     "text": [
      "F_8d\n",
      "\n",
      "q_expansion 518400*q^2 + 18662400*q^3 + 255052800*q^4 + 1870387200*q^5 + 9760435200*q^6 + 38755584000*q^7 + 129782476800*q^8 + 372202905600*q^9 + 967623667200*q^10 + 2263116672000*q^11 + 4995028684800*q^12 + 10180874188800*q^13 + 19989201254400*q^14 + 36921804134400*q^15 + 66489204326400*q^16 + 113850991411200*q^17 + 191997786758400*q^18 + 309769955251200*q^19 + O(q^20) \n",
      "\n",
      "weight 12\n",
      "depth 2\n",
      "cusp order 2\n",
      "polynomial (-E2*E4 + E6)^2 \n",
      "\n",
      "F_24d\n",
      "\n",
      "q_expansion 3657830400*q^3 + 138997555200*q^4 + 2567796940800*q^5 + 27477621964800*q^6 + 203324160614400*q^7 + 1155903669043200*q^8 + 5339174090342400*q^9 + 21015084264652800*q^10 + 72521005100544000*q^11 + 224861553797529600*q^12 + 636227181370368000*q^13 + 1668067755850137600*q^14 + 4088240185030041600*q^15 + 9465006273911193600*q^16 + 20805434866660147200*q^17 + 43762572956919398400*q^18 + 88336945205133004800*q^19 + O(q^20) \n",
      "\n",
      "weight 16\n",
      "depth 2\n",
      "cusp order 3\n",
      "polynomial 49*E2^2*E4^3 - 25*E2^2*E6^2 - 48*E2*E4^2*E6 - 25*E4^4 + 49*E4*E6^2 \n",
      "\n"
     ]
    }
   ],
   "source": [
    "F_8d = (E2 * E4 - E6)^2\n",
    "print_qm(F_8d, \"F_8d\")\n",
    "\n",
    "F_24d = 49 * E2^2 * E4^3 - 25 * E2^2 * E6^2 - 48 * E2 * E4^2 * E6 - 25 * E4^4 + 49 * E4 * E6^2\n",
    "print_qm(F_24d, \"F_24d\")"
   ]
  },
  {
   "cell_type": "markdown",
   "id": "07a14894",
   "metadata": {},
   "source": [
    "For a given quasimodular form $F$ and a list of other forms $F_i$, the following function tries to express a linear expression $F = \\sum_i c_i F_i$ using the first few Fourier coefficients."
   ]
  },
  {
   "cell_type": "code",
   "execution_count": 3,
   "id": "56407e63",
   "metadata": {},
   "outputs": [],
   "source": [
    "def qm_find_lin_comb(qm, ls):\n",
    "    w = qm.weight()\n",
    "    s = qm_depth(qm)\n",
    "    N = dim_qm(w, s)\n",
    "    m = matrix([qm_coefficients(qm_, N) for qm_ in ls])\n",
    "    c_ = vector(qm_coefficients(qm, N))\n",
    "    x_ = m.solve_left(c_)\n",
    "    r = sum(x_[j] * ls[j] for j in range(len(ls)))\n",
    "    assert qm == r\n",
    "    return x_"
   ]
  },
  {
   "cell_type": "markdown",
   "id": "49825e53",
   "metadata": {},
   "source": [
    "For example, the following code shows the identity $E_{10}' = \\frac{5}{3}E_{4} E_{6}' + 576\\Delta$."
   ]
  },
  {
   "cell_type": "code",
   "execution_count": 4,
   "id": "a2642193",
   "metadata": {},
   "outputs": [
    {
     "name": "stdout",
     "output_type": "stream",
     "text": [
      "E_10'\n",
      "\n",
      "q_expansion -264*q - 270864*q^2 - 15589728*q^3 - 277365792*q^4 - 2578126320*q^5 - 15995060928*q^6 - 74573467584*q^7 - 284022573120*q^8 - 920557851048*q^9 - 2645157604320*q^10 - 6847480097568*q^11 - 16379004749184*q^12 - 36394641851568*q^13 - 76512377741184*q^14 - 152243515448640*q^15 - 290839114879104*q^16 - 532222389723024*q^17 - 944492355175248*q^18 - 1618601492064480*q^19 + O(q^20) \n",
      "\n",
      "weight 12\n",
      "depth 1\n",
      "cusp order 1\n",
      "polynomial (-1/6) * (-5*E2*E4*E6 + 3*E4^3 + 2*E6^2) \n",
      "\n",
      "(5/3, 576)\n"
     ]
    }
   ],
   "source": [
    "E10 = E4 * E6\n",
    "print_qm(E10.derivative(), \"E_10'\")\n",
    "print(qm_find_lin_comb(E10.derivative(), [E4 * E6.derivative(), Disc]))"
   ]
  },
  {
   "cell_type": "markdown",
   "id": "ba9034f5",
   "metadata": {},
   "source": [
    "We also have a function to restrict a modular form as a function on the imaginary axis, i.e. the function $t \\mapsto F(it)$."
   ]
  },
  {
   "cell_type": "code",
   "execution_count": 5,
   "id": "aba2d692",
   "metadata": {},
   "outputs": [],
   "source": [
    "def qm_to_func(qm, prec=100):\n",
    "    t = var('t')\n",
    "    c = qm.q_expansion(prec).list()\n",
    "    func = c[0]\n",
    "    for i in range(1, prec):\n",
    "        func += c[i] * exp(-i * 2 * pi * t)\n",
    "    return func"
   ]
  },
  {
   "cell_type": "markdown",
   "id": "ff7870da",
   "metadata": {},
   "source": [
    "As an example, here is a plot of all the terms appearing in the definition of `F_24d`."
   ]
  },
  {
   "cell_type": "code",
   "execution_count": 6,
   "id": "ebccfa94",
   "metadata": {},
   "outputs": [
    {
     "data": {
      "image/png": "[encoded data removed]",
      "text/plain": [
       "Graphics object consisting of 6 graphics primitives"
      ]
     },
     "metadata": {},
     "output_type": "display_data"
    }
   ],
   "source": [
    "F_24d = 49 * E2^2 * E4^3 - 25 * E2^2 * E6^2 - 48 * E2 * E4^2 * E6 - 25 * E4^4 + 49 * E4 * E6^2\n",
    "C1 = 49 * E2^2 * E4^3\n",
    "C2 = - 25 * E2^2 * E6^2\n",
    "C3 = - 48 * E2 * E4^2 * E6\n",
    "C4 = - 25 * E4^4\n",
    "C5 = 49 * E4 * E6^2\n",
    "\n",
    "ls = [C1, C2, C3, C4, C5, F_24d]\n",
    "names = [\"49 * E2^2 * E4^3\", \"-25 * E2^2 * E6^2\", \"-48 * E2 * E4^2 * E6\", \"-25 * E4^4\", \"49 * E4 * E6^2\", \"F_24d\"]\n",
    "plots = [\n",
    "    plot(qm_to_func(ls[i]), (t, 0.85, 1.1), color=rainbow(len(ls))[i], legend_label=names[i]) for i in range(len(ls))\n",
    "]\n",
    "show(sum(plots))"
   ]
  },
  {
   "cell_type": "markdown",
   "id": "5b1c418b",
   "metadata": {},
   "source": [
    "# Level 2 quasimodular forms\n",
    "\n",
    "Level $\\Gamma(2)$ quasimodular forms can be written as polynomial in $E_2$, $H_2 = \\Theta_2^4$, $H_4 = \\Theta_4^4$, where $\\Theta_2$ and $\\Theta_4$ are Jacobi thetanulle functions. We implement the ring of quasimodular forms of level $\\Gamma(2)$ using this fact."
   ]
  },
  {
   "cell_type": "code",
   "execution_count": 7,
   "id": "95a42a76",
   "metadata": {},
   "outputs": [],
   "source": [
    "# E2_, E4_, E6_ are the usual Eisenstein series of level 1 and weight 2, 4, 6, but in the space of level 2 forms\n",
    "QM2.<H2, H4, E2_> = QQ['H2,H4,E2']\n",
    "E4_ = H2^2 + H2 * H4 + H4^2\n",
    "E6_ = (H2 + 2 * H4) * (2 * H2 + H4) * (H4 - H2) / 2\n",
    "Disc_ = H2^2 * (H2 + H4)^2 * H4^2 / 256\n",
    "\n",
    "\n",
    "# Weight\n",
    "def qm2_weight(qm):\n",
    "    w = None\n",
    "    for (a, b, e) in qm.dict().keys():\n",
    "        if w is None:\n",
    "            w = 2 * a + 2 * b + 2 * e\n",
    "        else:\n",
    "            assert w == 2 * a + 2 * b + 2 * e\n",
    "    return w\n",
    "\n",
    "# Depth\n",
    "def qm2_depth(qm):\n",
    "    dp = 0\n",
    "    for (_, _, e) in qm.dict().keys():\n",
    "        dp = max(e, dp)\n",
    "    return dp\n",
    "\n",
    "# Derivative of level 2 quasimodular form\n",
    "def qm2_derivative(qm):\n",
    "    r = QM2(0)\n",
    "    for (a, b, e), coeff in qm.dict().items():\n",
    "        r += (coeff / 6) * H2^a * H4^b * ((a - 2 * b) * H2 + (2 * a - b) * H4 + (a + b) * E2_) * E2_^e\n",
    "        if e >= 1:\n",
    "            r += coeff * H2^a * H4^b * e * E2_^(e-1) * (E2_^2 - E4_) / 12\n",
    "    return r\n",
    "\n",
    "# Serre derivative\n",
    "def qm2_serre_derivative(qm, k=None):\n",
    "    s = qm2_depth(qm)\n",
    "    if k is None:\n",
    "        # Serre derivative that preserves depth\n",
    "        k = qm2_weight(qm) - qm2_depth(qm)\n",
    "    return qm2_derivative(qm) - (k / 12) * E2_ * qm\n",
    "\n",
    "\n",
    "# Iterative Serre derivative\n",
    "def qm2_serre_derivative_fold(qm, r, k=None):\n",
    "    assert r >= 0\n",
    "    if r == 0:\n",
    "        return qm\n",
    "    elif r == 1:\n",
    "        return qm2_serre_derivative(qm, k)\n",
    "    else:\n",
    "        if k is None:\n",
    "            k = qm.weight() - qm2_depth(qm)\n",
    "        return qm2_serre_derivative(qm2_serre_derivative_fold(qm, r-1, k), k + 2 * (r-1))"
   ]
  },
  {
   "cell_type": "markdown",
   "id": "8598bdb7",
   "metadata": {},
   "source": [
    "Level $\\Gamma(2)$ quasimodular forms admit expansions in $q^{1/2}$ in general. The below functions give you an expansion in $q^{1/2}$, where the variable's name is `qh`."
   ]
  },
  {
   "cell_type": "code",
   "execution_count": 8,
   "id": "9ef966e1",
   "metadata": {},
   "outputs": [],
   "source": [
    "# q-series\n",
    "# Note that the variable `q` in the expansion is in fact e^(pi * i * z), which is `q^(1/2)`.\n",
    "# The default precision is fixed (which is enough for our purpose), but you can increase it\n",
    "prec = 80\n",
    "qh = var('qh')  # q^1/2\n",
    "\n",
    "def sigma(k, m):\n",
    "    r = 0\n",
    "    for i in range(1, k + 1):\n",
    "        if k%i == 0:\n",
    "            r += i^m\n",
    "    return r\n",
    "\n",
    "def r4(k):\n",
    "    if k == 0:\n",
    "        return 1\n",
    "    elif k % 4 == 0:\n",
    "        return 8 * sigma(k, 1) - 32 * sigma(k / 4, 1)\n",
    "    else:\n",
    "        return 8 * sigma(k, 1)\n",
    "\n",
    "# q-series of Jacobi thetanulle functions\n",
    "H3ser = 1\n",
    "for i in range(1, prec):\n",
    "    H3ser += r4(i) * qh^i\n",
    "H4ser = 1\n",
    "for i in range(1, prec):\n",
    "    H4ser += (-1)^i * r4(i) * qh^i\n",
    "H2ser = H3ser - H4ser\n",
    "\n",
    "# q-series of Eisenstein series\n",
    "E2ser = 1\n",
    "for i in range(1, prec):\n",
    "    E2ser -= 24 * sigma(i, 1) * qh^(2 * i)\n",
    "\n",
    "E4ser = 1\n",
    "for i in range(1, prec):\n",
    "    E4ser += 240 * sigma(i, 3) * qh^(2 * i)\n",
    "    \n",
    "E6ser = 1\n",
    "for i in range(1, prec):\n",
    "    E6ser -= 504 * sigma(i, 5) * qh^(2 * i)\n",
    "\n",
    "def qm2_q_series(qm, prec=20):\n",
    "    # Recall that the series is in q^(1/2)\n",
    "    r = 0\n",
    "    H2ser_ = H2ser.series(qh, prec)\n",
    "    H4ser_ = H4ser.series(qh, prec)\n",
    "    E2ser_ = E2ser.series(qh, prec)\n",
    "    for (a, b, e), coeff in qm.dict().items():\n",
    "        r += coeff * H2ser_^a * H4ser_^b * E2ser_^e\n",
    "    return r.series(qh, prec)\n",
    "\n",
    "# Cusp order\n",
    "def qm2_cusp_order(qm):\n",
    "    N = 50\n",
    "    c = qm2_q_series(qm, N).list()\n",
    "    for i in range(N):\n",
    "        if c[i] != 0:\n",
    "            return i / 2\n",
    "\n",
    "# First nonzero Fourier coefficient\n",
    "def qm2_first_nonzero_coeff(qm):\n",
    "    N = 100\n",
    "    c = qm2_q_series(qm, N).list()\n",
    "    for i in range(N):\n",
    "        if c[i] != 0:\n",
    "            return Rational(c[i])\n",
    "\n",
    "def qm2_normalize(qm):\n",
    "    return qm / qm2_first_nonzero_coeff(qm)\n",
    "\n",
    "def print_qm2(qm, name, prec=30):\n",
    "    print(name + \"\\n\")\n",
    "    print(\"q_expansion\", qm2_q_series(qm, prec), \"\\n\")\n",
    "    print(\"weight\", qm2_weight(qm))\n",
    "    print(\"depth\", qm2_depth(qm))\n",
    "    print(\"cusp order\", qm2_cusp_order(qm))\n",
    "    print(\"polynomial\", qm.factor(), \"\\n\")"
   ]
  },
  {
   "cell_type": "code",
   "execution_count": 9,
   "id": "46e56fd7",
   "metadata": {},
   "outputs": [
    {
     "name": "stdout",
     "output_type": "stream",
     "text": [
      "H3\n",
      "\n",
      "q_expansion 1 + 8*qh + 24*qh^2 + 32*qh^3 + 24*qh^4 + 48*qh^5 + 96*qh^6 + 64*qh^7 + 24*qh^8 + 104*qh^9 + 144*qh^10 + 96*qh^11 + 96*qh^12 + 112*qh^13 + 192*qh^14 + 192*qh^15 + 24*qh^16 + 144*qh^17 + 312*qh^18 + 160*qh^19 + 144*qh^20 + 256*qh^21 + 288*qh^22 + 192*qh^23 + 96*qh^24 + 248*qh^25 + 336*qh^26 + 320*qh^27 + 192*qh^28 + 240*qh^29 + Order(qh^30) \n",
      "\n",
      "weight 2\n",
      "depth 0\n",
      "cusp order 0\n",
      "polynomial H2 + H4 \n",
      "\n"
     ]
    }
   ],
   "source": [
    "print_qm2(H2 + H4, \"H3\")  # Jacobi identity"
   ]
  },
  {
   "cell_type": "markdown",
   "id": "a152bbcb",
   "metadata": {},
   "source": [
    "We can also define `qm2_find_lin_comb` for level $\\Gamma(2)$ quasimodular forms."
   ]
  },
  {
   "cell_type": "code",
   "execution_count": 10,
   "id": "c143be49",
   "metadata": {},
   "outputs": [],
   "source": [
    "def m2_basis(w):\n",
    "    basis = []\n",
    "    if w == 0:\n",
    "        return [1]\n",
    "    for j in range(w // 2 + 1):\n",
    "        basis.append(H2^j * H4^(w / 2 - j))\n",
    "    return basis\n",
    "\n",
    "def dim_m2(w):\n",
    "    return w / 2 + 1\n",
    "\n",
    "def qm2_basis(w, s=None):\n",
    "    basis = []\n",
    "    if s is None:\n",
    "        s = w / 2\n",
    "    for k in range(s + 1):\n",
    "        mf_basis = m2_basis(w - 2 * k)\n",
    "        for mf in mf_basis:\n",
    "            basis.append(E2_^k * mf)\n",
    "    return basis\n",
    "\n",
    "def dim_qm2(w, s=None):\n",
    "    if s is None:\n",
    "        s = w / 2\n",
    "    d = 0\n",
    "    for k in range(s + 1):\n",
    "        d += dim_m2(w - 2 * k)\n",
    "    return d\n",
    "\n",
    "def qm2_find_lin_comb(qm, ls, prec=40):\n",
    "    w = qm2_weight(qm)\n",
    "    s = qm2_depth(qm)\n",
    "    N = dim_qm2(w, s)\n",
    "    m = matrix([qm2_q_series(qm_, N).list()[:N] for qm_ in ls])\n",
    "    c_ = vector(qm2_q_series(qm, N).list())\n",
    "    x_ = m.solve_left(c_)\n",
    "    # check if we get the right result\n",
    "    r = sum(Rational(x_[j]) * ls[j] for j in range(len(ls)))\n",
    "    assert r == qm\n",
    "    return x_"
   ]
  },
  {
   "cell_type": "markdown",
   "id": "44249946",
   "metadata": {},
   "source": [
    "We can also embed a level $1$ form as a level $\\Gamma(2)$ form."
   ]
  },
  {
   "cell_type": "code",
   "execution_count": 11,
   "id": "7f475ae5",
   "metadata": {},
   "outputs": [],
   "source": [
    "# Rewrite level 1 quasimodular forms as level Gamma(2) forms\n",
    "def l1_to_l2(qm):\n",
    "    r = QM2(0)\n",
    "    for (d2, d4, d6), coeff in qm.polynomial().dict().items():\n",
    "        r += coeff * E2_^d2 * E4_^d4 * E6_^d6\n",
    "    return r"
   ]
  },
  {
   "cell_type": "code",
   "execution_count": 12,
   "id": "94d7bd09",
   "metadata": {},
   "outputs": [],
   "source": [
    "assert l1_to_l2(E2) == E2_\n",
    "assert l1_to_l2(E4) == E4_\n",
    "assert l1_to_l2(E6) == E6_"
   ]
  },
  {
   "cell_type": "markdown",
   "id": "1156a1c7",
   "metadata": {},
   "source": [
    "The subring of quasimodular forms of level $\\Gamma_0(2) \\subset \\Gamma(2)$ is generated by $A = H_2^2$ and $B = H_2 + 2 H_4$. They are invariant under $z \\mapsto z + 1$, so there are no $q^{\\text{odd}/2}$ terms appearing in $q$-expansions. Especially, in terms of our variable `q`, only even powers appear. We can compute a basis of the ring of modular forms of level $\\Gamma_0(2)$ and the dimensions."
   ]
  },
  {
   "cell_type": "code",
   "execution_count": 13,
   "id": "12dc1997",
   "metadata": {},
   "outputs": [],
   "source": [
    "# Generators\n",
    "A = H2^2\n",
    "B = H2 + 2 * H4\n",
    "\n",
    "\n",
    "def gamma02_basis(w):\n",
    "    basis = []\n",
    "    if w == 0:\n",
    "        return [1]\n",
    "    assert w % 2 == 0\n",
    "    for j in range(w // 4 + 1):\n",
    "        basis.append(A^j * B^(w / 2 - 2 * j))\n",
    "    return basis\n",
    "\n",
    "def gamma02_dim(w):\n",
    "    return w // 4 + 1\n",
    "\n",
    "\n",
    "def qm_gamma02_basis(w, s=None):\n",
    "    basis = []\n",
    "    if s is None:\n",
    "        s = w / 2\n",
    "    for k in range(s + 1):\n",
    "        mf_basis = gamma02_basis(w - 2 * k)\n",
    "        for mf in mf_basis:\n",
    "            basis.append(E2_^k * mf)\n",
    "    return basis\n",
    "\n",
    "def qm_gamma02_dim(w, s=None):\n",
    "    if s is None:\n",
    "        s = w / 2\n",
    "    d = 0\n",
    "    for k in range(s + 1):\n",
    "        d += gamma02_dim(w - 2 * k)\n",
    "    return d"
   ]
  },
  {
   "cell_type": "markdown",
   "id": "7d1b7c06",
   "metadata": {},
   "source": [
    "Note that both $A$ and $B$ have nonnegative Fourier coefficients."
   ]
  },
  {
   "cell_type": "code",
   "execution_count": 14,
   "id": "2c890da3",
   "metadata": {},
   "outputs": [
    {
     "name": "stdout",
     "output_type": "stream",
     "text": [
      "A = H_2^2\n",
      "\n",
      "q_expansion 256*qh^2 + 2048*qh^4 + 7168*qh^6 + 16384*qh^8 + 32256*qh^10 + 57344*qh^12 + 88064*qh^14 + 131072*qh^16 + 193792*qh^18 + 258048*qh^20 + 340992*qh^22 + 458752*qh^24 + 562688*qh^26 + 704512*qh^28 + Order(qh^30) \n",
      "\n",
      "weight 4\n",
      "depth 0\n",
      "cusp order 1\n",
      "polynomial H2^2 \n",
      "\n",
      "B = H_2 + 2 * H_4\n",
      "\n",
      "q_expansion 2 + 48*qh^2 + 48*qh^4 + 192*qh^6 + 48*qh^8 + 288*qh^10 + 192*qh^12 + 384*qh^14 + 48*qh^16 + 624*qh^18 + 288*qh^20 + 576*qh^22 + 192*qh^24 + 672*qh^26 + 384*qh^28 + Order(qh^30) \n",
      "\n",
      "weight 2\n",
      "depth 0\n",
      "cusp order 0\n",
      "polynomial H2 + 2*H4 \n",
      "\n"
     ]
    }
   ],
   "source": [
    "print_qm2(A, \"A = H_2^2\")\n",
    "print_qm2(B, \"B = H_2 + 2 * H_4\")"
   ]
  },
  {
   "cell_type": "code",
   "execution_count": 15,
   "id": "f68af372",
   "metadata": {},
   "outputs": [],
   "source": [
    "def qm2_to_func(qm, prec=100):\n",
    "    qser = qm2_q_series(qm, prec=prec)\n",
    "    c = qser.list()\n",
    "    t = var('t')\n",
    "    func = c[0]\n",
    "    for i in range(1, len(c)):\n",
    "        func += c[i] * exp(-i * pi * t)  # note q^(1/2) = e^(sqrt(-1) * pi * z)\n",
    "    return func"
   ]
  },
  {
   "cell_type": "markdown",
   "id": "ae46d891",
   "metadata": {},
   "source": [
    "For a given quasimodular form $f(z)$ of level $1$, $f^{(2)}(z) := f(2z)$ defines a quaismodular form of level $\\Gamma_0(2) \\subset \\Gamma(2)$ (which are called *old forms*)."
   ]
  },
  {
   "cell_type": "code",
   "execution_count": 16,
   "id": "78aac1d1",
   "metadata": {},
   "outputs": [],
   "source": [
    "# Eisenstein series E_2(2z), E_4(2z), and E_6(2z)\n",
    "E2_2 = (B + 2 * E2_) / 4\n",
    "E4_2 = B^2 / 4 - 3 * A / 16\n",
    "E6_2 = B^3 / 8 - 9 * A * B / 64\n",
    "\n",
    "\n",
    "def double_level(qm):\n",
    "    # f(z) -> f(2z), from level Gamma(1) to Gamma_0(2)\n",
    "    r = QM2(0)\n",
    "    for (d2, d4, d6), coeff in qm.polynomial().dict().items():\n",
    "        r += coeff * E2_2^d2 * E4_2^d4 * E6_2^d6\n",
    "    return r"
   ]
  },
  {
   "cell_type": "code",
   "execution_count": 17,
   "id": "d3b2132b",
   "metadata": {},
   "outputs": [
    {
     "name": "stdout",
     "output_type": "stream",
     "text": [
      "E2(2z)\n",
      "\n",
      "q_expansion 1 + (-24)*qh^4 + (-72)*qh^8 + (-96)*qh^12 + (-168)*qh^16 + (-144)*qh^20 + (-288)*qh^24 + (-192)*qh^28 + Order(qh^30) \n",
      "\n",
      "weight 2\n",
      "depth 1\n",
      "cusp order 0\n",
      "polynomial (1/4) * (H2 + 2*H4 + 2*E2) \n",
      "\n",
      "E4(2z)\n",
      "\n",
      "q_expansion 1 + 240*qh^4 + 2160*qh^8 + 6720*qh^12 + 17520*qh^16 + 30240*qh^20 + 60480*qh^24 + 82560*qh^28 + Order(qh^30) \n",
      "\n",
      "weight 4\n",
      "depth 0\n",
      "cusp order 0\n",
      "polynomial (1/16) * (H2^2 + 16*H2*H4 + 16*H4^2) \n",
      "\n",
      "E6(2z)\n",
      "\n",
      "q_expansion 1 + (-504)*qh^4 + (-16632)*qh^8 + (-122976)*qh^12 + (-532728)*qh^16 + (-1575504)*qh^20 + (-4058208)*qh^24 + (-8471232)*qh^28 + Order(qh^30) \n",
      "\n",
      "weight 6\n",
      "depth 0\n",
      "cusp order 0\n",
      "polynomial (-1/64) * (H2 + 2*H4) * (H2^2 - 32*H2*H4 - 32*H4^2) \n",
      "\n"
     ]
    }
   ],
   "source": [
    "print_qm2(E2_2, \"E2(2z)\")\n",
    "print_qm2(E4_2, \"E4(2z)\")\n",
    "print_qm2(E6_2, \"E6(2z)\")"
   ]
  },
  {
   "cell_type": "code",
   "execution_count": 18,
   "id": "e43638ad",
   "metadata": {},
   "outputs": [],
   "source": [
    "# Returns a list of modular components of a given level \\Gamma(2) quasimodular form\n",
    "def qm2_components(qm):\n",
    "    s = qm2_depth(qm)\n",
    "    comps = [QM2(0)] * (s + 1)\n",
    "    for (a, b, e), coeff in qm.dict().items():\n",
    "        # monomial: coeff * H2^a * H4^b * E2_^e\n",
    "        comps[e] += coeff * H2^a * H4^b\n",
    "    return comps\n",
    "\n",
    "H2_T = -H2\n",
    "H4_T = H2 + H4  # H3\n",
    "# Computes T-action of a given modular form of level \\Gamma(2).\n",
    "def m2_T_action(m):\n",
    "    assert qm2_depth(m) == 0, \"Not a genuine modular form.\"\n",
    "    r = QM2(0)\n",
    "    for (a, b, _), coeff in m.dict().items():\n",
    "        r += coeff * H2_T^a * H4_T^b\n",
    "    return r"
   ]
  },
  {
   "cell_type": "markdown",
   "id": "757c859b",
   "metadata": {},
   "source": [
    "# Extremal quasimodular forms\n",
    "\n",
    "For given $w$ and $s$, **extremal quasimodular form** of weight $w$ and depth $s$ is defined as a quasimodular form with the maximum possible order of vanishing at infinity (Kaneko-Koike, 2003). It is shown that the extremal form is unique up to a constant for $s \\leq 4$ (Pellarin, 2020). Also, we have a recursive formula for those extremal forms (Grabner, 2020). Below codes return the normalized extremal quasimodular form of given weight and depth for depth $1$ and $2$ using Grabner's recurrence relation. For depth $\\geq 3$, we compute the extremal form naively using the Eisenstein series basis. Note that there are similar but complicated recurrence relations for depth $3$ and $4$ by Grabner, and the (unique) existence of extremal forms in the case of depth $\\geq 5$ is still open."
   ]
  },
  {
   "cell_type": "code",
   "execution_count": 22,
   "id": "55e79ed7",
   "metadata": {},
   "outputs": [],
   "source": [
    "# Use cache\n",
    "from functools import lru_cache\n",
    "\n",
    "\n",
    "# Extremal quasimodular forms\n",
    "def is_extremal_qm(qm):\n",
    "    # Check if a given quasimodular form is extremal (in the sense of Kaneko-Koike)\n",
    "    s = qm_depth(qm)\n",
    "    w = qm.weight()\n",
    "    d = dim_qm(w, s)\n",
    "    order = qm_cusp_order(qm)\n",
    "    return d - 1 == order\n",
    "    \n",
    "@lru_cache(maxsize=None)\n",
    "def _extremal_qm_d1(w):\n",
    "    if w < 6:\n",
    "        assert False, \"weight should be >= 6\"\n",
    "    if w == 6:\n",
    "        return (1 / 720) * (E2 * E4 - E6)\n",
    "    else:\n",
    "        if w % 6 == 0:\n",
    "            _qm = _extremal_qm_d1(w - 6)\n",
    "            res = E4 * qm_serre_derivative(_qm, w - 7) - ((w - 5) / 12) * E6 * _qm\n",
    "            res *= w / (72 * (w - 5) * (w - 1))\n",
    "            assert is_extremal_qm(res), \"not extremal\"\n",
    "            return res\n",
    "        elif w % 6 == 2:\n",
    "            _qm = _extremal_qm_d1(w - 2)\n",
    "            res = (12 / (w - 1)) * qm_serre_derivative(_qm, w - 3)\n",
    "            assert is_extremal_qm(res), \"not extremal\"\n",
    "            return res\n",
    "        elif w % 6 == 4:\n",
    "            _qm = _extremal_qm_d1(w - 4)\n",
    "            res = E4 * _qm\n",
    "            assert is_extremal_qm(res), \"not extremal\"\n",
    "            return res\n",
    "        else:\n",
    "            assert False, \"weight is odd\"\n",
    "    \n",
    "@lru_cache(maxsize=None)\n",
    "def _extremal_qm_d2(w):\n",
    "    if w < 4:\n",
    "        assert False, \"weight should be >= 4\"\n",
    "    if w == 4:\n",
    "        return (1 / 288) * (E4 - E2^2)\n",
    "    elif w % 4 == 0:\n",
    "        _qm = _extremal_qm_d2(w - 4)\n",
    "        res = ((w - 3) * (w - 4) / 36) * E4 * _qm\n",
    "        res -= qm_serre_derivative(qm_serre_derivative(_qm, w - 6), w - 4)\n",
    "        res *= (3 * (w)^2) / (16 * (w - 1) * (w - 2)^2 * (w - 3))\n",
    "        assert is_extremal_qm(res), \"not extremal\"\n",
    "        return res\n",
    "    elif w % 4 == 2:\n",
    "        _qm = _extremal_qm_d2(w - 2)\n",
    "        res = qm_serre_derivative(_qm, w - 4)\n",
    "        res *= (6 / (w - 1))\n",
    "        assert is_extremal_qm(res), \"not extremal\"\n",
    "        return res\n",
    "    else:\n",
    "        assert False, \"weight is odd\"\n",
    "\n",
    "@lru_cache(maxsize=None)\n",
    "def extremal_qm(weight, depth):\n",
    "    # Find the extremal qmf (if exists) for given weight and depth\n",
    "    # The result is normalized so that first nonzero coefficient is 1\n",
    "    assert (0 <= depth <= weight/2 and 2 * (depth + 1) != weight), \"inappropriate weight and depths\"\n",
    "    \n",
    "    if depth == 1:\n",
    "        return _extremal_qm_d1(weight)\n",
    "    if depth == 2:\n",
    "        return _extremal_qm_d2(weight)\n",
    "\n",
    "    bs = qmf_basis(weight, depth)\n",
    "    d = dim_qm(weight, depth)\n",
    "    m = matrix([coefficients(qm_, d) for qm_ in bs])\n",
    "    c_ = vector([0] * (d - 1) + [1])\n",
    "    x_ = m.solve_left(c_)\n",
    "      \n",
    "    ans = sum(x_[j] * bs[j] for j in range(d))\n",
    "    return normalize(ans)"
   ]
  },
  {
   "cell_type": "markdown",
   "id": "4824f89e",
   "metadata": {},
   "source": [
    "We can *guess* the recursive relations for $X_{w, 1}$ and their derivatives from the below results, which are\n",
    "$$\n",
    "\\begin{align*}\n",
    "X_{w, 1}' &= \\frac{5w}{72} X_{6, 1} X_{w-4, 1} + \\frac{7w}{72} X_{8, 1} X_{w-6, 1} \\\\\n",
    "X_{w+2, 1}' &= \\frac{5w}{72} X_{6, 1} X_{w-2, 1} + \\frac{7w}{72} X_{8, 1} X_{w-4, 1} \\\\\n",
    "X_{w+4, 1}' &= 240 X_{6, 1}X_{w, 1} + \\frac{7w}{72} X_{8, 1} X_{w-2, 1} + \\frac{5w}{72} X_{10, 1} X_{w-4, 1} \n",
    "\\end{align*}\n",
    "$$\n",
    "for $w\\equiv 0\\,(\\mathrm{mod}\\,6), w\\geq 12$."
   ]
  },
  {
   "cell_type": "code",
   "execution_count": null,
   "id": "dcec91f4",
   "metadata": {},
   "outputs": [
    {
     "name": "stdout",
     "output_type": "stream",
     "text": [
      "w = 6k\n",
      "12 2 0\n",
      "18 5/4 7/4\n",
      "24 5/3 7/3\n",
      "30 25/12 35/12\n",
      "36 5/2 7/2\n",
      "42 35/12 49/12\n",
      "48 10/3 14/3\n",
      "54 15/4 21/4\n"
     ]
    }
   ],
   "source": [
    "X_6_1 = extremal_qm(6, 1)\n",
    "X_8_1 = extremal_qm(8, 1)\n",
    "X_10_1 = extremal_qm(10, 1)\n",
    "\n",
    "# w = 6k\n",
    "print(\"w = 6k\")\n",
    "for w in range(12, 61, 6):\n",
    "    X_wm6_1 = extremal_qm(w-6, 1)\n",
    "    X_wm4_1 = extremal_qm(w-4, 1)\n",
    "\n",
    "    X_w_1 = extremal_qm(w, 1)\n",
    "    dX_w_1 = X_w_1.derivative()\n",
    "    \n",
    "    c = qm_find_lin_comb(dX_w_1, [X_6_1 * X_wm4_1, X_8_1 * X_wm6_1])\n",
    "    print(w, c[0], c[1])\n",
    "print()\n",
    "\n",
    "# w = 6k + 2\n",
    "print(\"w = 6k + 2\")\n",
    "for w in range(12, 61, 6):\n",
    "    X_wm2_1 = extremal_qm(w-2, 1)\n",
    "    X_wm4_1 = extremal_qm(w-4, 1)\n",
    "\n",
    "    X_wp2_1 = extremal_qm(w+2, 1)\n",
    "    dX_wp2_1 = X_wp2_1.derivative()\n",
    "    \n",
    "    c = qm_find_lin_comb(dX_wp2_1, [X_6_1 * X_wm2_1, X_8_1 * X_wm4_1])\n",
    "    print(w + 2, c[0], c[1])\n",
    "print()\n",
    "\n",
    "# w = 6k + 4\n",
    "print(\"w = 6k + 4\")\n",
    "for w in range(12, 61, 6):\n",
    "    X_w_1 = extremal_qm(w, 1)\n",
    "    X_wm2_1 = extremal_qm(w-2, 1)\n",
    "    X_wm4_1 = extremal_qm(w-4, 1)\n",
    "\n",
    "    X_wp4_1 = extremal_qm(w+4, 1)\n",
    "    dX_wp4_1 = X_wp4_1.derivative()\n",
    "    \n",
    "    c = qm_find_lin_comb(dX_wp4_1, [X_6_1 * X_w_1, X_8_1 * X_wm2_1, X_10_1 * X_wm4_1])\n",
    "    print(w + 4, c[0], c[1], c[2])"
   ]
  },
  {
   "cell_type": "markdown",
   "id": "2457cd71",
   "metadata": {},
   "source": [
    "Here's a list of depth $2$ extremal forms of weight $w \\leq 14$."
   ]
  },
  {
   "cell_type": "code",
   "execution_count": null,
   "id": "41836b47",
   "metadata": {},
   "outputs": [],
   "source": [
    "for w in range(4, 15, 2):\n",
    "    if w != 6:\n",
    "        print_qm(extremal_qm(w, 2), \"X_\" + str(w) + \",2\")"
   ]
  },
  {
   "cell_type": "markdown",
   "id": "5a6c916d",
   "metadata": {},
   "source": [
    "We can prove complete positivity of these by using *exceptional identities*."
   ]
  },
  {
   "cell_type": "code",
   "execution_count": null,
   "id": "9dfdcb22",
   "metadata": {},
   "outputs": [],
   "source": [
    "X_12_1 = extremal_qm(12, 1)\n",
    "\n",
    "X_4_2 = extremal_qm(4, 2)\n",
    "X_8_2 = extremal_qm(8, 2)\n",
    "X_10_2 = extremal_qm(10, 2)\n",
    "X_12_2 = extremal_qm(12, 2)\n",
    "X_14_2 = extremal_qm(14, 2)\n",
    "\n",
    "# identities\n",
    "assert X_8_2.derivative() == 2 * X_4_2 * X_6_1\n",
    "assert X_10_2.derivative() == (8/9) * X_4_2 * X_8_1 + (10/9) * X_6_1^2\n",
    "assert X_12_2.derivative() == 3 * X_6_1 * X_8_2\n",
    "assert X_14_2.derivative() == 3 * X_4_2 * X_12_1"
   ]
  },
  {
   "cell_type": "markdown",
   "id": "4ccd759a",
   "metadata": {},
   "source": [
    "# Proof of the inequalities"
   ]
  },
  {
   "cell_type": "markdown",
   "id": "4cfb8ff0",
   "metadata": {},
   "source": [
    "## $d = 8$\n",
    "\n",
    "For dimension $8$, we have two modular forms $F$ and $G$ correspond to $(+1)$ and $(-1)$ Fourier eigenfunctions."
   ]
  },
  {
   "cell_type": "code",
   "execution_count": null,
   "id": "1052ed7d",
   "metadata": {},
   "outputs": [],
   "source": [
    "F_8d = (E2 * E4 - E6)^2\n",
    "print_qm(F_8d, \"F_8d\")\n",
    "\n",
    "G_8d = H2^3 * (2 * H2^2 + 5 * H2 * H4 + 5 * H4^2)\n",
    "print_qm2(G_8d, \"G_8d\")"
   ]
  },
  {
   "cell_type": "markdown",
   "id": "81333efe",
   "metadata": {},
   "source": [
    "The following graph of the quotient $F(it) / G(it)$ suggests us to prove: the function is monotone decreasing, and the limit as $t \\to 0^+$ is $18 / \\pi^2$."
   ]
  },
  {
   "cell_type": "code",
   "execution_count": null,
   "id": "35a93fc8",
   "metadata": {},
   "outputs": [],
   "source": [
    "f_8d = qm_to_func(F_8d, prec=100)\n",
    "g_8d = qm2_to_func(G_8d, prec=100)\n",
    "\n",
    "q_8d = f_8d / g_8d\n",
    "lim_8d = 18 / pi^2\n",
    "\n",
    "\n",
    "p = plot(lim_8d, (t, 0.1, 2.0), color=\"red\", legend_label=\"18 / pi^2\", linestyle=\"dashed\") + \\\n",
    "    plot(q_8d, (t, 0.1, 2.0), color=\"blue\", legend_label=\"F(it) / G(it)\")\n",
    "show(p)"
   ]
  },
  {
   "cell_type": "markdown",
   "id": "8f79ca2f",
   "metadata": {},
   "source": [
    "To prove monotonicity, one needs to prove that $\\mathcal{L}_{1, 0} := F'G - FG' = (\\partial_{10} F) G - F (\\partial_{10}G)$ is positive. Proof uses the following differential equations satisfied by $F$ and $G$:\n",
    "$$\n",
    "\\begin{align*}\n",
    "\\partial_{10}^{2}F &= \\frac{5}{6} E_4 F + 172800 \\Delta X_{4, 2} \\\\\n",
    "\\partial_{10}^{2}G &= \\frac{5}{6} E_4 G - 640 \\Delta H_{2}\n",
    "\\end{align*}\n",
    "$$\n",
    "which implies the identity $\\partial_{22} \\mathcal{L}_{1, 0} = \\mathcal{L}_{2, 0} = \\Delta(172800 X_{4, 2} G + 640 H_2 F) > 0$."
   ]
  },
  {
   "cell_type": "code",
   "execution_count": null,
   "id": "e7b6133a",
   "metadata": {
    "scrolled": false
   },
   "outputs": [],
   "source": [
    "F_8d_ = l1_to_l2(F_8d)\n",
    "L_1_0_8d = qm2_serre_derivative(F_8d_, 10) * G_8d - F_8d_ * qm2_serre_derivative(G_8d, 10)\n",
    "assert L_1_0_8d == qm2_derivative(F_8d_) * G_8d - F_8d_ * qm2_derivative(G_8d)\n",
    "print_qm2(L_1_0_8d, \"L_1,0\")\n",
    "\n",
    "# F_8d and G_8d satisfy the following differential identities\n",
    "a = 172800\n",
    "b = 640\n",
    "assert qm_serre_derivative_fold(F_8d, 2, 10) == (5/6) * E4 * F_8d + a * Disc * extremal_qm(4, 2)\n",
    "assert qm2_serre_derivative_fold(G_8d, 2, 10) == (5/6) * E4_ * G_8d - b * Disc_ * H2\n",
    "\n",
    "# Now, take Serre derivative of L_1,0, which gives L_2,0\n",
    "L_2_0_8d = qm2_serre_derivative_fold(F_8d_, 2, 10) * G_8d - F_8d_ * qm2_serre_derivative_fold(G_8d, 2, 10)\n",
    "assert qm2_serre_derivative(L_1_0_8d, 22) == L_2_0_8d\n",
    "assert L_2_0_8d == Disc_ * (a * l1_to_l2(extremal_qm(4, 2)) * G_8d + b * H2 * F_8d_)"
   ]
  },
  {
   "cell_type": "markdown",
   "id": "09ab7d64",
   "metadata": {},
   "source": [
    "## $d = 24$\n",
    "\n",
    "The (quasi)modular forms for the $24$-dimensional magic function are following."
   ]
  },
  {
   "cell_type": "code",
   "execution_count": null,
   "id": "9b1ccf69",
   "metadata": {
    "scrolled": false
   },
   "outputs": [],
   "source": [
    "F_24d = 49 * E2^2 * E4^3 - 25 * E2^2 * E6^2 - 48 * E2 * E4^2 * E6 - 25 * E4^4 + 49 * E4 * E6^2\n",
    "print_qm(F_24d, \"F_24d\")\n",
    "\n",
    "G_24d = H2^5 * (2 * H2^2 + 7 * H2 * H4 + 7 * H4^2)\n",
    "print_qm2(G_24d, \"G_24d\")"
   ]
  },
  {
   "cell_type": "markdown",
   "id": "40c20263",
   "metadata": {},
   "source": [
    "The following graph supports our idea: the quotient $F(it) / G(it)$ is a decreasing function, and the limit as $t \\to 0^+$ is $432 / \\pi^2$."
   ]
  },
  {
   "cell_type": "code",
   "execution_count": null,
   "id": "c52a7b99",
   "metadata": {},
   "outputs": [],
   "source": [
    "f_24d = qm_to_func(F_24d, prec=100)\n",
    "g_24d = qm2_to_func(G_24d, prec=100)\n",
    "\n",
    "q_24d = f_24d / g_24d\n",
    "lim_24d = 432 / pi^2\n",
    "\n",
    "p = plot(lim_24d, (t, 0.1, 2.0), color=\"red\", legend_label=\"432 / pi^2\", linestyle=\"dashed\") + \\\n",
    "    plot(q_24d, (t, 0.1, 2.0), color=\"blue\", legend_label=\"F(it) / G(it)\")\n",
    "show(p)"
   ]
  },
  {
   "cell_type": "markdown",
   "id": "65d25d59",
   "metadata": {},
   "source": [
    "It is clear from the expression that $G$ is positive. For $F$, the Serre derivative $\\partial_{14}F$ of $F$ factors as a product of extremal forms$X_{6,1}$ and $X_{12,1}$, which are both (completely) positive. This implies positivity of $F$."
   ]
  },
  {
   "cell_type": "code",
   "execution_count": null,
   "id": "65971a60",
   "metadata": {},
   "outputs": [],
   "source": [
    "SF_24d = qm_serre_der_weight(F_24d, 14)\n",
    "print_qm(SF_24d, \"S_14(F_24d)\")\n",
    "\n",
    "X_6_1 = extremal_qm(6, 1)\n",
    "X_12_1 = extremal_qm(12, 1)\n",
    "print_qm(X_6_1, \"X_6,1\")\n",
    "print_qm(X_12_1, \"X_12,1\")\n",
    "\n",
    "assert SF_24d == 6706022400 * X_6_1 * X_12_1"
   ]
  },
  {
   "cell_type": "markdown",
   "id": "e85f3e91",
   "metadata": {},
   "source": [
    "To prove monotonicity, as $d = 8$ case, one needs to prove that $\\mathcal{L}_{1, 0} := F'G - FG' = (\\partial_{14} F) G - F (\\partial_{14}G)$ is positive. Proof uses the following differential equations satisfied by $F$ and $G$:\n",
    "$$\n",
    "\\begin{align*}\n",
    "\\partial_{10}^{2}F &= \\frac{14}{9} E_4 F + 5486745600 \\Delta X_{8, 2} \\\\\n",
    "\\partial_{10}^{2}G &= \\frac{14}{9} E_4 G\n",
    "\\end{align*}\n",
    "$$\n",
    "which implies the identity $\\partial_{30} \\mathcal{L}_{1, 0} = \\mathcal{L}_{2, 0} = c\\Delta X_{8, 2} G > 0$."
   ]
  },
  {
   "cell_type": "code",
   "execution_count": null,
   "id": "b19de359",
   "metadata": {
    "scrolled": false
   },
   "outputs": [],
   "source": [
    "F_24d_ = l1_to_l2(F_24d)\n",
    "L_1_0_24d = qm2_serre_derivative(F_24d_, 14) * G_24d - F_24d_ * qm2_serre_derivative(G_24d, 14)\n",
    "assert L_1_0_24d == qm2_derivative(F_24d_) * G_24d - F_24d_ * qm2_derivative(G_24d)\n",
    "print_qm2(L_1_0_24d, \"L_1,0\")\n",
    "\n",
    "# F_24d and G_24d satisfy the following differential identities\n",
    "c = 5486745600\n",
    "assert qm_serre_derivative_fold(F_24d, 2, 14) == (14/9) * E4 * F_24d + c * Disc * extremal_qm(8, 2)\n",
    "assert qm2_serre_derivative_fold(G_24d, 2, 14) == (14/9) * E4_ * G_24d\n",
    "\n",
    "# Now, take Serre derivative of L_1,0, which gives L_2,0\n",
    "L_2_0_24d = qm2_serre_derivative_fold(F_24d_, 2, 14) * G_24d - F_24d_ * qm2_serre_derivative_fold(G_24d, 2, 14)\n",
    "assert qm2_serre_derivative(L_1_0_24d, 30) == L_2_0_24d\n",
    "assert L_2_0_24d == c * Disc_ * l1_to_l2(extremal_qm(8, 2)) * G_24d"
   ]
  },
  {
   "cell_type": "code",
   "execution_count": null,
   "id": "0694434d",
   "metadata": {},
   "outputs": [],
   "source": []
  }
 ],
 "metadata": {
  "kernelspec": {
   "display_name": "SageMath 9.8",
   "language": "sage",
   "name": "sagemath-9.8"
  },
  "language_info": {
   "codemirror_mode": {
    "name": "ipython",
    "version": 3
   },
   "file_extension": ".py",
   "mimetype": "text/x-python",
   "name": "python",
   "nbconvert_exporter": "python",
   "pygments_lexer": "ipython3",
   "version": "3.11.1"
  }
 },
 "nbformat": 4,
 "nbformat_minor": 5
}
