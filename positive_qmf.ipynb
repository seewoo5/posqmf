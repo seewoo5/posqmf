{
 "cells": [
  {
   "cell_type": "markdown",
   "id": "39d4431e",
   "metadata": {},
   "source": [
    "This is a supplementary sage notebook for the paper \"Extremal quasimodular forms and modular form inequalities for optimal sphere packing\". This code checks the modular form identities appearing in the paper."
   ]
  },
  {
   "cell_type": "markdown",
   "id": "074ed094",
   "metadata": {},
   "source": [
    "# Level 1 quasimodular forms\n",
    "\n",
    "Quasimodular forms of level 1 (or more generally, level $\\Gamma_0(N)$ or $\\Gamma_1(N)$) is implemented in Sage. We define some utility functions that help us to study the quasimodular forms easily."
   ]
  },
  {
   "cell_type": "code",
   "execution_count": 10,
   "id": "2624c934",
   "metadata": {},
   "outputs": [],
   "source": [
    "# Level 1 quasimodular forms\n",
    "QM = QuasiModularForms(1)\n",
    "E2, E4, E6 = QM.0, QM.1, QM.2  # generators, normalized as constant terms = 1\n",
    "disc = (1 / 1728) * (E4^3 - E6^2)  # discriminant form\n",
    "\n",
    "\n",
    "# Depth\n",
    "def depth(qm):\n",
    "    return qm.polynomial().degree(E2.polynomial())\n",
    "\n",
    "# Fourier coefficients\n",
    "def coefficients(qm, prec=20):\n",
    "    qexp = qm.q_expansion(prec)\n",
    "    return q_expansion_to_list(qexp, prec)\n",
    "\n",
    "def q_expansion_to_list(qexp, prec=20):\n",
    "    return [qexp[i] for i in range(prec)]\n",
    "\n",
    "# Iterative differentiation of quasimodular forms\n",
    "def dfold(qm, k):\n",
    "    if k == 0:\n",
    "        return qm\n",
    "    else:\n",
    "        return dfold(qm.derivative(), k - 1)\n",
    "\n",
    "# Serre derivative with given weight\n",
    "def serre_der_weight(qm, weight):\n",
    "    return qm.derivative() - E2 * qm * (weight / 12)\n",
    "\n",
    "# Serre derivative that preserves depth\n",
    "def serre_der(qm):\n",
    "    w = qm.weight()\n",
    "    s = depth(qm)\n",
    "    return qm.derivative() - E2 * qm * (w - s) / 12\n",
    "\n",
    "# Dimension of the space of (genuine) modular forms of weight w and level 1\n",
    "def dim_mf(w):\n",
    "    assert w % 2 == 0\n",
    "    if w % 12 == 2:\n",
    "        return w // 12\n",
    "    else:\n",
    "        return w // 12 + 1\n",
    "\n",
    "# Dimension of the space of (genuine) modular forms of weight w, depth <= s and level 1\n",
    "def dim_qmf(w, s):\n",
    "    assert w % 2 == 0\n",
    "    assert s >= 0\n",
    "    d = (w * (s + 1)) // 12\n",
    "    d -= ((s + 1) // 6) * (s - 3 * ((s + 1) // 6) - 1)\n",
    "    d += s // 6 + 1\n",
    "    if (w * (s + 1)) % 12 == 2:\n",
    "        d -= 1\n",
    "    return d\n",
    "\n",
    "# Basis of the space of quasimodular forms of given weight and depth, in terms of Eisenstein series\n",
    "def qmf_basis(w, s):\n",
    "    basis = []\n",
    "    for r in range(s + 1):\n",
    "        w_ = w - 2 * r\n",
    "        for i in range(w_ // 4 + 1):\n",
    "            if (w_ - 4 * i) % 6 == 0:\n",
    "                j = (w_ - 4 * i) // 6\n",
    "                basis.append(E2^r * E4^i * E6^j)\n",
    "    return basis\n",
    "\n",
    "# Vanishing order at the cusp\n",
    "def cusp_order(qm):\n",
    "    N = 1000\n",
    "    c_ = coefficients(qm, N)\n",
    "    r = 0\n",
    "    for i in range(N):\n",
    "        if c_[i] != 0:\n",
    "            break\n",
    "        r += 1\n",
    "    return r\n",
    "\n",
    "# First nonzero Fourier coefficient\n",
    "def first_nonzero_coeff(qm):\n",
    "    N = 1000\n",
    "    c_ = coefficients(qm, N)\n",
    "    for i in range(N):\n",
    "        if c_[i] != 0:\n",
    "            return c_[i]\n",
    "\n",
    "# Normalize to make the first nonzero coefficient as 1\n",
    "def normalize(qm):\n",
    "    return qm / first_nonzero_coeff(qm)\n",
    "\n",
    "# Print q-expansion, weight, depth, cusp order, and its polynomial form\n",
    "def print_qmf(qm, name, prec=20):\n",
    "    print(name + \"\\n\")\n",
    "    print(\"q_expansion\", qm.q_expansion(prec), \"\\n\")\n",
    "    print(\"weight\", qm.weight())\n",
    "    print(\"depth\", depth(qm))\n",
    "    print(\"cusp order\", cusp_order(qm))\n",
    "    print(\"polynomial\", qm.polynomial().factor(), \"\\n\")"
   ]
  },
  {
   "cell_type": "markdown",
   "id": "549ad9e0",
   "metadata": {},
   "source": [
    "For example, the following quasimodular forms appear as a part of the magic functions."
   ]
  },
  {
   "cell_type": "code",
   "execution_count": 21,
   "id": "b121f04d",
   "metadata": {},
   "outputs": [
    {
     "name": "stdout",
     "output_type": "stream",
     "text": [
      "F_8d\n",
      "\n",
      "q_expansion 518400*q^2 + 18662400*q^3 + 255052800*q^4 + 1870387200*q^5 + 9760435200*q^6 + 38755584000*q^7 + 129782476800*q^8 + 372202905600*q^9 + 967623667200*q^10 + 2263116672000*q^11 + 4995028684800*q^12 + 10180874188800*q^13 + 19989201254400*q^14 + 36921804134400*q^15 + 66489204326400*q^16 + 113850991411200*q^17 + 191997786758400*q^18 + 309769955251200*q^19 + O(q^20) \n",
      "\n",
      "weight 12\n",
      "depth 2\n",
      "cusp order 2\n",
      "polynomial (-E2*E4 + E6)^2 \n",
      "\n",
      "F_24d\n",
      "\n",
      "q_expansion 3657830400*q^3 + 138997555200*q^4 + 2567796940800*q^5 + 27477621964800*q^6 + 203324160614400*q^7 + 1155903669043200*q^8 + 5339174090342400*q^9 + 21015084264652800*q^10 + 72521005100544000*q^11 + 224861553797529600*q^12 + 636227181370368000*q^13 + 1668067755850137600*q^14 + 4088240185030041600*q^15 + 9465006273911193600*q^16 + 20805434866660147200*q^17 + 43762572956919398400*q^18 + 88336945205133004800*q^19 + O(q^20) \n",
      "\n",
      "weight 16\n",
      "depth 2\n",
      "cusp order 3\n",
      "polynomial 49*E2^2*E4^3 - 25*E2^2*E6^2 - 48*E2*E4^2*E6 - 25*E4^4 + 49*E4*E6^2 \n",
      "\n"
     ]
    }
   ],
   "source": [
    "F_8d = (E2 * E4 - E6)^2\n",
    "print_qmf(F_8d, \"F_8d\")\n",
    "\n",
    "F_24d = 49 * E2^2 * E4^3 - 25 * E2^2 * E6^2 - 48 * E2 * E4^2 * E6 - 25 * E4^4 + 49 * E4 * E6^2\n",
    "print_qmf(F_24d, \"F_24d\")"
   ]
  },
  {
   "cell_type": "markdown",
   "id": "9d54716b",
   "metadata": {},
   "source": [
    "For a given quasimodular form $F$ and a list of other forms $F_i$, the following function tries to express a linear expression $F = \\sum_i c_i F_i$ using the first few Fourier coefficients."
   ]
  },
  {
   "cell_type": "code",
   "execution_count": 131,
   "id": "7d92571c",
   "metadata": {},
   "outputs": [],
   "source": [
    "def find_lin_comb(qm, ls, N=50):\n",
    "    m = matrix([coefficients(qmf, N) for qmf in ls])\n",
    "    c_ = vector(coefficients(qm, N))\n",
    "    x_ = m.solve_left(c_)\n",
    "    r = sum(x_[j] * ls[j] for j in range(len(ls)))\n",
    "    assert qm == r\n",
    "    return x_"
   ]
  },
  {
   "cell_type": "markdown",
   "id": "aea03574",
   "metadata": {},
   "source": [
    "We also have a function to plot a quasimodular form on the imaginary axis, i.e. the function $t \\mapsto F(it)$."
   ]
  },
  {
   "cell_type": "code",
   "execution_count": 119,
   "id": "09379f1f",
   "metadata": {},
   "outputs": [],
   "source": [
    "def qmf_to_func(qm, prec=100):\n",
    "    t = var('t')\n",
    "    c = qm.q_expansion(prec).list()\n",
    "    func = c[0]\n",
    "    for i in range(1, prec):\n",
    "        func += c[i] * exp(-i * 2 * pi * t)\n",
    "    return func\n",
    "\n",
    "def plot_imag_axis(qm_ls, prec=100, low_t=1, high_t=2, names=None):\n",
    "    # plot qm(it) for a given list of quasimodular forms qm, low_t <= t <= high_t\n",
    "    # use the first prec terms (0 to prec-1) of q_expansion\n",
    "    plots = []\n",
    "    if names is None:\n",
    "        names = list(range(len(qm_ls)))\n",
    "    colors = rainbow(len(qm_ls))\n",
    "    for j, qm in enumerate(qm_ls):\n",
    "        c = coefficients(qm, prec)\n",
    "        t = var('t')\n",
    "        f = c[0]\n",
    "        for i in range(1, prec):\n",
    "            f += c[i] * exp(-i * (2 * pi) * t)\n",
    "        plots.append(\n",
    "            plot(\n",
    "                f,\n",
    "                (t, low_t, high_t),\n",
    "                axes_labels=['$x$','$y$'],\n",
    "                legend_label=names[j],\n",
    "                show_legend=True,\n",
    "                color=colors[j]\n",
    "            )\n",
    "        )\n",
    "    show(sum(plots))"
   ]
  },
  {
   "cell_type": "markdown",
   "id": "bcc52ced",
   "metadata": {},
   "source": [
    "As an example, here is a plot of all the terms appearing in the definition of `F_24d`."
   ]
  },
  {
   "cell_type": "code",
   "execution_count": 130,
   "id": "81874d01",
   "metadata": {},
   "outputs": [
    {
     "data": {
      "image/png": "[encoded data removed]",
      "text/plain": [
       "Graphics object consisting of 6 graphics primitives"
      ]
     },
     "metadata": {},
     "output_type": "display_data"
    }
   ],
   "source": [
    "F_24d = 49 * E2^2 * E4^3 - 25 * E2^2 * E6^2 - 48 * E2 * E4^2 * E6 - 25 * E4^4 + 49 * E4 * E6^2\n",
    "C1 = 49 * E2^2 * E4^3\n",
    "C2 = - 25 * E2^2 * E6^2\n",
    "C3 = - 48 * E2 * E4^2 * E6\n",
    "C4 = - 25 * E4^4\n",
    "C5 = 49 * E4 * E6^2\n",
    "\n",
    "ls = [C1, C2, C3, C4, C5, F_24d]\n",
    "names = [\"49 * E2^2 * E4^3\", \"-25 * E2^2 * E6^2\", \"-48 * E2 * E4^2 * E6\", \"-25 * E4^4\", \"49 * E4 * E6^2\", \"F_24d\"]\n",
    "plot_imag_axis(ls, low_t=0.85, high_t=1.1, names=names)"
   ]
  },
  {
   "cell_type": "markdown",
   "id": "f9776e8b",
   "metadata": {},
   "source": [
    "# Extremal quasimodular forms\n",
    "\n",
    "For given $w$ and $s$, **extremal quasimodular form** of weight $w$ and depth $s$ is defined as a quasimodular form with the maximum possible order of vanishing at infinity (Kaneko-Koike, 2003). It is shown that the extremal form is unique up to a constant for $s \\leq 4$ (Pellarin, 2020). Also, we have a recursive formula for those extremal forms (Grabner, 2020). Below codes return the normalized extremal quasimodular form of given weight and depth for depth $1$ and $2$ using Grabner's recurrence relation. For depth $\\geq 3$, we compute the extremal form naively using the Eisenstein series basis. Note that there are similar but complicated recurrence relations for depth $3$ and $4$ by Grabner, and the (unique) existence of extremal forms in the case of depth $\\geq 5$ is still open."
   ]
  },
  {
   "cell_type": "code",
   "execution_count": 117,
   "id": "55e79ed7",
   "metadata": {},
   "outputs": [],
   "source": [
    "# Use cache\n",
    "from functools import lru_cache\n",
    "\n",
    "\n",
    "# Extremal quasimodular forms\n",
    "def is_extremal_qmf(qm):\n",
    "    # Check if a given quasimodular form is extremal (in the sense of Kaneko-Koike)\n",
    "    s = depth(qm)\n",
    "    w = qm.weight()\n",
    "    d = dim_qmf(w, s)\n",
    "    order = cusp_order(qm)\n",
    "    return d - 1 == order\n",
    "    \n",
    "@lru_cache(maxsize=None)\n",
    "def _find_extremal_qmf_d1(w):\n",
    "    if w < 6:\n",
    "        assert False, \"weight should be >= 6\"\n",
    "    if w == 6:\n",
    "        return (1 / 720) * (E2 * E4 - E6)\n",
    "    else:\n",
    "        if w % 6 == 0:\n",
    "            _qm = _find_extremal_qmf_d1(w - 6)\n",
    "            res = E4 * serre_der_weight(_qm, w - 7) - ((w - 5) / 12) * E6 * _qm\n",
    "            res *= w / (72 * (w - 5) * (w - 1))\n",
    "            assert is_extremal_qmf(res), \"not extremal\"\n",
    "            return res\n",
    "        elif w % 6 == 2:\n",
    "            _qm = _find_extremal_qmf_d1(w - 2)\n",
    "            res = (12 / (w - 1)) * serre_der_weight(_qm, w - 3)\n",
    "            assert is_extremal_qmf(res), \"not extremal\"\n",
    "            return res\n",
    "        elif w % 6 == 4:\n",
    "            _qm = _find_extremal_qmf_d1(w - 4)\n",
    "            res = E4 * _qm\n",
    "            assert is_extremal_qmf(res), \"not extremal\"\n",
    "            return res\n",
    "        else:\n",
    "            assert False, \"weight is odd\"\n",
    "    \n",
    "@lru_cache(maxsize=None)\n",
    "def _find_extremal_qmf_d2(w):\n",
    "    if w < 4:\n",
    "        assert False, \"weight should be >= 4\"\n",
    "    if w == 4:\n",
    "        return (1 / 288) * (E4 - E2^2)\n",
    "    elif w % 4 == 0:\n",
    "        _qm = _find_extremal_qmf_d2(w - 4)\n",
    "        res = ((w - 3) * (w - 4) / 36) * E4 * _qm\n",
    "        res -= serre_der_weight(serre_der_weight(_qm, w - 6), w - 4)\n",
    "        res *= (3 * (w)^2) / (16 * (w - 1) * (w - 2)^2 * (w - 3))\n",
    "        assert is_extremal_qmf(res), \"not extremal\"\n",
    "        return res\n",
    "    elif w % 4 == 2:\n",
    "        _qm = _find_extremal_qmf_d2(w - 2)\n",
    "        res = serre_der_weight(_qm, w - 4)\n",
    "        res *= (6 / (w - 1))\n",
    "        assert is_extremal_qmf(res), \"not extremal\"\n",
    "        return res\n",
    "    else:\n",
    "        assert False, \"weight is odd\"\n",
    "\n",
    "@lru_cache(maxsize=None)\n",
    "def find_extremal_qmf(weight, depth):\n",
    "    # Find the extremal qmf (if exists) for given weight and depth\n",
    "    # The result is normalized so that first nonzero coefficient is 1\n",
    "    assert (0 <= depth <= weight/2 and 2 * (depth + 1) != weight), \"inappropriate weight and depths\"\n",
    "    \n",
    "    if depth == 1:\n",
    "        return _find_extremal_qmf_d1(weight)\n",
    "    if depth == 2:\n",
    "        return _find_extremal_qmf_d2(weight)\n",
    "\n",
    "    bs = qmf_basis(weight, depth)\n",
    "    d = dim_qmf(weight, depth)\n",
    "    assert len(bs) == dim_qmf(weight, depth)\n",
    "    m = matrix([coefficients(qmf, d) for qmf in bs])\n",
    "    c_ = vector([0] * (d - 1) + [1])\n",
    "    x_ = m.solve_left(c_)\n",
    "      \n",
    "    ans = sum(x_[j] * bs[j] for j in range(d))\n",
    "    return normalize(ans)"
   ]
  },
  {
   "cell_type": "markdown",
   "id": "b99c6605",
   "metadata": {},
   "source": [
    "Here's a list of depth $2$ extremal forms of weight $w \\leq 16$."
   ]
  },
  {
   "cell_type": "code",
   "execution_count": 20,
   "id": "8a41f451",
   "metadata": {},
   "outputs": [
    {
     "name": "stdout",
     "output_type": "stream",
     "text": [
      "X_4,2\n",
      "\n",
      "q_expansion q + 6*q^2 + 12*q^3 + 28*q^4 + 30*q^5 + 72*q^6 + 56*q^7 + 120*q^8 + 117*q^9 + 180*q^10 + 132*q^11 + 336*q^12 + 182*q^13 + 336*q^14 + 360*q^15 + 496*q^16 + 306*q^17 + 702*q^18 + 380*q^19 + O(q^20) \n",
      "\n",
      "weight 4\n",
      "depth 2\n",
      "cusp order 1\n",
      "polynomial (1/288) * (-E2^2 + E4) \n",
      "\n",
      "X_8,2\n",
      "\n",
      "q_expansion q^2 + 16*q^3 + 102*q^4 + 416*q^5 + 1308*q^6 + 3360*q^7 + 7772*q^8 + 15744*q^9 + 30606*q^10 + 53680*q^11 + 93352*q^12 + 148512*q^13 + 238616*q^14 + 354912*q^15 + 537336*q^16 + 757248*q^17 + 1100421*q^18 + 1485648*q^19 + O(q^20) \n",
      "\n",
      "weight 8\n",
      "depth 2\n",
      "cusp order 2\n",
      "polynomial (1/362880) * (-7*E2^2*E4 + 2*E2*E6 + 5*E4^2) \n",
      "\n",
      "X_10,2\n",
      "\n",
      "q_expansion q^2 + 104/3*q^3 + 390*q^4 + 2480*q^5 + 11140*q^6 + 39216*q^7 + 117020*q^8 + 303680*q^9 + 717990*q^10 + 1546600*q^11 + 9438728/3*q^12 + 5976048*q^13 + 10941320*q^14 + 18987920*q^15 + 32156280*q^16 + 52106496*q^17 + 83152173*q^18 + 127695960*q^19 + O(q^20) \n",
      "\n",
      "weight 10\n",
      "depth 2\n",
      "cusp order 2\n",
      "polynomial (-1/1088640) * (-5*E2^2*E6 - 2*E2*E4^2 + 7*E4*E6) \n",
      "\n",
      "X_12,2\n",
      "\n",
      "q_expansion q^3 + 51/2*q^4 + 1422/5*q^5 + 1944*q^6 + 9714*q^7 + 38709*q^8 + 130152*q^9 + 1918992/5*q^10 + 1016811*q^11 + 2472610*q^12 + 5582766*q^13 + 11872944*q^14 + 119498814/5*q^15 + 46047186*q^16 + 85019040*q^17 + 151844544*q^18 + 262077525*q^19 + O(q^20) \n",
      "\n",
      "weight 12\n",
      "depth 2\n",
      "cusp order 3\n",
      "polynomial (-1/798336000) * (77*E2^2*E4^2 - 34*E2*E4*E6 - 50*E4^3 + 7*E6^2) \n",
      "\n",
      "X_14,2\n",
      "\n",
      "q_expansion q^3 + 93/2*q^4 + 810*q^5 + 8004*q^6 + 54474*q^7 + 283743*q^8 + 1208568*q^9 + 4400040*q^10 + 14116275*q^11 + 40842466*q^12 + 108318210*q^13 + 267020712*q^14 + 617622270*q^15 + 1352960838*q^16 + 2822872032*q^17 + 5647635936*q^18 + 10872089541*q^19 + O(q^20) \n",
      "\n",
      "weight 14\n",
      "depth 2\n",
      "cusp order 3\n",
      "polynomial (-1/415134720) * (-13*E2^2*E4*E6 - E2*E4^3 + 3*E2*E6^2 + 11*E4^2*E6) \n",
      "\n",
      "X_16,2\n",
      "\n",
      "q_expansion q^4 + 864/25*q^5 + 2736/5*q^6 + 188288/35*q^7 + 189918/5*q^8 + 1051008/5*q^9 + 24071264/25*q^10 + 18966528/5*q^11 + 66052908/5*q^12 + 207564128/5*q^13 + 837059616/7*q^14 + 7991376768/25*q^15 + 4004719116/5*q^16 + 9480174336/5*q^17 + 21346902144/5*q^18 + 45966795264/5*q^19 + O(q^20) \n",
      "\n",
      "weight 16\n",
      "depth 2\n",
      "cusp order 4\n",
      "polynomial (-1/45768602880000) * (22099*E2^2*E4^3 - 1375*E2^2*E6^2 - 11208*E2*E4^2*E6 - 13975*E4^4 + 4459*E4*E6^2) \n",
      "\n"
     ]
    }
   ],
   "source": [
    "for w in range(4, 18, 2):\n",
    "    if w != 6:\n",
    "        X_w2 = find_extremal_qmf(w, 2)\n",
    "        print_qmf(find_extremal_qmf(w, 2), \"X_\" + str(w) + \",2\")"
   ]
  },
  {
   "cell_type": "markdown",
   "id": "acb10cf5",
   "metadata": {},
   "source": [
    "# Level 2 quasimodular forms\n",
    "\n",
    "Level $\\Gamma(2)$ quasimodular forms can be written as polynomial in $E_2$, $H_2 = \\Theta_2^4$, $H_4 = \\Theta_4^4$, where $\\Theta_2$ and $\\Theta_4$ are Jacobi thetanulle functions. We implement the ring of quasimodular forms of level $\\Gamma(2)$ using this fact."
   ]
  },
  {
   "cell_type": "code",
   "execution_count": 63,
   "id": "95a42a76",
   "metadata": {},
   "outputs": [],
   "source": [
    "# E2_, E4_, E6_ are the usual Eisenstein series of level 1 and weight 2, 4, 6, but in the space of level 2 forms\n",
    "Rtheta.<H2, H4, E2_> = QQ['H2,H4,E2_']\n",
    "E4_ = H2^2 + H2 * H4 + H4^2\n",
    "E6_ = (H2 + 2 * H4) * (2 * H2 + H4) * (H4 - H2) / 2\n",
    "Disc = H2^2 * (H2 + H4)^2 * H4^2 / 256\n",
    "\n",
    "\n",
    "# Weight\n",
    "def l2qmf_weight(qm):\n",
    "    d = qm.dict()\n",
    "    w = None\n",
    "    for (a, b, e) in d.keys():\n",
    "        if w is None:\n",
    "            w = 2 * a + 2 * b + 2 * e\n",
    "        else:\n",
    "            assert w == 2 * a + 2 * b + 2 * e\n",
    "    return w\n",
    "\n",
    "# Depth\n",
    "def l2qmf_depth(qm):\n",
    "    d = qm.dict()\n",
    "    dp = 0\n",
    "    for (_, _, e) in d.keys():\n",
    "        dp = max(e, dp)\n",
    "    return dp\n",
    "\n",
    "# Derivative of level 2 quasimodular form\n",
    "def l2qmf_derivative(qm):\n",
    "    d = qm.dict()\n",
    "    r = 0\n",
    "    for (a, b, e), coeff in d.items():\n",
    "        r += (coeff / 6) * H2^a * H4^b * ((a - 2 * b) * H2 + (2 * a - b) * H4 + (a + b) * E2_) * E2_^e\n",
    "        if e >= 1:\n",
    "            r += coeff * H2^a * H4^b * e * E2_^(e-1) * (E2_^2 - E4_) / 12\n",
    "    return r\n",
    "\n",
    "def l2qmf_serre_derivative(qm, k=None):\n",
    "    # Serre derivative that preserves depth\n",
    "    d = qm.dict()\n",
    "    s = l2qmf_depth(qm)\n",
    "    if k is None:\n",
    "        k = 0\n",
    "        for (a, b, e) in d.keys():\n",
    "            k = max(k, 2 * a + 2 * b + 2 * e)\n",
    "    k -= s\n",
    "    return l2qmf_derivative(qm) - (k / 12) * E2_ * qm"
   ]
  },
  {
   "cell_type": "markdown",
   "id": "df885405",
   "metadata": {},
   "source": [
    "Level $\\Gamma(2)$ quasimodular forms admit expansions in $q^{1/2}$ in general. The below functions give you an expansion in $q^{1/2}$, but the variable's name is `q`."
   ]
  },
  {
   "cell_type": "code",
   "execution_count": 92,
   "id": "fe0b4752",
   "metadata": {},
   "outputs": [],
   "source": [
    "# q-series\n",
    "# Note that the variable `q` in the expansion is in fact e^(pi * i * z), which is `q^(1/2)`.\n",
    "# The default precision is fixed (which is enough for our purpose), but you can increase it\n",
    "prec = 80\n",
    "q = var('q')  # q^1/2\n",
    "def sigma(k, m):\n",
    "    r = 0\n",
    "    for i in range(1, k + 1):\n",
    "        if k%i == 0:\n",
    "            r += i^m\n",
    "    return r\n",
    "\n",
    "def r4(k):\n",
    "    if k % 4 == 0:\n",
    "        return 8 * sigma(k, 1) - 32 * sigma(k / 4, 1)\n",
    "    else:\n",
    "        return 8 * sigma(k, 1)\n",
    "\n",
    "# q-series of Jacobi thetanulle functions\n",
    "H3ser = 1\n",
    "for i in range(prec + 1):\n",
    "    H3ser += r4(i) * q^i\n",
    "H4ser = 1\n",
    "for i in range(prec + 1):\n",
    "    H4ser += (-1)^i * r4(i) * q^i\n",
    "H2ser = H3ser - H4ser\n",
    "\n",
    "# q-series of Eisenstein series\n",
    "E2ser = 1\n",
    "for i in range(1, prec):\n",
    "    E2ser -= 24 * sigma(i, 1) * q^(2 * i)\n",
    "\n",
    "E4ser = 1\n",
    "for i in range(1, prec):\n",
    "    E4ser += 240 * sigma(i, 3) * q^(2 * i)\n",
    "    \n",
    "E6ser = 1\n",
    "for i in range(1, prec):\n",
    "    E6ser -= 504 * sigma(i, 5) * q^(2 * i)\n",
    "\n",
    "def l2qmf_q_series(qm, prec=20):\n",
    "    # Recall that the series is in q^(1/2)\n",
    "    d = qm.dict()\n",
    "    r = 0\n",
    "    H2ser_ = H2ser.series(q, prec)\n",
    "    H4ser_ = H4ser.series(q, prec)\n",
    "    E2ser_ = E2ser.series(q, prec)\n",
    "    for (a, b, e), coeff in d.items():\n",
    "        r += coeff * H2ser_^a * H4ser_^b * E2ser_^e\n",
    "    return r.series(q, prec)\n",
    "\n",
    "# Cusp order\n",
    "def l2qmf_cusp_order(qm):\n",
    "    N = 50\n",
    "    c = l2qmf_q_series(qm, N).list()\n",
    "    for i in range(N):\n",
    "        if c[i] != 0:\n",
    "            return i / 2\n",
    "\n",
    "# First nonzero Fourier coefficient\n",
    "def l2qmf_first_nonzero_coeff(qm):\n",
    "    N = 100\n",
    "    c = l2qmf_q_series(qm, N).list()\n",
    "    for i in range(N):\n",
    "        if c[i] != 0:\n",
    "            return Rational(c[i])\n",
    "\n",
    "def normalize_l2qmf(qm):\n",
    "    return qm / l2form_first_nonzero_coeff(qm)\n",
    "\n",
    "def print_l2qmf(qm, name, prec=30):\n",
    "    print(name + \"\\n\")\n",
    "    print(\"q_expansion\", l2qmf_q_series(qm, prec), \"\\n\")\n",
    "    print(\"weight\", l2qmf_weight(qm))\n",
    "    print(\"depth\", l2qmf_depth(qm))\n",
    "    print(\"cusp order\", l2qmf_cusp_order(qm))\n",
    "    print(\"polynomial\", qm.factor(), \"\\n\")"
   ]
  },
  {
   "cell_type": "code",
   "execution_count": 139,
   "id": "086e615a",
   "metadata": {},
   "outputs": [],
   "source": [
    "def l2qmf_find_lin_comb(qm, ls, prec=40):\n",
    "    m = matrix([l2qmf_q_series(qmf, prec).list()[:prec] for qmf in ls])\n",
    "    c_ = vector(l2qmf_q_series(qm, prec).list()[:prec])\n",
    "    x_ = m.solve_left(c_)\n",
    "    r = sum(Rational(x_[j]) * ls[j] for j in range(len(ls)))\n",
    "    # check if we get the right result\n",
    "    assert r == qm\n",
    "    return x_"
   ]
  },
  {
   "cell_type": "markdown",
   "id": "e5f5fe09",
   "metadata": {},
   "source": [
    "We can also embed a level $1$ form as a level $\\Gamma(2)$ form."
   ]
  },
  {
   "cell_type": "code",
   "execution_count": 132,
   "id": "5f9b888c",
   "metadata": {},
   "outputs": [],
   "source": [
    "# Rewrite level 1 quasimodular forms as level Gamma(2) forms\n",
    "def l1_to_l2(qmf):\n",
    "    poly_dict = qmf.polynomial().dict()\n",
    "    r = 0\n",
    "    for (d2, d4, d6), coeff in poly_dict.items():\n",
    "        r += coeff * E2_^d2 * E4_^d4 * E6_^d6\n",
    "    return r"
   ]
  },
  {
   "cell_type": "code",
   "execution_count": 133,
   "id": "25a682d3",
   "metadata": {},
   "outputs": [],
   "source": [
    "assert l1_to_l2(E2) == E2_\n",
    "assert l1_to_l2(E4) == E4_\n",
    "assert l1_to_l2(E6) == E6_"
   ]
  },
  {
   "cell_type": "markdown",
   "id": "769ec7ee",
   "metadata": {},
   "source": [
    "The subring of quasimodular forms of level $\\Gamma_0(2) \\subset \\Gamma(2)$ is generated by $A = H_2^2$ and $B = H_2 + 2 H_4$. They are invariant under $z \\mapsto z + 1$, so there are no $q^{\\text{odd}/2}$ terms appearing in $q$-expansions. Especially, in terms of our variable `q`, only even powers appear. We can compute a basis of the ring of modular forms of level $\\Gamma_0(2)$ and the dimensions."
   ]
  },
  {
   "cell_type": "code",
   "execution_count": 134,
   "id": "6fd1da5c",
   "metadata": {},
   "outputs": [],
   "source": [
    "# Generators\n",
    "A = H2^2\n",
    "B = H2 + 2 * H4\n",
    "\n",
    "\n",
    "def gamma02_basis(w):\n",
    "    basis = []\n",
    "    if w == 0:\n",
    "        return [1]\n",
    "    assert w % 2 == 0\n",
    "    for j in range(w // 4 + 1):\n",
    "        basis.append(A^j * B^(w / 2 - 2 * j))\n",
    "    return basis\n",
    "\n",
    "def gamma02_dim(w):\n",
    "    return w // 4 + 1\n",
    "\n",
    "def qmf_gamma02_basis(w, s=None):\n",
    "    basis = []\n",
    "    if s is None:\n",
    "        s = w / 2\n",
    "    for k in range(s + 1):\n",
    "        mf_basis = gamma02_basis(w - 2 * k)\n",
    "        for mf in mf_basis:\n",
    "            basis.append(E2_^k * mf)\n",
    "    return basis\n",
    "\n",
    "def qmf_gamma02_dim(w, s=None):\n",
    "    if s is None:\n",
    "        s = w / 2\n",
    "    d = 0\n",
    "    for k in range(s + 1):\n",
    "        d += gamma02_dim(w - 2 * k)\n",
    "    return d"
   ]
  },
  {
   "cell_type": "code",
   "execution_count": 137,
   "id": "1ff938c2",
   "metadata": {
    "scrolled": false
   },
   "outputs": [
    {
     "name": "stdout",
     "output_type": "stream",
     "text": [
      "0\n",
      "\n",
      "q_expansion 128 + 21504*q^2 + 1569792*q^4 + 65114112*q^6 + 1686107136*q^8 + 28293543936*q^10 + 312726392832*q^12 + 2345025675264*q^14 + 13097477600256*q^16 + 61483739907072*q^18 + 238060787005440*q^20 + 835122007093248*q^22 + 2548039110758400*q^24 + 7326411341125632*q^26 + 18901593161539584*q^28 + Order(q^30) \n",
      "\n",
      "weight 14\n",
      "depth 0\n",
      "cusp order 0\n",
      "polynomial (H2 + 2*H4)^7 \n",
      "\n",
      "1\n",
      "\n",
      "q_expansion 8192*q^2 + 1048576*q^4 + 56262656*q^6 + 1644167168*q^8 + 28671393792*q^10 + 314023346176*q^12 + 2327282778112*q^14 + 13198434500608*q^16 + 61003257061376*q^18 + 239975817805824*q^20 + 828617968287744*q^22 + 2568068991549440*q^24 + 7269560499552256*q^26 + 19050290103713792*q^28 + Order(q^30) \n",
      "\n",
      "weight 14\n",
      "depth 0\n",
      "cusp order 1\n",
      "polynomial H2^2 * (H2 + 2*H4)^5 \n",
      "\n",
      "2\n",
      "\n",
      "q_expansion 524288*q^4 + 46137344*q^6 + 1610612736*q^8 + 29142024192*q^10 + 313375326208*q^12 + 2326756589568*q^14 + 13196287016960*q^16 + 61003802869760*q^18 + 240005938151424*q^20 + 828597778513920*q^22 + 2568027518271488*q^24 + 7269494695133184*q^26 + 19050256427646976*q^28 + Order(q^30) \n",
      "\n",
      "weight 14\n",
      "depth 0\n",
      "cusp order 2\n",
      "polynomial (H2 + 2*H4)^3 * H2^4 \n",
      "\n",
      "3\n",
      "\n",
      "q_expansion 33554432*q^6 + 1610612736*q^8 + 29393682432*q^10 + 313532612608*q^12 + 2324718157824*q^14 + 13194139533312*q^16 + 61011352616960*q^18 + 240019952369664*q^20 + 828594318213120*q^22 + 2567975978663936*q^24 + 7269417234726912*q^26 + 19050353211211776*q^28 + Order(q^30) \n",
      "\n",
      "weight 14\n",
      "depth 0\n",
      "cusp order 3\n",
      "polynomial (H2 + 2*H4) * H2^6 \n",
      "\n",
      "4\n",
      "\n",
      "q_expansion 64 + 7680*q^2 + 336384*q^4 + 4675584*q^6 + (-116897280)*q^8 + (-5846952960)*q^10 + (-104443729920)*q^12 + (-1027253194752)*q^14 + (-6630226748928)*q^16 + (-34404477688320)*q^18 + (-144592262009856)*q^20 + (-532307537786880)*q^22 + (-1719319660247040)*q^24 + (-5066086276217856)*q^26 + (-13663771201843200)*q^28 + Order(q^30) \n",
      "\n",
      "weight 14\n",
      "depth 1\n",
      "cusp order 0\n",
      "polynomial E2_ * (H2 + 2*H4)^6 \n",
      "\n",
      "5\n",
      "\n",
      "q_expansion 4096*q^2 + 327680*q^4 + 7290880*q^6 + (-74448896)*q^8 + (-5890547712)*q^10 + (-106572808192)*q^12 + (-1014486630400)*q^14 + (-6679932436480)*q^16 + (-34221489139712)*q^18 + (-145152485228544)*q^20 + (-530918616219648)*q^22 + (-1722441248276480)*q^24 + (-5059881755484160)*q^26 + (-13673332108427264)*q^28 + Order(q^30) \n",
      "\n",
      "weight 14\n",
      "depth 1\n",
      "cusp order 1\n",
      "polynomial E2_ * H2^2 * (H2 + 2*H4)^4 \n",
      "\n",
      "6\n",
      "\n",
      "q_expansion 262144*q^4 + 10485760*q^6 + (-25165824)*q^8 + (-6115295232)*q^10 + (-106899177472)*q^12 + (-1012987330560)*q^14 + (-6678539927552)*q^16 + (-34221074677760)*q^18 + (-145167405809664)*q^20 + (-530940973547520)*q^22 + (-1722378220470272)*q^24 + (-5059812261888000)*q^26 + (-13673342093492224)*q^28 + Order(q^30) \n",
      "\n",
      "weight 14\n",
      "depth 1\n",
      "cusp order 2\n",
      "polynomial E2_ * (H2 + 2*H4)^2 * H2^4 \n",
      "\n",
      "7\n",
      "\n",
      "q_expansion 16777216*q^6 + (-6241124352)*q^10 + (-107374182400)*q^12 + (-1011968114688)*q^14 + (-6674379177984)*q^16 + (-34224849551360)*q^18 + (-145187074473984)*q^20 + (-530939243397120)*q^22 + (-1722333425303552)*q^24 + (-5059773531684864)*q^26 + (-13673329034526720)*q^28 + Order(q^30) \n",
      "\n",
      "weight 14\n",
      "depth 1\n",
      "cusp order 3\n",
      "polynomial E2_ * H2^6 \n",
      "\n",
      "8\n",
      "\n",
      "q_expansion 32 + 2304*q^2 + 17664*q^4 + (-2460672)*q^6 + (-68629248)*q^8 + (-1423872)*q^10 + 23813366784*q^12 + 390539520000*q^14 + 3119653231872*q^16 + 18333190169856*q^18 + 84840202464768*q^20 + 331990120406016*q^22 + 1133982932714496*q^24 + 3469384352263680*q^26 + 9700355687614464*q^28 + Order(q^30) \n",
      "\n",
      "weight 14\n",
      "depth 2\n",
      "cusp order 0\n",
      "polynomial E2_^2 * (H2 + 2*H4)^5 \n",
      "\n",
      "9\n",
      "\n",
      "q_expansion 2048*q^2 + 65536*q^4 + (-2056192)*q^6 + (-89128960)*q^8 + (-148328448)*q^10 + 25597050880*q^12 + 384453787648*q^14 + 3134369824768*q^16 + 18292038035456*q^18 + 84915376226304*q^20 + 331966090567680*q^22 + 1133802105602048*q^24 + 3470229607542784*q^26 + 9697269866037248*q^28 + Order(q^30) \n",
      "\n",
      "weight 14\n",
      "depth 2\n",
      "cusp order 1\n",
      "polynomial E2_^2 * H2^2 * (H2 + 2*H4)^3 \n",
      "\n",
      "10\n",
      "\n",
      "q_expansion 131072*q^4 + (-1048576)*q^6 + (-125829120)*q^8 + (-113246208)*q^10 + 26149912576*q^12 + 383961268224*q^14 + 3131165376512*q^16 + 18292089552896*q^18 + 84925011984384*q^20 + 331987798720512*q^22 + 1133784829263872*q^24 + 3470121901228032*q^26 + 9697256748875776*q^28 + Order(q^30) \n",
      "\n",
      "weight 14\n",
      "depth 2\n",
      "cusp order 2\n",
      "polynomial (H2 + 2*H4) * E2_^2 * H2^4 \n",
      "\n"
     ]
    }
   ],
   "source": [
    "assert qmf_gamma02_dim(14, 2) == 11\n",
    "for i, qm in enumerate(qmf_gamma02_basis(14, 2)):\n",
    "    print_l2qmf(qm, str(i))"
   ]
  },
  {
   "cell_type": "code",
   "execution_count": 138,
   "id": "9ff39ab4",
   "metadata": {},
   "outputs": [],
   "source": [
    "def l2qmf_to_func(qm, prec=20):\n",
    "    qser = l2qmf_q_series(qm, prec=prec)\n",
    "    c = qser.list()\n",
    "    t = var('t')\n",
    "    func = c[0]\n",
    "    for i in range(1, len(c)):\n",
    "        func += c[i] * exp(-i * pi * t)  # note q^(1/2) = e^(sqrt(-1) * pi * z)\n",
    "    return func\n",
    "\n",
    "def l2qmf_plot_imag_axis(qm_ls, prec=20, low_t=1, high_t=2, names=None):\n",
    "    # plot qm(it) for a given quasimodular form qm, low_t <= t <= high_t\n",
    "    # use the first prec terms (0 to prec-1) of q_expansion\n",
    "    plots = []\n",
    "    if names is None:\n",
    "        names = list(range(len(qm_ls)))\n",
    "    colors = rainbow(len(qm_ls))\n",
    "    for j, qm in enumerate(qm_ls):\n",
    "        ft = negform_to_func(qm, prec=prec)\n",
    "        plots.append(\n",
    "            plot(\n",
    "                ft,\n",
    "                (t, low_t, high_t),\n",
    "                axes_labels=['$x$','$y$'],\n",
    "                legend_label=names[j],\n",
    "                show_legend=True,\n",
    "                color=colors[j]\n",
    "            )\n",
    "        )\n",
    "    show(sum(plots))"
   ]
  },
  {
   "cell_type": "markdown",
   "id": "dfdd865f",
   "metadata": {},
   "source": [
    "For a given quasimodular form $f(z)$ of level $1$, $f^{(2)}(z) := f(2z)$ defines a quaismodular form of level $\\Gamma_0(2)$."
   ]
  },
  {
   "cell_type": "code",
   "execution_count": 82,
   "id": "78aac1d1",
   "metadata": {},
   "outputs": [],
   "source": [
    "# Eisenstein series E_2(2z), E_4(2z), and E_6(2z)\n",
    "E2_2 = (B + 2 * E2_) / 4\n",
    "E4_2 = B^2 / 4 - 3 * A / 16\n",
    "E6_2 = B^3 / 8 - 9 * A * B / 64\n",
    "\n",
    "\n",
    "def double_level(qm):\n",
    "    # f(z) -> f(2z), from level Gamma(1) to Gamma_0(2)\n",
    "    poly_dict = qm.polynomial().dict()\n",
    "    r = 0\n",
    "    for (d2, d4, d6), coeff in poly_dict.items():\n",
    "        r += coeff * E2_2^d2 * E4_2^d4 * E6_2^d6\n",
    "    return r"
   ]
  },
  {
   "cell_type": "markdown",
   "id": "958d04f1",
   "metadata": {},
   "source": [
    "Using extremal forms of level $1$, we can construct level $\\Gamma_0(2)$ positive with above level-doubling map $f(z) \\mapsto f^{(2)}(z) := f(2z)$. Especially, the form $Y_{w, s}:= X_{w, s} - 2^{w-s} X_{w, s}^{(2)}$ is positive for $(w, s) \\in \\{(6, 1), (4, 2), (8, 2), (10, 2), (12, 2)\\}$"
   ]
  },
  {
   "cell_type": "code",
   "execution_count": 84,
   "id": "b241d6da",
   "metadata": {},
   "outputs": [],
   "source": [
    "def Y(w, s):\n",
    "    X_w_s = find_extremal_qmf(w, s)\n",
    "    X_w_s_ = l1_to_l2(X_w_s)\n",
    "    X_w_s_2 = double_level(X_w_s)\n",
    "    return X_w_s_ - 2^(w-s) * X_w_s_2"
   ]
  },
  {
   "cell_type": "code",
   "execution_count": 86,
   "id": "9a479be8",
   "metadata": {},
   "outputs": [
    {
     "name": "stdout",
     "output_type": "stream",
     "text": [
      "Y_6,1\n",
      "\n",
      "q_expansion 1*q^2 + (-14)*q^4 + 84*q^6 + (-284)*q^8 + 630*q^10 + (-1176)*q^12 + 2408*q^14 + (-4664)*q^16 + 6813*q^18 + (-8820)*q^20 + 14652*q^22 + (-23856)*q^24 + 28574*q^26 + (-33712)*q^28 + Order(q^30) \n",
      "\n",
      "weight 6\n",
      "depth 1\n",
      "cusp order 1\n",
      "polynomial (-1/96) * H4 * (-H2 - 2*H4 + 2*E2_) * (H2 + H4) \n",
      "\n",
      "Y_4,2\n",
      "\n",
      "q_expansion 1*q^2 + 2*q^4 + 12*q^6 + 4*q^8 + 30*q^10 + 24*q^12 + 56*q^14 + 8*q^16 + 117*q^18 + 60*q^20 + 132*q^22 + 48*q^24 + 182*q^26 + 112*q^28 + Order(q^30) \n",
      "\n",
      "weight 4\n",
      "depth 1\n",
      "cusp order 1\n",
      "polynomial (1/288) * (H2^2 - 2*H2*H4 - 2*H4^2 + H2*E2_ + 2*H4*E2_) \n",
      "\n",
      "Y_8,2\n",
      "\n",
      "q_expansion 1*q^4 + 16*q^6 + 38*q^8 + 416*q^10 + 284*q^12 + 3360*q^14 + 1244*q^16 + 15744*q^18 + 3982*q^20 + 53680*q^22 + 9640*q^24 + 148512*q^26 + 23576*q^28 + Order(q^30) \n",
      "\n",
      "weight 8\n",
      "depth 2\n",
      "cusp order 2\n",
      "polynomial (1/120960) * (2*H2^4 - 3*H2^3*H4 - 92*H2^2*H4^2 - 178*H2*H4^3 - 89*H4^4 + 2*H2^3*E2_ + 31*H2^2*H4*E2_ + 81*H2*H4^2*E2_ + 54*H4^3*E2_ + 35*H2*H4*E2_^2 + 35*H4^2*E2_^2) \n",
      "\n",
      "Y_10,2\n",
      "\n",
      "q_expansion 1*q^4 + 104/3*q^6 + 134*q^8 + 2480*q^10 + 6796/3*q^12 + 39216*q^14 + 17180*q^16 + 303680*q^18 + 83110*q^20 + 1546600*q^22 + 883208/3*q^24 + 5976048*q^26 + 902024*q^28 + Order(q^30) \n",
      "\n",
      "weight 10\n",
      "depth 2\n",
      "cusp order 2\n",
      "polynomial (-1/725760) * (-4*H2^5 + 5*H2^4*H4 - 364*H2^3*H4^2 - 1586*H2^2*H4^3 - 2015*H2*H4^4 - 806*H4^5 - 4*H2^4*E2_ + 112*H2^3*H4*E2_ + 708*H2^2*H4^2*E2_ + 1192*H2*H4^3*E2_ + 596*H4^4*E2_ + 105*H2^2*H4*E2_^2 + 315*H2*H4^2*E2_^2 + 210*H4^3*E2_^2) \n",
      "\n",
      "Y_12,2\n",
      "\n",
      "q_expansion 1*q^6 + 51/2*q^8 + 1422/5*q^10 + 920*q^12 + 9714*q^14 + 12597*q^16 + 130152*q^18 + 462864/5*q^20 + 1016811*q^22 + 481954*q^24 + 5582766*q^26 + 1925808*q^28 + Order(q^30) \n",
      "\n",
      "weight 12\n",
      "depth 2\n",
      "cusp order 3\n",
      "polynomial (1/212889600) * (16*H2^6 + 4*H2^5*H4 - 1485*H2^4*H4^2 - 14094*H2^3*H4^3 - 34837*H2^2*H4^4 - 33348*H2*H4^5 - 11116*H4^6 + 16*H2^5*E2_ + 612*H2^4*H4*E2_ + 4680*H2^3*H4^2*E2_ + 12920*H2^2*H4^3*E2_ + 14700*H2*H4^4*E2_ + 5880*H4^5*E2_ + 616*H2^3*H4*E2_^2 + 5852*H2^2*H4^2*E2_^2 + 10472*H2*H4^3*E2_^2 + 5236*H4^4*E2_^2) \n",
      "\n"
     ]
    }
   ],
   "source": [
    "for (w, s) in [(6, 1), (4, 2), (8, 2), (10, 2), (12, 2)]:\n",
    "    print_l2qmf(Y(w, s), \"Y_\" + str(w) + \",\" + str(s))"
   ]
  },
  {
   "cell_type": "markdown",
   "id": "73e89655",
   "metadata": {},
   "source": [
    "# Magic modular forms\n",
    "\n",
    "Now we verify the identities used in the proof of modular form inequalities for the optimal sphere packings in dimension $8$ and $24$."
   ]
  },
  {
   "cell_type": "markdown",
   "id": "5fa33725",
   "metadata": {},
   "source": [
    "## $d = 8$\n",
    "\n",
    "For dimension $8$, we have two modular forms $F$ and $G$ correspond to $(+1)$ and $(-1)$ Fourier eigenfunctions."
   ]
  },
  {
   "cell_type": "code",
   "execution_count": 44,
   "id": "d705024b",
   "metadata": {},
   "outputs": [
    {
     "name": "stdout",
     "output_type": "stream",
     "text": [
      "F_8d\n",
      "\n",
      "q_expansion 518400*q^2 + 18662400*q^3 + 255052800*q^4 + 1870387200*q^5 + 9760435200*q^6 + 38755584000*q^7 + 129782476800*q^8 + 372202905600*q^9 + 967623667200*q^10 + 2263116672000*q^11 + 4995028684800*q^12 + 10180874188800*q^13 + 19989201254400*q^14 + 36921804134400*q^15 + 66489204326400*q^16 + 113850991411200*q^17 + 191997786758400*q^18 + 309769955251200*q^19 + O(q^20) \n",
      "\n",
      "weight 12\n",
      "depth 2\n",
      "cusp order 2\n",
      "polynomial (-E2*E4 + E6)^2 \n",
      "\n",
      "G_8d\n",
      "\n",
      "q_expansion 20480*q^3 + 2015232*q^5 + 41656320*q^7 + 399933440*q^9 + 2434068480*q^11 + 10946396160*q^13 + 39685644288*q^15 + 122413547520*q^17 + 333096652800*q^19 + 819943505920*q^21 + 1859254149120*q^23 + 3937755267072*q^25 + 7871982018560*q^27 + 14975122391040*q^29 + Order(q^30) \n",
      "\n",
      "weight 10\n",
      "depth 0\n",
      "cusp order 3/2\n",
      "polynomial H2^3 * (2*H2^2 + 5*H2*H4 + 5*H4^2) \n",
      "\n"
     ]
    }
   ],
   "source": [
    "F_8d = (E2 * E4 - E6)^2\n",
    "print_qmf(F_8d, \"F_8d\")\n",
    "\n",
    "G_8d = H2^3 * (2 * H2^2 + 5 * H2 * H4 + 5 * H4^2)\n",
    "print_l2qmf(G_8d, \"G_8d\")"
   ]
  },
  {
   "cell_type": "markdown",
   "id": "734f8896",
   "metadata": {},
   "source": [
    "The following graph supports our idea: the quotient $F(it) / G(it)$ is a decreasing function, and the limit as $t \\to 0^+$ is $18 / \\pi^2$."
   ]
  },
  {
   "cell_type": "code",
   "execution_count": 115,
   "id": "28987a1c",
   "metadata": {},
   "outputs": [
    {
     "data": {
      "image/png": "[encoded data removed]",
      "text/plain": [
       "Graphics object consisting of 2 graphics primitives"
      ]
     },
     "metadata": {},
     "output_type": "display_data"
    }
   ],
   "source": [
    "f_8d = qmf_to_func(F_8d, prec=50)\n",
    "g_8d = l2qmf_to_func(G_8d, prec=100)\n",
    "\n",
    "q_8d = f_8d / g_8d\n",
    "lim_8d = 18 / pi^2\n",
    "\n",
    "show(\n",
    "    plot(lim_8d, (t, 0.2, 1.5), color=\"red\", legend_label=\"18 / pi^2\", linestyle=\"dashed\") + \\\n",
    "    plot(q_8d, (t, 0.2, 1.5), color=\"blue\", legend_label=\"F(it) / G(it)\")\n",
    ")"
   ]
  },
  {
   "cell_type": "code",
   "execution_count": 71,
   "id": "42c9df52",
   "metadata": {
    "scrolled": false
   },
   "outputs": [
    {
     "name": "stdout",
     "output_type": "stream",
     "text": [
      "L_8d\n",
      "\n",
      "q_expansion 5308416000*q^7 + 50960793600*q^9 + (-528718233600)*q^11 + (-1961990553600)*q^13 + 23011983360000*q^15 + (-22728513945600)*q^17 + (-168678103449600)*q^19 + (-25149151641600)*q^21 + 2255043782246400*q^23 + (-1339334590464000)*q^25 + (-14279004153446400)*q^27 + 15087095827660800*q^29 + Order(q^30) \n",
      "\n",
      "weight 24\n",
      "depth 2\n",
      "cusp order 7/2\n",
      "polynomial (-15/8) * H4^2 * (H2 + H4)^2 * H2^3 * (-2*H2^2 - 2*H2*H4 - 2*H4^2 + H2*E2_ + 2*H4*E2_) * (2*H2^3 + 3*H2^2*H4 - 3*H2*H4^2 - 2*H4^3 + 2*H2^2*E2_ + 2*H2*H4*E2_ + 2*H4^2*E2_) \n",
      "\n",
      "First factor: (2*H2^3 + 3*H2^2*H4 - 3*H2*H4^2 - 2*H4^3 + 2*H2^2*E2 + 2*H2*H4*E2 + 2*H4^2*E2) / 2\n",
      "\n",
      "q_expansion 720*q^2 + 12960*q^4 + 60480*q^6 + 210240*q^8 + 453600*q^10 + 1088640*q^12 + 1733760*q^14 + 3369600*q^16 + 4905360*q^18 + 8164800*q^20 + 10549440*q^22 + 17660160*q^24 + 20573280*q^26 + 31207680*q^28 + Order(q^30) \n",
      "\n",
      "weight 6\n",
      "depth 1\n",
      "cusp order 1\n",
      "polynomial (1/2) * (2*H2^3 + 3*H2^2*H4 - 3*H2*H4^2 - 2*H4^3 + 2*H2^2*E2_ + 2*H2*H4*E2_ + 2*H4^2*E2_) \n",
      "\n",
      "Second factor: H2^2 + H2*H4 + H4^2 - (H2 + 2 * H4) * E2 / 2\n",
      "\n",
      "q_expansion 240*q^2 + 2784*q^4 + 9024*q^6 + 24000*q^8 + 44064*q^10 + 82560*q^12 + 124032*q^14 + 195456*q^16 + 273840*q^18 + 378432*q^20 + 492480*q^22 + 681216*q^24 + 817824*q^26 + 1040640*q^28 + Order(q^30) \n",
      "\n",
      "weight 4\n",
      "depth 1\n",
      "cusp order 1\n",
      "polynomial (-1/2) * (-2*H2^2 - 2*H2*H4 - 2*H4^2 + H2*E2_ + 2*H4*E2_) \n",
      "\n"
     ]
    }
   ],
   "source": [
    "F_8d_ = l1_to_l2(F_8d)\n",
    "L_8d = l2qmf_serre_derivative(F_8d_) * G_8d - F_8d_ * l2qmf_serre_derivative(G_8d) \n",
    "\n",
    "print_l2qmf(L_8d, \"L_8d\")\n",
    "\n",
    "# We have two quasimodular factors, which are both positive\n",
    "# The first factor is nothing but 3 * E4', which has positive Fourier coefficients\n",
    "Fac_8d_1 = (1/2) * (2*H2^3 + 3*H2^2*H4 - 3*H2*H4^2 - 2*H4^3 + 2*H2^2*E2_ + 2*H2*H4*E2_ + 2*H4^2*E2_)\n",
    "print_l2qmf(Fac_8d_1, \"First factor: (2*H2^3 + 3*H2^2*H4 - 3*H2*H4^2 - 2*H4^3 + 2*H2^2*E2 + 2*H2*H4*E2 + 2*H4^2*E2) / 2\")\n",
    "assert Fac_8d_1 == E2_ * E4_ - E6_\n",
    "assert Fac_8d_1 == 3 * l2qmf_derivative(E4_)\n",
    "\n",
    "# The second factor is E4 - (H2 + 2 * H4) * E2 / 2\n",
    "Fac_8d_2 = (-1/2) * (-2*H2^2 - 2*H2*H4 - 2*H4^2 + H2*E2_ + 2*H4*E2_)  # include the negative sign\n",
    "print_l2qmf(Fac_8d_2, \"Second factor: H2^2 + H2*H4 + H4^2 - (H2 + 2 * H4) * E2 / 2\")\n",
    "assert Fac_8d_2 == E4_ - B * E2_ / 2"
   ]
  },
  {
   "cell_type": "markdown",
   "id": "62dba2ad",
   "metadata": {},
   "source": [
    "Here's a plot of the quotient $t \\mapsto F(it) / G(it)$ which is a decreasing function in $t$."
   ]
  },
  {
   "cell_type": "markdown",
   "id": "eed29cf5",
   "metadata": {},
   "source": [
    "## $d = 24$\n",
    "\n",
    "The (quasi)modular forms for the $24$-dimensional magic function are following."
   ]
  },
  {
   "cell_type": "code",
   "execution_count": 73,
   "id": "0ae352d5",
   "metadata": {
    "scrolled": false
   },
   "outputs": [
    {
     "name": "stdout",
     "output_type": "stream",
     "text": [
      "F_24d\n",
      "\n",
      "q_expansion 3657830400*q^3 + 138997555200*q^4 + 2567796940800*q^5 + 27477621964800*q^6 + 203324160614400*q^7 + 1155903669043200*q^8 + 5339174090342400*q^9 + 21015084264652800*q^10 + 72521005100544000*q^11 + 224861553797529600*q^12 + 636227181370368000*q^13 + 1668067755850137600*q^14 + 4088240185030041600*q^15 + 9465006273911193600*q^16 + 20805434866660147200*q^17 + 43762572956919398400*q^18 + 88336945205133004800*q^19 + O(q^20) \n",
      "\n",
      "weight 16\n",
      "depth 2\n",
      "cusp order 3\n",
      "polynomial 49*E2^2*E4^3 - 25*E2^2*E6^2 - 48*E2*E4^2*E6 - 25*E4^4 + 49*E4*E6^2 \n",
      "\n",
      "G_24d\n",
      "\n",
      "q_expansion 7340032*q^5 + 566231040*q^7 + 14900264960*q^9 + 202291281920*q^11 + 1774709637120*q^13 + 11404383879168*q^15 + 58038146826240*q^17 + 246418086297600*q^19 + 905169579540480*q^21 + 2953520097525760*q^23 + 8731672090509312*q^25 + 23746909873111040*q^27 + 60124559766978560*q^29 + Order(q^30) \n",
      "\n",
      "weight 14\n",
      "depth 0\n",
      "cusp order 5/2\n",
      "polynomial H2^5 * (2*H2^2 + 7*H2*H4 + 7*H4^2) \n",
      "\n"
     ]
    }
   ],
   "source": [
    "F_24d = 49 * E2^2 * E4^3 - 25 * E2^2 * E6^2 - 48 * E2 * E4^2 * E6 - 25 * E4^4 + 49 * E4 * E6^2\n",
    "print_qmf(F_24d, \"F_24d\")\n",
    "\n",
    "G_24d = H2^5 * (2 * H2^2 + 7 * H2 * H4 + 7 * H4^2)\n",
    "print_l2qmf(G_24d, \"G_24d\")"
   ]
  },
  {
   "cell_type": "markdown",
   "id": "2169501a",
   "metadata": {},
   "source": [
    "The following graph supports our idea: the quotient $F(it) / G(it)$ is a decreasing function, and the limit as $t \\to 0^+$ is $432 / \\pi^2$."
   ]
  },
  {
   "cell_type": "code",
   "execution_count": 116,
   "id": "70fd9113",
   "metadata": {
    "scrolled": false
   },
   "outputs": [
    {
     "data": {
      "image/png": "[encoded data removed]",
      "text/plain": [
       "Graphics object consisting of 2 graphics primitives"
      ]
     },
     "metadata": {},
     "output_type": "display_data"
    }
   ],
   "source": [
    "f_24d = qmf_to_func(F_24d, prec=50)\n",
    "g_24d = l2qmf_to_func(G_24d, prec=100)\n",
    "\n",
    "q_24d = f_24d / g_24d\n",
    "lim_24d = 432 / pi^2\n",
    "\n",
    "show(\n",
    "    plot(lim_24d, (t, 0.2, 1.5), color=\"red\", legend_label=\"432 / pi^2\", linestyle=\"dashed\") + \\\n",
    "    plot(q_24d, (t, 0.2, 1.5), color=\"blue\", legend_label=\"F(it) / G(it)\")\n",
    ")"
   ]
  },
  {
   "cell_type": "markdown",
   "id": "d277411f",
   "metadata": {},
   "source": [
    "It is clear from the expression that $G$ is positive. For $F$, Serre derivative of $F$ factors as a product of extremal forms$X_{6,1}$ and $X_{12,1}$, which are both (completely) positive. This implies positivity of $F$."
   ]
  },
  {
   "cell_type": "code",
   "execution_count": 98,
   "id": "811dc6c9",
   "metadata": {},
   "outputs": [
    {
     "name": "stdout",
     "output_type": "stream",
     "text": [
      "S_14(F_24d)\n",
      "\n",
      "q_expansion 6706022400*q^3 + 496245657600*q^4 + 14042410905600*q^5 + 216792292147200*q^6 + 2187410622566400*q^7 + 16215323107737600*q^8 + 94873425079910400*q^9 + 460862859379507200*q^10 + 1924860638237644800*q^11 + 7100425841338368000*q^12 + 23586538442064998400*q^13 + 71694366272969932800*q^14 + 201781741465304985600*q^15 + 531331202203774156800*q^16 + 1319004010440990720000*q^17 + 3109234547965516185600*q^18 + 6995462883702112512000*q^19 + O(q^20) \n",
      "\n",
      "weight 18\n",
      "depth 2\n",
      "cusp order 3\n",
      "polynomial (-7/3) * (-E2*E4 + E6) * (-12*E2*E4*E6 + 5*E4^3 + 7*E6^2) \n",
      "\n",
      "X_6,1\n",
      "\n",
      "q_expansion q + 18*q^2 + 84*q^3 + 292*q^4 + 630*q^5 + 1512*q^6 + 2408*q^7 + 4680*q^8 + 6813*q^9 + 11340*q^10 + 14652*q^11 + 24528*q^12 + 28574*q^13 + 43344*q^14 + 52920*q^15 + 74896*q^16 + 83538*q^17 + 122634*q^18 + 130340*q^19 + O(q^20) \n",
      "\n",
      "weight 6\n",
      "depth 1\n",
      "cusp order 1\n",
      "polynomial (-1/720) * (-E2*E4 + E6) \n",
      "\n",
      "X_12,1\n",
      "\n",
      "q_expansion q^2 + 56*q^3 + 1002*q^4 + 9296*q^5 + 57708*q^6 + 269040*q^7 + 1024532*q^8 + 3321024*q^9 + 9542526*q^10 + 24701800*q^11 + 59087672*q^12 + 131294352*q^13 + 276018296*q^14 + 549217872*q^15 + 1049202216*q^16 + 1920000768*q^17 + 3407256981*q^18 + 5839100568*q^19 + O(q^20) \n",
      "\n",
      "weight 12\n",
      "depth 1\n",
      "cusp order 2\n",
      "polynomial (1/3991680) * (-12*E2*E4*E6 + 5*E4^3 + 7*E6^2) \n",
      "\n"
     ]
    }
   ],
   "source": [
    "SF_24d = serre_der_weight(F_24d, 14)\n",
    "print_qmf(SF_24d, \"S_14(F_24d)\")\n",
    "\n",
    "X_6_1 = find_extremal_qmf(6, 1)\n",
    "X_12_1 = find_extremal_qmf(12, 1)\n",
    "print_qmf(X_6_1, \"X_6,1\")\n",
    "print_qmf(X_12_1, \"X_12,1\")\n",
    "\n",
    "assert SF_24d == 6706022400 * X_6_1 * X_12_1"
   ]
  },
  {
   "cell_type": "markdown",
   "id": "b67afce6",
   "metadata": {},
   "source": [
    "Regarding the \"hard\" inequality, the denominator of the derivative of the fraction is following. It has a single quasimodular factor of weight $14$, depth $2$, and order $3$."
   ]
  },
  {
   "cell_type": "code",
   "execution_count": 81,
   "id": "b8192aa7",
   "metadata": {},
   "outputs": [
    {
     "name": "stdout",
     "output_type": "stream",
     "text": [
      "L_24d\n",
      "\n",
      "q_expansion 13424296093286400*q^11 + 494781198866841600*q^13 + 4717681198497792000*q^15 + 1434481925396889600*q^17 + (-154584605027362406400)*q^19 + (-391694111409910579200)*q^21 + 1831396170230503833600*q^23 + 8236035784021377024000*q^25 + (-6718846770393749913600)*q^27 + (-83998612909280408371200)*q^29 + Order(q^30) \n",
      "\n",
      "weight 32\n",
      "depth 2\n",
      "cusp order 11/2\n",
      "polynomial (-105/8) * H4^2 * (H2 + H4)^2 * H2^5 * (-26*H2^7 - 130*H2^6*H4 - 333*H2^5*H4^2 - 536*H2^4*H4^3 - 415*H2^3*H4^4 - 54*H2^2*H4^5 + 112*H2*H4^6 + 32*H4^7 + 20*H2^6*E2_ + 90*H2^5*H4*E2_ + 96*H2^4*H4^2*E2_ - 52*H2^3*H4^3*E2_ - 186*H2^2*H4^4*E2_ - 192*H2*H4^5*E2_ - 64*H4^6*E2_ + 46*H2^5*E2_^2 + 184*H2^4*H4*E2_^2 + 292*H2^3*H4^2*E2_^2 + 248*H2^2*H4^3*E2_^2 + 80*H2*H4^4*E2_^2 + 32*H4^5*E2_^2) \n",
      "\n",
      "Quasimodular factor of L_24d\n",
      "\n",
      "q_expansion 975421440*q^6 + 47656304640*q^8 + 885403975680*q^10 + 9104305029120*q^12 + 63040930283520*q^14 + 332654383595520*q^16 + 1428831883100160*q^18 + 5238200413716480*q^20 + 16888400688660480*q^22 + 49069556534476800*q^24 + 130555204881776640*q^26 + 322744527606251520*q^28 + Order(q^30) \n",
      "\n",
      "weight 14\n",
      "depth 2\n",
      "cusp order 3\n",
      "polynomial (-1) * (-26*H2^7 - 130*H2^6*H4 - 333*H2^5*H4^2 - 536*H2^4*H4^3 - 415*H2^3*H4^4 - 54*H2^2*H4^5 + 112*H2*H4^6 + 32*H4^7 + 20*H2^6*E2_ + 90*H2^5*H4*E2_ + 96*H2^4*H4^2*E2_ - 52*H2^3*H4^3*E2_ - 186*H2^2*H4^4*E2_ - 192*H2*H4^5*E2_ - 64*H4^6*E2_ + 46*H2^5*E2_^2 + 184*H2^4*H4*E2_^2 + 292*H2^3*H4^2*E2_^2 + 248*H2^2*H4^3*E2_^2 + 80*H2*H4^4*E2_^2 + 32*H4^5*E2_^2) \n",
      "\n"
     ]
    }
   ],
   "source": [
    "F_24d_ = l1_to_l2(F_24d)\n",
    "L_24d = l2qmf_derivative(F_24d_) * G_24d - F_24d_ * l2qmf_derivative(G_24d)\n",
    "print_l2qmf(L_24d, \"L_24d\")\n",
    "\n",
    "Fac_24d = (-1) * (-26*H2^7 - 130*H2^6*H4 - 333*H2^5*H4^2 - 536*H2^4*H4^3 - 415*H2^3*H4^4 - 54*H2^2*H4^5 + 112*H2*H4^6 + 32*H4^7 \\\n",
    "                  + 20*H2^6*E2_ + 90*H2^5*H4*E2_ + 96*H2^4*H4^2*E2_ - 52*H2^3*H4^3*E2_ - 186*H2^2*H4^4*E2_ - 192*H2*H4^5*E2_ - 64*H4^6*E2_ \\\n",
    "                  + 46*H2^5*E2_^2 + 184*H2^4*H4*E2_^2 + 292*H2^3*H4^2*E2_^2 + 248*H2^2*H4^3*E2_^2 + 80*H2*H4^4*E2_^2 + 32*H4^5*E2_^2)\n",
    "\n",
    "print_l2qmf(Fac_24d, \"Quasimodular factor of L_24d\")"
   ]
  },
  {
   "cell_type": "markdown",
   "id": "67a321b7",
   "metadata": {},
   "source": [
    "Now, the factor can be expressed as a positive combination of $X_{w, 2}^{(2)}$, $Y_{w, 2}$ for $w \\in \\{8, 10, 12\\}$, multiplied by certain powers of $A$ and $B$."
   ]
  },
  {
   "cell_type": "code",
   "execution_count": 97,
   "id": "e4e2994d",
   "metadata": {},
   "outputs": [
    {
     "name": "stdout",
     "output_type": "stream",
     "text": [
      "Coefficients: (43027200, 550800, 60963840, 116640, 339075072000, 331776000)\n"
     ]
    }
   ],
   "source": [
    "X_8_2_2 = double_level(find_extremal_qmf(8, 2))\n",
    "X_10_2_2 = double_level(find_extremal_qmf(10, 2))\n",
    "X_12_2_2 = double_level(find_extremal_qmf(12, 2))\n",
    "Y_8_2 = Y(8, 2)\n",
    "Y_10_2 = Y(10, 2)\n",
    "Y_12_2 = Y(12, 2)\n",
    "\n",
    "ls = [\n",
    "    X_8_2_2 * A * B,\n",
    "    Y_8_2 * A * B,\n",
    "    X_10_2_2 * A,\n",
    "    Y_10_2 * A,\n",
    "    X_12_2_2 * B,\n",
    "    Y_12_2 * B,\n",
    "]\n",
    "\n",
    "x = l2qmf_find_lin_comb(Fac_24d, ls)\n",
    "print(\"Coefficients:\", x)"
   ]
  }
 ],
 "metadata": {
  "kernelspec": {
   "display_name": "SageMath 9.8",
   "language": "sage",
   "name": "sagemath-9.8"
  },
  "language_info": {
   "codemirror_mode": {
    "name": "ipython",
    "version": 3
   },
   "file_extension": ".py",
   "mimetype": "text/x-python",
   "name": "python",
   "nbconvert_exporter": "python",
   "pygments_lexer": "ipython3",
   "version": "3.11.1"
  }
 },
 "nbformat": 4,
 "nbformat_minor": 5
}
