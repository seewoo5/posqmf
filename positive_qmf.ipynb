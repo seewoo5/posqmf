{
 "cells": [
  {
   "cell_type": "markdown",
   "id": "0b0c04d4",
   "metadata": {},
   "source": [
    "This is a supplementary sage notebook for the paper \"Extremal quasimodular forms and modular form inequalities for optimal sphere packing\". This code checks the modular form identities appearing in the paper."
   ]
  },
  {
   "cell_type": "markdown",
   "id": "41035f2b",
   "metadata": {},
   "source": [
    "# Level 1 quasimodular forms\n",
    "\n",
    "Quasimodular forms of level 1 (or more generally, level $\\Gamma_0(N)$ or $\\Gamma_1(N)$) is implemented in Sage, mostly by David Ayotte. We define some utility functions that help us to study the quasimodular forms easily."
   ]
  },
  {
   "cell_type": "code",
   "execution_count": 1,
   "id": "2624c934",
   "metadata": {},
   "outputs": [],
   "source": [
    "# Level 1 quasimodular forms\n",
    "QM = QuasiModularForms(1)\n",
    "E2, E4, E6 = QM.0, QM.1, QM.2  # generators, normalized as constant terms = 1\n",
    "Disc = (1 / 1728) * (E4^3 - E6^2)  # discriminant form\n",
    "\n",
    "# Depth\n",
    "def qm_depth(qm):\n",
    "    return qm.polynomial().degree(E2.polynomial())\n",
    "\n",
    "# Fourier coefficients\n",
    "def qm_coefficients(qm, prec=20):\n",
    "    qexp = qm.q_expansion(prec)\n",
    "    return q_expansion_to_list(qexp, prec)\n",
    "\n",
    "def q_expansion_to_list(qexp, prec=20):\n",
    "    return [qexp[i] for i in range(prec)]\n",
    "\n",
    "# Iterative differentiation of quasimodular forms\n",
    "def qm_derivative_fold(qm, k):\n",
    "    if k == 0:\n",
    "        return qm\n",
    "    else:\n",
    "        return qm_derivative_fold(qm.derivative(), k - 1)\n",
    "\n",
    "# Serre derivative with given weight k\n",
    "# If weight is not given, we use k = (weight - depth) that preserves depth.\n",
    "def qm_serre_derivative(qm, k=None):\n",
    "    if k is None:\n",
    "        k = qm.weight() - qm_depth(qm)\n",
    "    return qm.derivative() - E2 * qm * (k / 12)\n",
    "\n",
    "# Iterative Serre derivative, which is \n",
    "# \\partial_{k + 2(r-1)} \\circ \\partial_{k + 2(r-2)} \\circ \\cdots \\circ \\partial_{k} for given r >= 1.\n",
    "def qm_serre_derivative_fold(qm, r, k=None):\n",
    "    assert r >= 0\n",
    "    if r == 0:\n",
    "        return qm\n",
    "    elif r == 1:\n",
    "        return qm_serre_derivative(qm, k)\n",
    "    else:\n",
    "        if k is None:\n",
    "            k = qm.weight() - qm_depth(qm)\n",
    "        return qm_serre_derivative(qm_serre_derivative_fold(qm, r-1, k), k + 2 * (r-1))\n",
    "\n",
    "# Dimension of the space of (genuine) modular forms of weight w and level 1\n",
    "def dim_m(w):\n",
    "    assert w % 2 == 0\n",
    "    if w % 12 == 2:\n",
    "        return w // 12\n",
    "    else:\n",
    "        return w // 12 + 1\n",
    "\n",
    "# Dimension of the space of (genuine) modular forms of weight w, depth <= s and level 1\n",
    "def dim_qm(w, s):\n",
    "    assert w % 2 == 0\n",
    "    assert s >= 0\n",
    "    d = (w * (s + 1)) // 12\n",
    "    d -= ((s + 1) // 6) * (s - 3 * ((s + 1) // 6) - 1)\n",
    "    d += s // 6 + 1\n",
    "    if (w * (s + 1)) % 12 == 2:\n",
    "        d -= 1\n",
    "    return d\n",
    "\n",
    "# Basis of the space of quasimodular forms of given weight and depth, in terms of Eisenstein series\n",
    "def qm_basis(w, s):\n",
    "    basis = []\n",
    "    for r in range(s + 1):\n",
    "        w_ = w - 2 * r\n",
    "        for i in range(w_ // 4 + 1):\n",
    "            if (w_ - 4 * i) % 6 == 0:\n",
    "                j = (w_ - 4 * i) // 6\n",
    "                basis.append(E2^r * E4^i * E6^j)\n",
    "    return basis\n",
    "\n",
    "# Vanishing order at the cusp\n",
    "def qm_cusp_order(qm):\n",
    "    N = 1000\n",
    "    c_ = qm_coefficients(qm, N)\n",
    "    r = 0\n",
    "    for i in range(N):\n",
    "        if c_[i] != 0:\n",
    "            break\n",
    "        r += 1\n",
    "    return r\n",
    "\n",
    "# First nonzero Fourier coefficient\n",
    "def qm_first_nonzero_coeff(qm):\n",
    "    N = 1000\n",
    "    c_ = qm_coefficients(qm, N)\n",
    "    for i in range(N):\n",
    "        if c_[i] != 0:\n",
    "            return c_[i]\n",
    "\n",
    "# Normalize to make the first nonzero coefficient as 1\n",
    "def qm_normalize(qm):\n",
    "    return qm / qm_first_nonzero_coeff(qm)\n",
    "\n",
    "# Print q-expansion, weight, depth, cusp order, and its polynomial form\n",
    "def print_qm(qm, name, prec=20):\n",
    "    print(name + \"\\n\")\n",
    "    print(\"q_expansion\", qm.q_expansion(prec), \"\\n\")\n",
    "    print(\"weight\", qm.weight())\n",
    "    print(\"depth\", qm_depth(qm))\n",
    "    print(\"cusp order\", qm_cusp_order(qm))\n",
    "    print(\"polynomial\", qm.polynomial().factor(), \"\\n\")"
   ]
  },
  {
   "cell_type": "markdown",
   "id": "1c2a799c",
   "metadata": {},
   "source": [
    "For example, the following quasimodular forms appear as a part of the magic functions."
   ]
  },
  {
   "cell_type": "code",
   "execution_count": 2,
   "id": "48462225",
   "metadata": {},
   "outputs": [
    {
     "name": "stdout",
     "output_type": "stream",
     "text": [
      "F_8d\n",
      "\n",
      "q_expansion 518400*q^2 + 18662400*q^3 + 255052800*q^4 + 1870387200*q^5 + 9760435200*q^6 + 38755584000*q^7 + 129782476800*q^8 + 372202905600*q^9 + 967623667200*q^10 + 2263116672000*q^11 + 4995028684800*q^12 + 10180874188800*q^13 + 19989201254400*q^14 + 36921804134400*q^15 + 66489204326400*q^16 + 113850991411200*q^17 + 191997786758400*q^18 + 309769955251200*q^19 + O(q^20) \n",
      "\n",
      "weight 12\n",
      "depth 2\n",
      "cusp order 2\n",
      "polynomial (-E2*E4 + E6)^2 \n",
      "\n",
      "F_24d\n",
      "\n",
      "q_expansion 3657830400*q^3 + 138997555200*q^4 + 2567796940800*q^5 + 27477621964800*q^6 + 203324160614400*q^7 + 1155903669043200*q^8 + 5339174090342400*q^9 + 21015084264652800*q^10 + 72521005100544000*q^11 + 224861553797529600*q^12 + 636227181370368000*q^13 + 1668067755850137600*q^14 + 4088240185030041600*q^15 + 9465006273911193600*q^16 + 20805434866660147200*q^17 + 43762572956919398400*q^18 + 88336945205133004800*q^19 + O(q^20) \n",
      "\n",
      "weight 16\n",
      "depth 2\n",
      "cusp order 3\n",
      "polynomial 49*E2^2*E4^3 - 25*E2^2*E6^2 - 48*E2*E4^2*E6 - 25*E4^4 + 49*E4*E6^2 \n",
      "\n"
     ]
    }
   ],
   "source": [
    "F_8d = (E2 * E4 - E6)^2\n",
    "print_qm(F_8d, \"F_8d\")\n",
    "\n",
    "F_24d = 49 * E2^2 * E4^3 - 25 * E2^2 * E6^2 - 48 * E2 * E4^2 * E6 - 25 * E4^4 + 49 * E4 * E6^2\n",
    "print_qm(F_24d, \"F_24d\")"
   ]
  },
  {
   "cell_type": "markdown",
   "id": "07a14894",
   "metadata": {},
   "source": [
    "For a given quasimodular form $F$ and a list of other forms $F_i$, the following function tries to express a linear expression $F = \\sum_i c_i F_i$ using the first few Fourier coefficients."
   ]
  },
  {
   "cell_type": "code",
   "execution_count": 3,
   "id": "56407e63",
   "metadata": {},
   "outputs": [],
   "source": [
    "def qm_find_lin_comb(qm, ls):\n",
    "    w = qm.weight()\n",
    "    s = qm_depth(qm)\n",
    "    N = dim_qm(w, s)\n",
    "    m = matrix([qm_coefficients(qm_, N) for qm_ in ls])\n",
    "    c_ = vector(qm_coefficients(qm, N))\n",
    "    x_ = m.solve_left(c_)\n",
    "    r = sum(x_[j] * ls[j] for j in range(len(ls)))\n",
    "    assert qm == r\n",
    "    return x_"
   ]
  },
  {
   "cell_type": "markdown",
   "id": "49825e53",
   "metadata": {},
   "source": [
    "For example, the following code shows the identity $E_{10}' = \\frac{5}{3}E_{4} E_{6}' + 576\\Delta$."
   ]
  },
  {
   "cell_type": "code",
   "execution_count": 4,
   "id": "a2642193",
   "metadata": {},
   "outputs": [
    {
     "name": "stdout",
     "output_type": "stream",
     "text": [
      "E_10'\n",
      "\n",
      "q_expansion -264*q - 270864*q^2 - 15589728*q^3 - 277365792*q^4 - 2578126320*q^5 - 15995060928*q^6 - 74573467584*q^7 - 284022573120*q^8 - 920557851048*q^9 - 2645157604320*q^10 - 6847480097568*q^11 - 16379004749184*q^12 - 36394641851568*q^13 - 76512377741184*q^14 - 152243515448640*q^15 - 290839114879104*q^16 - 532222389723024*q^17 - 944492355175248*q^18 - 1618601492064480*q^19 + O(q^20) \n",
      "\n",
      "weight 12\n",
      "depth 1\n",
      "cusp order 1\n",
      "polynomial (-1/6) * (-5*E2*E4*E6 + 3*E4^3 + 2*E6^2) \n",
      "\n",
      "(5/3, 576)\n"
     ]
    }
   ],
   "source": [
    "E10 = E4 * E6\n",
    "print_qm(E10.derivative(), \"E_10'\")\n",
    "print(qm_find_lin_comb(E10.derivative(), [E4 * E6.derivative(), Disc]))"
   ]
  },
  {
   "cell_type": "markdown",
   "id": "ba9034f5",
   "metadata": {},
   "source": [
    "We also have a function to restrict a modular form as a function on the imaginary axis, i.e. the function $t \\mapsto F(it)$."
   ]
  },
  {
   "cell_type": "code",
   "execution_count": 5,
   "id": "aba2d692",
   "metadata": {},
   "outputs": [],
   "source": [
    "def qm_to_func(qm, prec=100):\n",
    "    t = var('t')\n",
    "    c = qm.q_expansion(prec).list()\n",
    "    func = c[0]\n",
    "    for i in range(1, prec):\n",
    "        func += c[i] * exp(-i * 2 * pi * t)\n",
    "    return func"
   ]
  },
  {
   "cell_type": "markdown",
   "id": "ff7870da",
   "metadata": {},
   "source": [
    "As an example, here is a plot of all the terms appearing in the definition of `F_24d`."
   ]
  },
  {
   "cell_type": "code",
   "execution_count": 6,
   "id": "ebccfa94",
   "metadata": {},
   "outputs": [
    {
     "data": {
      "image/png": "[encoded data removed]",
      "text/plain": [
       "Graphics object consisting of 6 graphics primitives"
      ]
     },
     "metadata": {},
     "output_type": "display_data"
    }
   ],
   "source": [
    "F_24d = 49 * E2^2 * E4^3 - 25 * E2^2 * E6^2 - 48 * E2 * E4^2 * E6 - 25 * E4^4 + 49 * E4 * E6^2\n",
    "C1 = 49 * E2^2 * E4^3\n",
    "C2 = - 25 * E2^2 * E6^2\n",
    "C3 = - 48 * E2 * E4^2 * E6\n",
    "C4 = - 25 * E4^4\n",
    "C5 = 49 * E4 * E6^2\n",
    "\n",
    "ls = [C1, C2, C3, C4, C5, F_24d]\n",
    "names = [\"49 * E2^2 * E4^3\", \"-25 * E2^2 * E6^2\", \"-48 * E2 * E4^2 * E6\", \"-25 * E4^4\", \"49 * E4 * E6^2\", \"F_24d\"]\n",
    "plots = [\n",
    "    plot(qm_to_func(ls[i]), (t, 0.85, 1.1), color=rainbow(len(ls))[i], legend_label=names[i]) for i in range(len(ls))\n",
    "]\n",
    "show(sum(plots))"
   ]
  },
  {
   "cell_type": "markdown",
   "id": "5b1c418b",
   "metadata": {},
   "source": [
    "# Level 2 quasimodular forms\n",
    "\n",
    "Level $\\Gamma(2)$ quasimodular forms can be written as polynomial in $E_2$, $H_2 = \\Theta_2^4$, $H_4 = \\Theta_4^4$, where $\\Theta_2$ and $\\Theta_4$ are Jacobi thetanulle functions. We implement the ring of quasimodular forms of level $\\Gamma(2)$ using this fact."
   ]
  },
  {
   "cell_type": "code",
   "execution_count": 7,
   "id": "95a42a76",
   "metadata": {},
   "outputs": [],
   "source": [
    "# E2_, E4_, E6_ are the usual Eisenstein series of level 1 and weight 2, 4, 6, but in the space of level 2 forms\n",
    "QM2.<H2, H4, E2_> = QQ['H2,H4,E2']\n",
    "E4_ = H2^2 + H2 * H4 + H4^2\n",
    "E6_ = (H2 + 2 * H4) * (2 * H2 + H4) * (H4 - H2) / 2\n",
    "Disc_ = H2^2 * (H2 + H4)^2 * H4^2 / 256\n",
    "\n",
    "\n",
    "# Weight\n",
    "def qm2_weight(qm):\n",
    "    w = None\n",
    "    for (a, b, e) in qm.dict().keys():\n",
    "        if w is None:\n",
    "            w = 2 * a + 2 * b + 2 * e\n",
    "        else:\n",
    "            assert w == 2 * a + 2 * b + 2 * e\n",
    "    return w\n",
    "\n",
    "# Depth\n",
    "def qm2_depth(qm):\n",
    "    dp = 0\n",
    "    for (_, _, e) in qm.dict().keys():\n",
    "        dp = max(e, dp)\n",
    "    return dp\n",
    "\n",
    "# Derivative of level 2 quasimodular form\n",
    "def qm2_derivative(qm):\n",
    "    r = QM2(0)\n",
    "    for (a, b, e), coeff in qm.dict().items():\n",
    "        r += (coeff / 6) * H2^a * H4^b * ((a - 2 * b) * H2 + (2 * a - b) * H4 + (a + b) * E2_) * E2_^e\n",
    "        if e >= 1:\n",
    "            r += coeff * H2^a * H4^b * e * E2_^(e-1) * (E2_^2 - E4_) / 12\n",
    "    return r\n",
    "\n",
    "# Serre derivative\n",
    "def qm2_serre_derivative(qm, k=None):\n",
    "    if k is None:\n",
    "        # Serre derivative that preserves depth\n",
    "        k = qm2_weight(qm) - qm2_depth(qm)\n",
    "    return qm2_derivative(qm) - (k / 12) * E2_ * qm\n",
    "\n",
    "\n",
    "# Iterative Serre derivative\n",
    "def qm2_serre_derivative_fold(qm, r, k=None):\n",
    "    assert r >= 0\n",
    "    if r == 0:\n",
    "        return qm\n",
    "    elif r == 1:\n",
    "        return qm2_serre_derivative(qm, k)\n",
    "    else:\n",
    "        if k is None:\n",
    "            k = qm.weight() - qm2_depth(qm)\n",
    "        return qm2_serre_derivative(qm2_serre_derivative_fold(qm, r-1, k), k + 2 * (r-1))"
   ]
  },
  {
   "cell_type": "markdown",
   "id": "8598bdb7",
   "metadata": {},
   "source": [
    "Level $\\Gamma(2)$ quasimodular forms admit expansions in $q^{1/2}$ in general. The below functions give you an expansion in $q^{1/2}$, where the variable's name is `qh`."
   ]
  },
  {
   "cell_type": "code",
   "execution_count": 8,
   "id": "9ef966e1",
   "metadata": {},
   "outputs": [],
   "source": [
    "# q-series\n",
    "# Note that the variable `q` in the expansion is in fact e^(pi * i * z), which is `q^(1/2)`.\n",
    "# The default precision is fixed (which is enough for our purpose), but you can increase it\n",
    "prec = 80\n",
    "qh = var('qh')  # q^1/2\n",
    "\n",
    "def sigma(k, m):\n",
    "    r = 0\n",
    "    for i in range(1, k + 1):\n",
    "        if k%i == 0:\n",
    "            r += i^m\n",
    "    return r\n",
    "\n",
    "def r4(k):\n",
    "    if k == 0:\n",
    "        return 1\n",
    "    elif k % 4 == 0:\n",
    "        return 8 * sigma(k, 1) - 32 * sigma(k / 4, 1)\n",
    "    else:\n",
    "        return 8 * sigma(k, 1)\n",
    "\n",
    "# q-series of Jacobi thetanulle functions\n",
    "H3ser = 1\n",
    "for i in range(1, prec):\n",
    "    H3ser += r4(i) * qh^i\n",
    "H4ser = 1\n",
    "for i in range(1, prec):\n",
    "    H4ser += (-1)^i * r4(i) * qh^i\n",
    "H2ser = H3ser - H4ser\n",
    "\n",
    "# q-series of Eisenstein series\n",
    "E2ser = 1\n",
    "for i in range(1, prec):\n",
    "    E2ser -= 24 * sigma(i, 1) * qh^(2 * i)\n",
    "\n",
    "E4ser = 1\n",
    "for i in range(1, prec):\n",
    "    E4ser += 240 * sigma(i, 3) * qh^(2 * i)\n",
    "    \n",
    "E6ser = 1\n",
    "for i in range(1, prec):\n",
    "    E6ser -= 504 * sigma(i, 5) * qh^(2 * i)\n",
    "\n",
    "def qm2_q_series(qm, prec=20):\n",
    "    # Recall that the series is in q^(1/2)\n",
    "    r = 0\n",
    "    H2ser_ = H2ser.series(qh, prec)\n",
    "    H4ser_ = H4ser.series(qh, prec)\n",
    "    E2ser_ = E2ser.series(qh, prec)\n",
    "    for (a, b, e), coeff in qm.dict().items():\n",
    "        r += coeff * H2ser_^a * H4ser_^b * E2ser_^e\n",
    "    return r.series(qh, prec)\n",
    "\n",
    "# Cusp order\n",
    "def qm2_cusp_order(qm):\n",
    "    N = 50\n",
    "    c = qm2_q_series(qm, N).list()\n",
    "    for i in range(N):\n",
    "        if c[i] != 0:\n",
    "            return i / 2\n",
    "\n",
    "# First nonzero Fourier coefficient\n",
    "def qm2_first_nonzero_coeff(qm):\n",
    "    N = 100\n",
    "    c = qm2_q_series(qm, N).list()\n",
    "    for i in range(N):\n",
    "        if c[i] != 0:\n",
    "            return Rational(c[i])\n",
    "\n",
    "def qm2_normalize(qm):\n",
    "    return qm / qm2_first_nonzero_coeff(qm)\n",
    "\n",
    "def print_qm2(qm, name, prec=30):\n",
    "    print(name + \"\\n\")\n",
    "    print(\"q_expansion\", qm2_q_series(qm, prec), \"\\n\")\n",
    "    print(\"weight\", qm2_weight(qm))\n",
    "    print(\"depth\", qm2_depth(qm))\n",
    "    print(\"cusp order\", qm2_cusp_order(qm))\n",
    "    print(\"polynomial\", qm.factor(), \"\\n\")"
   ]
  },
  {
   "cell_type": "code",
   "execution_count": 9,
   "id": "46e56fd7",
   "metadata": {},
   "outputs": [
    {
     "name": "stdout",
     "output_type": "stream",
     "text": [
      "H3\n",
      "\n",
      "q_expansion 1 + 8*qh + 24*qh^2 + 32*qh^3 + 24*qh^4 + 48*qh^5 + 96*qh^6 + 64*qh^7 + 24*qh^8 + 104*qh^9 + 144*qh^10 + 96*qh^11 + 96*qh^12 + 112*qh^13 + 192*qh^14 + 192*qh^15 + 24*qh^16 + 144*qh^17 + 312*qh^18 + 160*qh^19 + 144*qh^20 + 256*qh^21 + 288*qh^22 + 192*qh^23 + 96*qh^24 + 248*qh^25 + 336*qh^26 + 320*qh^27 + 192*qh^28 + 240*qh^29 + Order(qh^30) \n",
      "\n",
      "weight 2\n",
      "depth 0\n",
      "cusp order 0\n",
      "polynomial H2 + H4 \n",
      "\n"
     ]
    }
   ],
   "source": [
    "print_qm2(H2 + H4, \"H3\")  # Jacobi identity"
   ]
  },
  {
   "cell_type": "markdown",
   "id": "a152bbcb",
   "metadata": {},
   "source": [
    "We can also define `qm2_find_lin_comb` for level $\\Gamma(2)$ quasimodular forms."
   ]
  },
  {
   "cell_type": "code",
   "execution_count": 10,
   "id": "c143be49",
   "metadata": {},
   "outputs": [],
   "source": [
    "def dim_m2(w):\n",
    "    return w / 2 + 1\n",
    "\n",
    "def dim_qm2(w, s=None):\n",
    "    if s is None:\n",
    "        s = w / 2\n",
    "    d = 0\n",
    "    for k in range(s + 1):\n",
    "        d += dim_m2(w - 2 * k)\n",
    "    return d\n",
    "\n",
    "def qm2_find_lin_comb(qm, ls, prec=40):\n",
    "    w = qm2_weight(qm)\n",
    "    s = qm2_depth(qm)\n",
    "    N = dim_qm2(w, s)\n",
    "    m = matrix([qm2_q_series(qm_, N).list()[:N] for qm_ in ls])\n",
    "    c_ = vector(qm2_q_series(qm, N).list())\n",
    "    x_ = m.solve_left(c_)\n",
    "    # check if we get the right result\n",
    "    r = sum(Rational(x_[j]) * ls[j] for j in range(len(ls)))\n",
    "    assert r == qm\n",
    "    return x_"
   ]
  },
  {
   "cell_type": "markdown",
   "id": "44249946",
   "metadata": {},
   "source": [
    "We can also embed a level $1$ form as a level $\\Gamma(2)$ form."
   ]
  },
  {
   "cell_type": "code",
   "execution_count": 11,
   "id": "7f475ae5",
   "metadata": {},
   "outputs": [],
   "source": [
    "# Rewrite level 1 quasimodular forms as level Gamma(2) forms\n",
    "def l1_to_l2(qm):\n",
    "    r = QM2(0)\n",
    "    for (d2, d4, d6), coeff in qm.polynomial().dict().items():\n",
    "        r += coeff * E2_^d2 * E4_^d4 * E6_^d6\n",
    "    return r"
   ]
  },
  {
   "cell_type": "code",
   "execution_count": 12,
   "id": "94d7bd09",
   "metadata": {},
   "outputs": [],
   "source": [
    "assert l1_to_l2(E2) == E2_\n",
    "assert l1_to_l2(E4) == E4_\n",
    "assert l1_to_l2(E6) == E6_"
   ]
  },
  {
   "cell_type": "code",
   "execution_count": 13,
   "id": "f68af372",
   "metadata": {},
   "outputs": [],
   "source": [
    "def qm2_to_func(qm, prec=100):\n",
    "    qser = qm2_q_series(qm, prec=prec)\n",
    "    c = qser.list()\n",
    "    t = var('t')\n",
    "    func = c[0]\n",
    "    for i in range(1, len(c)):\n",
    "        func += c[i] * exp(-i * pi * t)  # note q^(1/2) = e^(sqrt(-1) * pi * z)\n",
    "    return func"
   ]
  },
  {
   "cell_type": "code",
   "execution_count": 14,
   "id": "e43638ad",
   "metadata": {},
   "outputs": [],
   "source": [
    "# Returns a list of modular components of a given level \\Gamma(2) quasimodular form\n",
    "def qm2_components(qm):\n",
    "    s = qm2_depth(qm)\n",
    "    comps = [QM2(0)] * (s + 1)\n",
    "    for (a, b, e), coeff in qm.dict().items():\n",
    "        # monomial: coeff * H2^a * H4^b * E2_^e\n",
    "        comps[e] += coeff * H2^a * H4^b\n",
    "    return comps\n",
    "\n",
    "H2_T = -H2\n",
    "H4_T = H2 + H4  # H3\n",
    "# Computes T-action of a given modular form of level \\Gamma(2).\n",
    "def m2_T_action(m):\n",
    "    assert qm2_depth(m) == 0, \"Not a genuine modular form.\"\n",
    "    r = QM2(0)\n",
    "    for (a, b, _), coeff in m.dict().items():\n",
    "        r += coeff * H2_T^a * H4_T^b\n",
    "    return r"
   ]
  },
  {
   "cell_type": "markdown",
   "id": "757c859b",
   "metadata": {},
   "source": [
    "# Extremal quasimodular forms\n",
    "\n",
    "For given $w$ and $s$, **extremal quasimodular form** of weight $w$ and depth $s$ is defined as a quasimodular form with the maximum possible order of vanishing at infinity (Kaneko-Koike, 2003). It is shown that the extremal form is unique up to a constant for $s \\leq 4$ (Pellarin, 2020). Also, we have a recursive formula for those extremal forms (Grabner, 2020). Below codes return the normalized extremal quasimodular form of given weight and depth for depth $1$ and $2$ using Grabner's recurrence relation. For depth $\\geq 3$, we compute the extremal form naively using the Eisenstein series basis. Note that there are similar but complicated recurrence relations for depth $3$ and $4$ by Grabner, and the (unique) existence of extremal forms in the case of depth $\\geq 5$ is still open."
   ]
  },
  {
   "cell_type": "code",
   "execution_count": 15,
   "id": "55e79ed7",
   "metadata": {},
   "outputs": [],
   "source": [
    "# Use cache\n",
    "from functools import lru_cache\n",
    "\n",
    "\n",
    "# Extremal quasimodular forms\n",
    "def is_extremal_qm(qm):\n",
    "    # Check if a given quasimodular form is extremal (in the sense of Kaneko-Koike)\n",
    "    s = qm_depth(qm)\n",
    "    w = qm.weight()\n",
    "    d = dim_qm(w, s)\n",
    "    order = qm_cusp_order(qm)\n",
    "    return d - 1 == order\n",
    "    \n",
    "@lru_cache(maxsize=None)\n",
    "def _extremal_qm_d1(w):\n",
    "    if w < 6:\n",
    "        assert False, \"weight should be >= 6\"\n",
    "    if w == 6:\n",
    "        return (1 / 720) * (E2 * E4 - E6)\n",
    "    else:\n",
    "        if w % 6 == 0:\n",
    "            _qm = _extremal_qm_d1(w - 6)\n",
    "            res = E4 * qm_serre_derivative(_qm, w - 7) - ((w - 5) / 12) * E6 * _qm\n",
    "            res *= w / (72 * (w - 5) * (w - 1))\n",
    "            assert is_extremal_qm(res), \"not extremal\"\n",
    "            return res\n",
    "        elif w % 6 == 2:\n",
    "            _qm = _extremal_qm_d1(w - 2)\n",
    "            res = (12 / (w - 1)) * qm_serre_derivative(_qm, w - 3)\n",
    "            assert is_extremal_qm(res), \"not extremal\"\n",
    "            return res\n",
    "        elif w % 6 == 4:\n",
    "            _qm = _extremal_qm_d1(w - 4)\n",
    "            res = E4 * _qm\n",
    "            assert is_extremal_qm(res), \"not extremal\"\n",
    "            return res\n",
    "        else:\n",
    "            assert False, \"weight is odd\"\n",
    "    \n",
    "@lru_cache(maxsize=None)\n",
    "def _extremal_qm_d2(w):\n",
    "    if w < 4:\n",
    "        assert False, \"weight should be >= 4\"\n",
    "    if w == 4:\n",
    "        return (1 / 288) * (E4 - E2^2)\n",
    "    elif w % 4 == 0:\n",
    "        _qm = _extremal_qm_d2(w - 4)\n",
    "        res = ((w - 3) * (w - 4) / 36) * E4 * _qm\n",
    "        res -= qm_serre_derivative(qm_serre_derivative(_qm, w - 6), w - 4)\n",
    "        res *= (3 * (w)^2) / (16 * (w - 1) * (w - 2)^2 * (w - 3))\n",
    "        assert is_extremal_qm(res), \"not extremal\"\n",
    "        return res\n",
    "    elif w % 4 == 2:\n",
    "        _qm = _extremal_qm_d2(w - 2)\n",
    "        res = qm_serre_derivative(_qm, w - 4)\n",
    "        res *= (6 / (w - 1))\n",
    "        assert is_extremal_qm(res), \"not extremal\"\n",
    "        return res\n",
    "    else:\n",
    "        assert False, \"weight is odd\"\n",
    "\n",
    "@lru_cache(maxsize=None)\n",
    "def extremal_qm(weight, depth):\n",
    "    # Find the extremal qmf (if exists) for given weight and depth\n",
    "    # The result is normalized so that first nonzero coefficient is 1\n",
    "    assert (0 <= depth <= weight/2 and 2 * (depth + 1) != weight), \"inappropriate weight and depths\"\n",
    "    \n",
    "    if depth == 1:\n",
    "        return _extremal_qm_d1(weight)\n",
    "    if depth == 2:\n",
    "        return _extremal_qm_d2(weight)\n",
    "\n",
    "    bs = qmf_basis(weight, depth)\n",
    "    d = dim_qm(weight, depth)\n",
    "    m = matrix([coefficients(qm_, d) for qm_ in bs])\n",
    "    c_ = vector([0] * (d - 1) + [1])\n",
    "    x_ = m.solve_left(c_)\n",
    "      \n",
    "    ans = sum(x_[j] * bs[j] for j in range(d))\n",
    "    return normalize(ans)"
   ]
  },
  {
   "cell_type": "markdown",
   "id": "4824f89e",
   "metadata": {},
   "source": [
    "We can *guess* the recursive relations for $X_{w, 1}$ and their derivatives from the below results, which are\n",
    "$$\n",
    "\\begin{align*}\n",
    "X_{w, 1}' &= \\frac{5w}{72} X_{6, 1} X_{w-4, 1} + \\frac{7w}{72} X_{8, 1} X_{w-6, 1} \\\\\n",
    "X_{w+2, 1}' &= \\frac{5w}{72} X_{6, 1} X_{w-2, 1} + \\frac{7w}{72} X_{8, 1} X_{w-4, 1} \\\\\n",
    "X_{w+4, 1}' &= 240 X_{6, 1}X_{w, 1} + \\frac{7w}{72} X_{8, 1} X_{w-2, 1} + \\frac{5w}{72} X_{10, 1} X_{w-4, 1} \n",
    "\\end{align*}\n",
    "$$\n",
    "for $w\\equiv 0\\,(\\mathrm{mod}\\,6), w\\geq 12$."
   ]
  },
  {
   "cell_type": "code",
   "execution_count": 16,
   "id": "dcec91f4",
   "metadata": {},
   "outputs": [
    {
     "name": "stdout",
     "output_type": "stream",
     "text": [
      "w = 6k\n",
      "12 2 0\n",
      "18 5/4 7/4\n",
      "24 5/3 7/3\n",
      "30 25/12 35/12\n",
      "36 5/2 7/2\n",
      "42 35/12 49/12\n",
      "48 10/3 14/3\n",
      "54 15/4 21/4\n",
      "60 25/6 35/6\n",
      "\n",
      "w = 6k + 2\n",
      "14 5/6 7/6\n",
      "20 5/4 7/4\n",
      "26 5/3 7/3\n",
      "32 25/12 35/12\n",
      "38 5/2 7/2\n",
      "44 35/12 49/12\n",
      "50 10/3 14/3\n",
      "56 15/4 21/4\n",
      "62 25/6 35/6\n",
      "\n",
      "w = 6k + 4\n",
      "16 240 2 0\n",
      "22 240 7/4 5/4\n",
      "28 240 7/3 5/3\n",
      "34 240 35/12 25/12\n",
      "40 240 7/2 5/2\n",
      "46 240 49/12 35/12\n",
      "52 240 14/3 10/3\n",
      "58 240 21/4 15/4\n",
      "64 240 35/6 25/6\n"
     ]
    }
   ],
   "source": [
    "X_6_1 = extremal_qm(6, 1)\n",
    "X_8_1 = extremal_qm(8, 1)\n",
    "X_10_1 = extremal_qm(10, 1)\n",
    "\n",
    "# w = 6k\n",
    "print(\"w = 6k\")\n",
    "for w in range(12, 61, 6):\n",
    "    X_wm6_1 = extremal_qm(w-6, 1)\n",
    "    X_wm4_1 = extremal_qm(w-4, 1)\n",
    "\n",
    "    X_w_1 = extremal_qm(w, 1)\n",
    "    dX_w_1 = X_w_1.derivative()\n",
    "    \n",
    "    c = qm_find_lin_comb(dX_w_1, [X_6_1 * X_wm4_1, X_8_1 * X_wm6_1])\n",
    "    print(w, c[0], c[1])\n",
    "print()\n",
    "\n",
    "# w = 6k + 2\n",
    "print(\"w = 6k + 2\")\n",
    "for w in range(12, 61, 6):\n",
    "    X_wm2_1 = extremal_qm(w-2, 1)\n",
    "    X_wm4_1 = extremal_qm(w-4, 1)\n",
    "\n",
    "    X_wp2_1 = extremal_qm(w+2, 1)\n",
    "    dX_wp2_1 = X_wp2_1.derivative()\n",
    "    \n",
    "    c = qm_find_lin_comb(dX_wp2_1, [X_6_1 * X_wm2_1, X_8_1 * X_wm4_1])\n",
    "    print(w + 2, c[0], c[1])\n",
    "print()\n",
    "\n",
    "# w = 6k + 4\n",
    "print(\"w = 6k + 4\")\n",
    "for w in range(12, 61, 6):\n",
    "    X_w_1 = extremal_qm(w, 1)\n",
    "    X_wm2_1 = extremal_qm(w-2, 1)\n",
    "    X_wm4_1 = extremal_qm(w-4, 1)\n",
    "\n",
    "    X_wp4_1 = extremal_qm(w+4, 1)\n",
    "    dX_wp4_1 = X_wp4_1.derivative()\n",
    "    \n",
    "    c = qm_find_lin_comb(dX_wp4_1, [X_6_1 * X_w_1, X_8_1 * X_wm2_1, X_10_1 * X_wm4_1])\n",
    "    print(w + 4, c[0], c[1], c[2])"
   ]
  },
  {
   "cell_type": "markdown",
   "id": "2457cd71",
   "metadata": {},
   "source": [
    "Here's a list of depth $2$ extremal forms of weight $w \\leq 14$."
   ]
  },
  {
   "cell_type": "code",
   "execution_count": 17,
   "id": "41836b47",
   "metadata": {},
   "outputs": [
    {
     "name": "stdout",
     "output_type": "stream",
     "text": [
      "X_4,2\n",
      "\n",
      "q_expansion q + 6*q^2 + 12*q^3 + 28*q^4 + 30*q^5 + 72*q^6 + 56*q^7 + 120*q^8 + 117*q^9 + 180*q^10 + 132*q^11 + 336*q^12 + 182*q^13 + 336*q^14 + 360*q^15 + 496*q^16 + 306*q^17 + 702*q^18 + 380*q^19 + O(q^20) \n",
      "\n",
      "weight 4\n",
      "depth 2\n",
      "cusp order 1\n",
      "polynomial (1/288) * (-E2^2 + E4) \n",
      "\n",
      "X_8,2\n",
      "\n",
      "q_expansion q^2 + 16*q^3 + 102*q^4 + 416*q^5 + 1308*q^6 + 3360*q^7 + 7772*q^8 + 15744*q^9 + 30606*q^10 + 53680*q^11 + 93352*q^12 + 148512*q^13 + 238616*q^14 + 354912*q^15 + 537336*q^16 + 757248*q^17 + 1100421*q^18 + 1485648*q^19 + O(q^20) \n",
      "\n",
      "weight 8\n",
      "depth 2\n",
      "cusp order 2\n",
      "polynomial (1/362880) * (-7*E2^2*E4 + 2*E2*E6 + 5*E4^2) \n",
      "\n",
      "X_10,2\n",
      "\n",
      "q_expansion q^2 + 104/3*q^3 + 390*q^4 + 2480*q^5 + 11140*q^6 + 39216*q^7 + 117020*q^8 + 303680*q^9 + 717990*q^10 + 1546600*q^11 + 9438728/3*q^12 + 5976048*q^13 + 10941320*q^14 + 18987920*q^15 + 32156280*q^16 + 52106496*q^17 + 83152173*q^18 + 127695960*q^19 + O(q^20) \n",
      "\n",
      "weight 10\n",
      "depth 2\n",
      "cusp order 2\n",
      "polynomial (-1/1088640) * (-5*E2^2*E6 - 2*E2*E4^2 + 7*E4*E6) \n",
      "\n",
      "X_12,2\n",
      "\n",
      "q_expansion q^3 + 51/2*q^4 + 1422/5*q^5 + 1944*q^6 + 9714*q^7 + 38709*q^8 + 130152*q^9 + 1918992/5*q^10 + 1016811*q^11 + 2472610*q^12 + 5582766*q^13 + 11872944*q^14 + 119498814/5*q^15 + 46047186*q^16 + 85019040*q^17 + 151844544*q^18 + 262077525*q^19 + O(q^20) \n",
      "\n",
      "weight 12\n",
      "depth 2\n",
      "cusp order 3\n",
      "polynomial (-1/798336000) * (77*E2^2*E4^2 - 34*E2*E4*E6 - 50*E4^3 + 7*E6^2) \n",
      "\n",
      "X_14,2\n",
      "\n",
      "q_expansion q^3 + 93/2*q^4 + 810*q^5 + 8004*q^6 + 54474*q^7 + 283743*q^8 + 1208568*q^9 + 4400040*q^10 + 14116275*q^11 + 40842466*q^12 + 108318210*q^13 + 267020712*q^14 + 617622270*q^15 + 1352960838*q^16 + 2822872032*q^17 + 5647635936*q^18 + 10872089541*q^19 + O(q^20) \n",
      "\n",
      "weight 14\n",
      "depth 2\n",
      "cusp order 3\n",
      "polynomial (-1/415134720) * (-13*E2^2*E4*E6 - E2*E4^3 + 3*E2*E6^2 + 11*E4^2*E6) \n",
      "\n"
     ]
    }
   ],
   "source": [
    "for w in range(4, 15, 2):\n",
    "    if w != 6:\n",
    "        print_qm(extremal_qm(w, 2), \"X_\" + str(w) + \",2\")"
   ]
  },
  {
   "cell_type": "markdown",
   "id": "5a6c916d",
   "metadata": {},
   "source": [
    "We can prove complete positivity of these by using *exceptional identities*."
   ]
  },
  {
   "cell_type": "code",
   "execution_count": 18,
   "id": "9dfdcb22",
   "metadata": {},
   "outputs": [],
   "source": [
    "X_12_1 = extremal_qm(12, 1)\n",
    "\n",
    "X_4_2 = extremal_qm(4, 2)\n",
    "X_8_2 = extremal_qm(8, 2)\n",
    "X_10_2 = extremal_qm(10, 2)\n",
    "X_12_2 = extremal_qm(12, 2)\n",
    "X_14_2 = extremal_qm(14, 2)\n",
    "\n",
    "# identities\n",
    "assert X_8_2.derivative() == 2 * X_4_2 * X_6_1\n",
    "assert X_10_2.derivative() == (8/9) * X_4_2 * X_8_1 + (10/9) * X_6_1^2\n",
    "assert X_12_2.derivative() == 3 * X_6_1 * X_8_2\n",
    "assert X_14_2.derivative() == 3 * X_4_2 * X_12_1"
   ]
  },
  {
   "cell_type": "markdown",
   "id": "83bc0817",
   "metadata": {},
   "source": [
    "# Proof of the inequalities"
   ]
  },
  {
   "cell_type": "markdown",
   "id": "4cfb8ff0",
   "metadata": {},
   "source": [
    "## $d = 8$\n",
    "\n",
    "For dimension $8$, we have two modular forms $F$ and $G$ correspond to $(+1)$ and $(-1)$ Fourier eigenfunctions."
   ]
  },
  {
   "cell_type": "code",
   "execution_count": 19,
   "id": "1052ed7d",
   "metadata": {},
   "outputs": [
    {
     "name": "stdout",
     "output_type": "stream",
     "text": [
      "F_8d\n",
      "\n",
      "q_expansion 518400*q^2 + 18662400*q^3 + 255052800*q^4 + 1870387200*q^5 + 9760435200*q^6 + 38755584000*q^7 + 129782476800*q^8 + 372202905600*q^9 + 967623667200*q^10 + 2263116672000*q^11 + 4995028684800*q^12 + 10180874188800*q^13 + 19989201254400*q^14 + 36921804134400*q^15 + 66489204326400*q^16 + 113850991411200*q^17 + 191997786758400*q^18 + 309769955251200*q^19 + O(q^20) \n",
      "\n",
      "weight 12\n",
      "depth 2\n",
      "cusp order 2\n",
      "polynomial (-E2*E4 + E6)^2 \n",
      "\n",
      "G_8d\n",
      "\n",
      "q_expansion 20480*qh^3 + 2015232*qh^5 + 41656320*qh^7 + 399933440*qh^9 + 2434068480*qh^11 + 10946396160*qh^13 + 39685644288*qh^15 + 122413547520*qh^17 + 333096652800*qh^19 + 819943505920*qh^21 + 1859254149120*qh^23 + 3937755267072*qh^25 + 7871982018560*qh^27 + 14975122391040*qh^29 + Order(qh^30) \n",
      "\n",
      "weight 10\n",
      "depth 0\n",
      "cusp order 3/2\n",
      "polynomial H2^3 * (2*H2^2 + 5*H2*H4 + 5*H4^2) \n",
      "\n"
     ]
    }
   ],
   "source": [
    "F_8d = (E2 * E4 - E6)^2\n",
    "print_qm(F_8d, \"F_8d\")\n",
    "\n",
    "G_8d = H2^3 * (2 * H2^2 + 5 * H2 * H4 + 5 * H4^2)\n",
    "print_qm2(G_8d, \"G_8d\")"
   ]
  },
  {
   "cell_type": "markdown",
   "id": "81333efe",
   "metadata": {},
   "source": [
    "The following graph of the quotient $F(it) / G(it)$ suggests us to prove: the function is monotone decreasing, and the limit as $t \\to 0^+$ is $18 / \\pi^2$."
   ]
  },
  {
   "cell_type": "code",
   "execution_count": 20,
   "id": "35a93fc8",
   "metadata": {},
   "outputs": [
    {
     "data": {
      "image/png": "[encoded data removed]",
      "text/plain": [
       "Graphics object consisting of 2 graphics primitives"
      ]
     },
     "metadata": {},
     "output_type": "display_data"
    }
   ],
   "source": [
    "f_8d = qm_to_func(F_8d, prec=100)\n",
    "g_8d = qm2_to_func(G_8d, prec=100)\n",
    "\n",
    "q_8d = f_8d / g_8d\n",
    "lim_8d = 18 / pi^2\n",
    "\n",
    "\n",
    "p = plot(lim_8d, (t, 0.1, 2.0), color=\"red\", legend_label=\"18 / pi^2\", linestyle=\"dashed\") + \\\n",
    "    plot(q_8d, (t, 0.1, 2.0), color=\"blue\", legend_label=\"F(it) / G(it)\")\n",
    "show(p)"
   ]
  },
  {
   "cell_type": "markdown",
   "id": "57748cb8",
   "metadata": {},
   "source": [
    "To prove monotonicity, one needs to prove that $\\mathcal{L}_{1, 0} := F'G - FG' = (\\partial_{10} F) G - F (\\partial_{10}G)$ is positive. We will give two different proofs of this fact, where the second proof will be given after the proof of $d = 24$ case.\n",
    "\n",
    "First proof uses the fact that $\\mathcal{L}_{1, 0}$ nicely factors as\n",
    "$$\n",
    "\\mathcal{L}_{1, 0} = \\frac{15}{2}H_{2}^{3} (H_{2} + H_{4})^{2} H_{4}^{2} (E_{2}E_{4} - E_{6})\\left(E_{4} - \\frac{1}{2} E_{2}(H_{2} + 2H_{4})\\right)\n",
    "$$\n",
    "and the last factor can be shown to be positive via the identity\n",
    "$$\n",
    "E_4(it) - \\frac{1}{2} E_{2}(it) (H_{2}(it) + 2H_{4}(it)) = (E_{4}(it) - E_{4}(2it)) + (E_{4}(2it) - E_{2}(2it)^{2}) + (E_{2}(it) - E_{2}(2it))^{2}.\n",
    "$$"
   ]
  },
  {
   "cell_type": "code",
   "execution_count": 21,
   "id": "05da7a24",
   "metadata": {},
   "outputs": [
    {
     "name": "stdout",
     "output_type": "stream",
     "text": [
      "L_1,0\n",
      "\n",
      "q_expansion 5308416000*qh^7 + 50960793600*qh^9 + (-528718233600)*qh^11 + (-1961990553600)*qh^13 + 23011983360000*qh^15 + (-22728513945600)*qh^17 + (-168678103449600)*qh^19 + (-25149151641600)*qh^21 + 2255043782246400*qh^23 + (-1339334590464000)*qh^25 + (-14279004153446400)*qh^27 + 15087095827660800*qh^29 + Order(qh^30) \n",
      "\n",
      "weight 24\n",
      "depth 2\n",
      "cusp order 7/2\n",
      "polynomial (-15/8) * H4^2 * (H2 + H4)^2 * H2^3 * (-2*H2^2 - 2*H2*H4 - 2*H4^2 + H2*E2 + 2*H4*E2) * (2*H2^3 + 3*H2^2*H4 - 3*H2*H4^2 - 2*H4^3 + 2*H2^2*E2 + 2*H2*H4*E2 + 2*H4^2*E2) \n",
      "\n"
     ]
    }
   ],
   "source": [
    "F_8d_ = l1_to_l2(F_8d)\n",
    "L_1_0_8d = qm2_serre_derivative(F_8d_, 10) * G_8d - F_8d_ * qm2_serre_derivative(G_8d, 10)\n",
    "assert L_1_0_8d == qm2_derivative(F_8d_) * G_8d - F_8d_ * qm2_derivative(G_8d)\n",
    "print_qm2(L_1_0_8d, \"L_1,0\")\n",
    "\n",
    "# L_1,0 factors nicely as follows\n",
    "assert L_1_0_8d == (15/2) * H2^3 * (H2 + H4)^2 * H4^2 * (E2_ * E4_ - E6_) * (E4_ - (1/2) * E2_ * (H2 + 2 * H4))\n",
    "# The first four factors are positive. The last factor is positive due to the following identity\n",
    "E2_2 = (1/4) * (H2 + 2 * H4 + 2 * E2_)\n",
    "E4_2 = (1/4) * (H2 + 2 * H4)^2 - (3/16) * H2^2\n",
    "assert (E4_ - (1/2) * E2_ * (H2 + 2 * H4)) == (E4_ - E4_2) + (E4_2 - E2_2^2) + (E2_ - E2_2)^2"
   ]
  },
  {
   "cell_type": "markdown",
   "id": "09ab7d64",
   "metadata": {},
   "source": [
    "## $d = 24$\n",
    "\n",
    "The (quasi)modular forms for the $24$-dimensional magic function are following."
   ]
  },
  {
   "cell_type": "code",
   "execution_count": 22,
   "id": "9b1ccf69",
   "metadata": {
    "scrolled": false
   },
   "outputs": [
    {
     "name": "stdout",
     "output_type": "stream",
     "text": [
      "F_24d\n",
      "\n",
      "q_expansion 3657830400*q^3 + 138997555200*q^4 + 2567796940800*q^5 + 27477621964800*q^6 + 203324160614400*q^7 + 1155903669043200*q^8 + 5339174090342400*q^9 + 21015084264652800*q^10 + 72521005100544000*q^11 + 224861553797529600*q^12 + 636227181370368000*q^13 + 1668067755850137600*q^14 + 4088240185030041600*q^15 + 9465006273911193600*q^16 + 20805434866660147200*q^17 + 43762572956919398400*q^18 + 88336945205133004800*q^19 + O(q^20) \n",
      "\n",
      "weight 16\n",
      "depth 2\n",
      "cusp order 3\n",
      "polynomial 49*E2^2*E4^3 - 25*E2^2*E6^2 - 48*E2*E4^2*E6 - 25*E4^4 + 49*E4*E6^2 \n",
      "\n",
      "G_24d\n",
      "\n",
      "q_expansion 7340032*qh^5 + 566231040*qh^7 + 14900264960*qh^9 + 202291281920*qh^11 + 1774709637120*qh^13 + 11404383879168*qh^15 + 58038146826240*qh^17 + 246418086297600*qh^19 + 905169579540480*qh^21 + 2953520097525760*qh^23 + 8731672090509312*qh^25 + 23746909873111040*qh^27 + 60124559766978560*qh^29 + Order(qh^30) \n",
      "\n",
      "weight 14\n",
      "depth 0\n",
      "cusp order 5/2\n",
      "polynomial H2^5 * (2*H2^2 + 7*H2*H4 + 7*H4^2) \n",
      "\n"
     ]
    }
   ],
   "source": [
    "F_24d = 49 * E2^2 * E4^3 - 25 * E2^2 * E6^2 - 48 * E2 * E4^2 * E6 - 25 * E4^4 + 49 * E4 * E6^2\n",
    "print_qm(F_24d, \"F_24d\")\n",
    "\n",
    "G_24d = H2^5 * (2 * H2^2 + 7 * H2 * H4 + 7 * H4^2)\n",
    "print_qm2(G_24d, \"G_24d\")"
   ]
  },
  {
   "cell_type": "markdown",
   "id": "40c20263",
   "metadata": {},
   "source": [
    "The following graph supports our idea: the quotient $F(it) / G(it)$ is a decreasing function, and the limit as $t \\to 0^+$ is $432 / \\pi^2$."
   ]
  },
  {
   "cell_type": "code",
   "execution_count": 23,
   "id": "c52a7b99",
   "metadata": {},
   "outputs": [
    {
     "data": {
      "image/png": "[encoded data removed]",
      "text/plain": [
       "Graphics object consisting of 2 graphics primitives"
      ]
     },
     "metadata": {},
     "output_type": "display_data"
    }
   ],
   "source": [
    "f_24d = qm_to_func(F_24d, prec=100)\n",
    "g_24d = qm2_to_func(G_24d, prec=100)\n",
    "\n",
    "q_24d = f_24d / g_24d\n",
    "lim_24d = 432 / pi^2\n",
    "\n",
    "p = plot(lim_24d, (t, 0.1, 2.0), color=\"red\", legend_label=\"432 / pi^2\", linestyle=\"dashed\") + \\\n",
    "    plot(q_24d, (t, 0.1, 2.0), color=\"blue\", legend_label=\"F(it) / G(it)\")\n",
    "show(p)"
   ]
  },
  {
   "cell_type": "markdown",
   "id": "65d25d59",
   "metadata": {},
   "source": [
    "It is clear from the expression that $G$ is positive. For $F$, the Serre derivative $\\partial_{14}F$ of $F$ factors as a product of extremal forms$X_{6,1}$ and $X_{12,1}$, which are both (completely) positive. This implies positivity of $F$."
   ]
  },
  {
   "cell_type": "code",
   "execution_count": 24,
   "id": "65971a60",
   "metadata": {},
   "outputs": [
    {
     "name": "stdout",
     "output_type": "stream",
     "text": [
      "S_14(F_24d)\n",
      "\n",
      "q_expansion 6706022400*q^3 + 496245657600*q^4 + 14042410905600*q^5 + 216792292147200*q^6 + 2187410622566400*q^7 + 16215323107737600*q^8 + 94873425079910400*q^9 + 460862859379507200*q^10 + 1924860638237644800*q^11 + 7100425841338368000*q^12 + 23586538442064998400*q^13 + 71694366272969932800*q^14 + 201781741465304985600*q^15 + 531331202203774156800*q^16 + 1319004010440990720000*q^17 + 3109234547965516185600*q^18 + 6995462883702112512000*q^19 + O(q^20) \n",
      "\n",
      "weight 18\n",
      "depth 2\n",
      "cusp order 3\n",
      "polynomial (-7/3) * (-E2*E4 + E6) * (-12*E2*E4*E6 + 5*E4^3 + 7*E6^2) \n",
      "\n",
      "X_6,1\n",
      "\n",
      "q_expansion q + 18*q^2 + 84*q^3 + 292*q^4 + 630*q^5 + 1512*q^6 + 2408*q^7 + 4680*q^8 + 6813*q^9 + 11340*q^10 + 14652*q^11 + 24528*q^12 + 28574*q^13 + 43344*q^14 + 52920*q^15 + 74896*q^16 + 83538*q^17 + 122634*q^18 + 130340*q^19 + O(q^20) \n",
      "\n",
      "weight 6\n",
      "depth 1\n",
      "cusp order 1\n",
      "polynomial (-1/720) * (-E2*E4 + E6) \n",
      "\n",
      "X_12,1\n",
      "\n",
      "q_expansion q^2 + 56*q^3 + 1002*q^4 + 9296*q^5 + 57708*q^6 + 269040*q^7 + 1024532*q^8 + 3321024*q^9 + 9542526*q^10 + 24701800*q^11 + 59087672*q^12 + 131294352*q^13 + 276018296*q^14 + 549217872*q^15 + 1049202216*q^16 + 1920000768*q^17 + 3407256981*q^18 + 5839100568*q^19 + O(q^20) \n",
      "\n",
      "weight 12\n",
      "depth 1\n",
      "cusp order 2\n",
      "polynomial (1/3991680) * (-12*E2*E4*E6 + 5*E4^3 + 7*E6^2) \n",
      "\n"
     ]
    }
   ],
   "source": [
    "SF_24d = qm_serre_derivative(F_24d, 14)\n",
    "print_qm(SF_24d, \"S_14(F_24d)\")\n",
    "\n",
    "X_6_1 = extremal_qm(6, 1)\n",
    "X_12_1 = extremal_qm(12, 1)\n",
    "print_qm(X_6_1, \"X_6,1\")\n",
    "print_qm(X_12_1, \"X_12,1\")\n",
    "\n",
    "assert SF_24d == 6706022400 * X_6_1 * X_12_1"
   ]
  },
  {
   "cell_type": "markdown",
   "id": "e85f3e91",
   "metadata": {},
   "source": [
    "To prove monotonicity, as $d = 8$ case, one needs to prove that $\\mathcal{L}_{1, 0} := F'G - FG' = (\\partial_{14} F) G - F (\\partial_{14}G)$ is positive. Proof uses the following differential equations satisfied by $F$ and $G$:\n",
    "$$\n",
    "\\begin{align*}\n",
    "\\partial_{10}^{2}F &= \\frac{14}{9} E_4 F + 5486745600 \\Delta X_{8, 2} \\\\\n",
    "\\partial_{10}^{2}G &= \\frac{14}{9} E_4 G\n",
    "\\end{align*}\n",
    "$$\n",
    "which implies the identity $\\partial_{30} \\mathcal{L}_{1, 0} = \\mathcal{L}_{2, 0} = c\\Delta X_{8, 2} G > 0$."
   ]
  },
  {
   "cell_type": "code",
   "execution_count": 25,
   "id": "b19de359",
   "metadata": {
    "scrolled": false
   },
   "outputs": [
    {
     "name": "stdout",
     "output_type": "stream",
     "text": [
      "L_1,0\n",
      "\n",
      "q_expansion 13424296093286400*qh^11 + 494781198866841600*qh^13 + 4717681198497792000*qh^15 + 1434481925396889600*qh^17 + (-154584605027362406400)*qh^19 + (-391694111409910579200)*qh^21 + 1831396170230503833600*qh^23 + 8236035784021377024000*qh^25 + (-6718846770393749913600)*qh^27 + (-83998612909280408371200)*qh^29 + Order(qh^30) \n",
      "\n",
      "weight 32\n",
      "depth 2\n",
      "cusp order 11/2\n",
      "polynomial (-105/8) * H4^2 * (H2 + H4)^2 * H2^5 * (-26*H2^7 - 130*H2^6*H4 - 333*H2^5*H4^2 - 536*H2^4*H4^3 - 415*H2^3*H4^4 - 54*H2^2*H4^5 + 112*H2*H4^6 + 32*H4^7 + 20*H2^6*E2 + 90*H2^5*H4*E2 + 96*H2^4*H4^2*E2 - 52*H2^3*H4^3*E2 - 186*H2^2*H4^4*E2 - 192*H2*H4^5*E2 - 64*H4^6*E2 + 46*H2^5*E2^2 + 184*H2^4*H4*E2^2 + 292*H2^3*H4^2*E2^2 + 248*H2^2*H4^3*E2^2 + 80*H2*H4^4*E2^2 + 32*H4^5*E2^2) \n",
      "\n"
     ]
    }
   ],
   "source": [
    "F_24d_ = l1_to_l2(F_24d)\n",
    "L_1_0_24d = qm2_serre_derivative(F_24d_, 14) * G_24d - F_24d_ * qm2_serre_derivative(G_24d, 14)\n",
    "assert L_1_0_24d == qm2_derivative(F_24d_) * G_24d - F_24d_ * qm2_derivative(G_24d)\n",
    "print_qm2(L_1_0_24d, \"L_1,0\")\n",
    "\n",
    "# F_24d and G_24d satisfy the following differential identities\n",
    "c = 5486745600\n",
    "assert qm_serre_derivative_fold(F_24d, 2, 14) == (14/9) * E4 * F_24d + c * Disc * extremal_qm(8, 2)\n",
    "assert qm2_serre_derivative_fold(G_24d, 2, 14) == (14/9) * E4_ * G_24d\n",
    "\n",
    "# Now, take Serre derivative of L_1,0, which gives L_2,0\n",
    "L_2_0_24d = qm2_serre_derivative_fold(F_24d_, 2, 14) * G_24d - F_24d_ * qm2_serre_derivative_fold(G_24d, 2, 14)\n",
    "assert qm2_serre_derivative(L_1_0_24d, 30) == L_2_0_24d\n",
    "assert L_2_0_24d == c * Disc_ * l1_to_l2(extremal_qm(8, 2)) * G_24d"
   ]
  },
  {
   "cell_type": "markdown",
   "id": "8f79ca2f",
   "metadata": {},
   "source": [
    "The same approach gives a second proof of $d = 8$ case. The following differential equations satisfied by $F$ and $G$:\n",
    "$$\n",
    "\\begin{align*}\n",
    "\\partial_{10}^{2}F &= \\frac{5}{6} E_4 F + 172800 \\Delta X_{4, 2} \\\\\n",
    "\\partial_{10}^{2}G &= \\frac{5}{6} E_4 G - 640 \\Delta H_{2}\n",
    "\\end{align*}\n",
    "$$\n",
    "which implies the identity $\\partial_{22} \\mathcal{L}_{1, 0} = \\mathcal{L}_{2, 0} = \\Delta(172800 X_{4, 2} G + 640 H_2 F) > 0$."
   ]
  },
  {
   "cell_type": "code",
   "execution_count": 26,
   "id": "e7b6133a",
   "metadata": {
    "scrolled": false
   },
   "outputs": [],
   "source": [
    "# F_8d and G_8d satisfy the following differential identities\n",
    "a = 172800\n",
    "b = 640\n",
    "assert qm_serre_derivative_fold(F_8d, 2, 10) == (5/6) * E4 * F_8d + a * Disc * extremal_qm(4, 2)\n",
    "assert qm2_serre_derivative_fold(G_8d, 2, 10) == (5/6) * E4_ * G_8d - b * Disc_ * H2\n",
    "\n",
    "# Now, take Serre derivative of L_1,0, which gives L_2,0\n",
    "L_2_0_8d = qm2_serre_derivative_fold(F_8d_, 2, 10) * G_8d - F_8d_ * qm2_serre_derivative_fold(G_8d, 2, 10)\n",
    "assert qm2_serre_derivative(L_1_0_8d, 22) == L_2_0_8d\n",
    "assert L_2_0_8d == Disc_ * (a * l1_to_l2(extremal_qm(4, 2)) * G_8d + b * H2 * F_8d_)"
   ]
  },
  {
   "cell_type": "markdown",
   "id": "53a714f7",
   "metadata": {},
   "source": [
    "For the last inequality, we define auxilary rings\n",
    "$$\n",
    "\\mathcal{QM}_{w}^{s}(\\Gamma)\\left[\\frac{1}{\\pi}, \\frac{i}{z}\\right]\n",
    "$$\n",
    "for $\\Gamma = \\mathrm{SL}_2(\\mathbb{Z})$ and $\\Gamma(2)$ (denoted as `RQM` and `RQM2`), and define (Serre) derivatives using\n",
    "$$\n",
    "D\\left(\\frac{1}{\\pi}\\right) = 0, \\quad D\\left(\\frac{i}{z}\\right) = \\frac{1}{2\\pi i}\\frac{\\mathrm{d}}{\\mathrm{d}z}\\left(\\frac{i}{z}\\right) = \\frac{1}{2} \\frac{1}{\\pi} \\left(\\frac{i}{z}\\right)^{2}\n",
    "$$\n",
    "and product rules. Also, we will consider both $1/\\pi$ and $i/z$ as weight 1 objects, which makes sense from the transformation law for $E_2$ or other quasimodular forms."
   ]
  },
  {
   "cell_type": "code",
   "execution_count": 27,
   "id": "70f89ebb",
   "metadata": {},
   "outputs": [],
   "source": [
    "# Level SL_2(Z)\n",
    "# The following line is needed to fix a bug that `QM` is not belong to a commutative rings,\n",
    "# see https://ask.sagemath.org/question/76909/ring-of-quasimodular-forms-as-a-commutative-ring/ and https://github.com/sagemath/sage/pull/37797\n",
    "QM._refine_category_(QM.category().Commutative())  \n",
    "RQM.<ip, ioz> = QM['ip','ioz']  # `ip` = 1 / pi, `ioz` = i / z\n",
    "\n",
    "\n",
    "# Weight\n",
    "def rqm_weight(rqm):\n",
    "    w = 0\n",
    "    for (dip, dioz), qm in rqm.dict().items():\n",
    "        w = max(w, qm.weight() + dip + dioz)\n",
    "    return w\n",
    "\n",
    "def is_rqm_homogenous(rqm):\n",
    "    w = None\n",
    "    for (dip, dioz), qm in rqm.dict().items():\n",
    "        w_ = qm.weight() + dip + dioz\n",
    "        if w is None:\n",
    "            w = w_\n",
    "        else:\n",
    "            if w != w_:\n",
    "                return False\n",
    "    return True\n",
    "\n",
    "# Depth\n",
    "def rqm_depth(rqm):\n",
    "    dp = 0\n",
    "    for qm in rqm.dict().values():\n",
    "        dp = max(dp, qm_depth(qm))\n",
    "    return dp\n",
    "\n",
    "def rqm_derivative(rqm):\n",
    "    r = 0\n",
    "    for (dip, dioz), qm in rqm.dict().items():\n",
    "        r += qm.derivative() * ip^dip * ioz^dioz\n",
    "        if dioz >= 1:\n",
    "            r += qm * ip^dip * dioz * ioz^(dioz - 1) * ((1/2) * ip * ioz^2)\n",
    "    return r\n",
    "\n",
    "# Iterative differentiation of quasimodular forms\n",
    "def rqm_derivative_fold(rqm, k):\n",
    "    if k == 0:\n",
    "        return rqm\n",
    "    else:\n",
    "        return rqm_derivative_fold(rqm_derivative(rqm), k - 1)\n",
    "\n",
    "# Serre derivative with given weight k\n",
    "# If weight is not given, we use k = (weight - depth) that preserves depth.\n",
    "def rqm_serre_derivative(rqm, k=None):\n",
    "    if k is None:\n",
    "        k = rqm_weight(rqm) - rqm_depth(rqm)\n",
    "    return rqm_derivative(rqm) - E2 * rqm * (k / 12)\n",
    "\n",
    "# Iterative Serre derivative, which is \n",
    "# \\partial_{k + 2(r-1)} \\circ \\partial_{k + 2(r-2)} \\circ \\cdots \\circ \\partial_{k} for given r >= 1.\n",
    "def rqm_serre_derivative_fold(rqm, r, k=None):\n",
    "    assert r >= 0\n",
    "    if r == 0:\n",
    "        return rqm\n",
    "    elif r == 1:\n",
    "        return rqm_serre_derivative(rqm, k)\n",
    "    else:\n",
    "        if k is None:\n",
    "            k = rqm_weight(rqm) - rqm_depth(rqm)\n",
    "        return rqm_serre_derivative(rqm_serre_derivative_fold(rqm, r-1, k), k + 2 * (r-1))\n",
    "\n",
    "# Print its polynomial form, weight, and depth.\n",
    "def print_rqm(rqm, name):\n",
    "    print(name)\n",
    "    poly_str = \"\"\n",
    "    for (dip, dioz), qm in rqm.dict().items():\n",
    "        if poly_str != \"\":\n",
    "            poly_str += \" + \"\n",
    "        if dip == 0:\n",
    "            ip_str = \"\"\n",
    "        elif dip == 1:\n",
    "            ip_str = \"*(1/π)\"\n",
    "        else:  # dip >= 2\n",
    "            ip_str = \"*(1/π)^\" + str(dip)\n",
    "        if dioz == 0:\n",
    "            ioz_str = \"\"\n",
    "        elif dioz == 1:\n",
    "            ioz_str = \"*(i/z)\"\n",
    "        else:  # dioz >= 2\n",
    "            ioz_str = \"*(i/z)^\" + str(dioz)\n",
    "        poly_str += \"(\" + str(qm.polynomial()) + \")\" + ip_str + ioz_str\n",
    "    print(\"polynomial\", poly_str)\n",
    "    print(\"weight\", rqm_weight(rqm))\n",
    "    print(\"depth\", rqm_depth(rqm))\n",
    "    print()\n",
    "\n",
    "def rqm_to_func(rqm, prec=100):\n",
    "    t = var('t')\n",
    "    f = 0\n",
    "    for (dip, dioz), qm in rqm.dict().items():\n",
    "        f += (1/pi)^dip * (1/t)^dioz * qm_to_func(qm, prec=prec)\n",
    "    return f"
   ]
  },
  {
   "cell_type": "code",
   "execution_count": 28,
   "id": "9f0d1cd4",
   "metadata": {},
   "outputs": [],
   "source": [
    "# Level \\Gamma(2)\n",
    "RQM2.<ip_, ioz_> = QM2['ip','ioz']  # `ip` = 1 / pi, `ioz` = i / z\n",
    "\n",
    "\n",
    "# Weight\n",
    "def rqm2_weight(rqm):\n",
    "    w = 0\n",
    "    for (dip, dioz), qm in rqm.dict().items():\n",
    "        w = max(w, qm2_weight(qm) + dip + dioz)\n",
    "    return w\n",
    "\n",
    "def is_rqm2_homogenous(rqm):\n",
    "    w = None\n",
    "    for (dip, dioz), qm in rqm.dict().items():\n",
    "        w_ = qm2_weight(qm) + dip + dioz\n",
    "        if w is None:\n",
    "            w = w_\n",
    "        else:\n",
    "            if w != w_:\n",
    "                return False\n",
    "    return True\n",
    "\n",
    "# Depth\n",
    "def rqm2_depth(rqm):\n",
    "    dp = 0\n",
    "    for qm in rqm.dict().values():\n",
    "        dp = max(dp, qm2_depth(qm))\n",
    "    return dp\n",
    "\n",
    "def rqm2_derivative(rqm):\n",
    "    r = 0\n",
    "    for (dip, dioz), qm in rqm.dict().items():\n",
    "        r += qm2_derivative(qm) * ip_^dip * ioz_^dioz\n",
    "        if dioz >= 1:\n",
    "            r += qm * ip_^dip * dioz * ioz_^(dioz - 1) * ((1/2) * ip_ * ioz_^2)\n",
    "    return r\n",
    "\n",
    "# Iterative differentiation of quasimodular forms\n",
    "def rqm2_derivative_fold(rqm, k):\n",
    "    if k == 0:\n",
    "        return rqm\n",
    "    else:\n",
    "        return rqm2_derivative_fold(rqm2_derivative(rqm), k - 1)\n",
    "\n",
    "# Serre derivative with given weight k\n",
    "# If weight is not given, we use k = (weight - depth) that preserves depth.\n",
    "def rqm2_serre_derivative(rqm, k=None):\n",
    "    if k is None:\n",
    "        k = rqm2_weight(rqm) - rqm2_depth(rqm)\n",
    "    return rqm2_derivative(rqm) - E2_ * rqm * (k / 12)\n",
    "\n",
    "# Iterative Serre derivative, which is \n",
    "# \\partial_{k + 2(r-1)} \\circ \\partial_{k + 2(r-2)} \\circ \\cdots \\circ \\partial_{k} for given r >= 1.\n",
    "def rqm2_serre_derivative_fold(rqm, r, k=None):\n",
    "    assert r >= 0\n",
    "    if r == 0:\n",
    "        return rqm\n",
    "    elif r == 1:\n",
    "        return rqm2_serre_derivative(rqm, k)\n",
    "    else:\n",
    "        if k is None:\n",
    "            k = rqm2_weight(rqm) - rqm2_depth(rqm)\n",
    "        return rqm2_serre_derivative(rqm2_serre_derivative_fold(rqm, r-1, k), k + 2 * (r-1))\n",
    "\n",
    "# Print its polynomial form, weight, and depth.\n",
    "def print_rqm2(rqm, name):\n",
    "    print(name)\n",
    "    poly_str = \"\"\n",
    "    for (dip, dioz), qm in rqm.dict().items():\n",
    "        if poly_str != \"\":\n",
    "            poly_str += \" + \"\n",
    "        if dip == 0:\n",
    "            ip_str = \"\"\n",
    "        elif dip == 1:\n",
    "            ip_str = \"*(1/π)\"\n",
    "        else:  # dip >= 2\n",
    "            ip_str = \"*(1/π)^\" + str(dip)\n",
    "        if dioz == 0:\n",
    "            ioz_str = \"\"\n",
    "        elif dioz == 1:\n",
    "            ioz_str = \"*(i/z)\"\n",
    "        else:  # dioz >= 2\n",
    "            ioz_str = \"*(i/z)^\" + str(dioz)\n",
    "        poly_str += \"(\" + str(qm) + \")\" + ip_str + ioz_str\n",
    "    print(\"polynomial\", poly_str)\n",
    "    print(\"weight\", rqm2_weight(rqm))\n",
    "    print(\"depth\", rqm2_depth(rqm))\n",
    "    print()\n",
    "\n",
    "def rqm2_to_func(rqm, prec=100):\n",
    "    t = var('t')\n",
    "    f = 0\n",
    "    for (dip, dioz), qm in rqm.dict().items():\n",
    "        f += (1/pi)^dip * (1/t)^dioz * qm2_to_func(qm, prec=prec)\n",
    "    return f"
   ]
  },
  {
   "cell_type": "markdown",
   "id": "9dcc7f39",
   "metadata": {},
   "source": [
    "We also define $S$-action on `RQM` and `RQM2`, using the transformation laws of $E_2, E_4, E_6, H_2, H_4$.\n",
    "Note that, if input is a quasimodular form without any rational terms, then the output is homogeneous (i.e. weights of each terms are all equal).\n",
    "Otherwise, the output may not be homogeneous in general. Also, we will always assume that the input is homogeneous.\n",
    "On each monomial, the action $|_{w}S$ on $F \\cdot (1/\\pi)^{a} \\cdot (i/z)^{b}$ where $F \\in \\mathcal{QM}_{w-a-b}(\\Gamma)$ equals\n",
    "$$\n",
    "(F|_{w-a-b}S) \\cdot (1/\\pi)^{a} \\cdot (i/(-1/z))^{b} \\cdot z^{-a-b} = (-1)^{(a+b)/2} \\cdot (F|_{w-a-b}S) \\cdot (1/\\pi)^{a} \\cdot (i/z)^{a}\n",
    "$$\n",
    "(we only deal with even weight inputs, so $a + b$ is always even). We can extract homogeneous components using `rqm_homogeneous_comps`."
   ]
  },
  {
   "cell_type": "code",
   "execution_count": 29,
   "id": "b0721106",
   "metadata": {},
   "outputs": [],
   "source": [
    "# S-action. If the input is a purely quasimodular form without rational terms, then the result is homogeneous (in weights).\n",
    "# Otherwise, the result may not be homogenous\n",
    "\n",
    "# Level SL_2(Z)\n",
    "E2S = E2 - 6 * ip * ioz\n",
    "E4S = E4\n",
    "E6S = E6\n",
    "\n",
    "# For quasimodular forms\n",
    "def qm_S_action(qm):\n",
    "    r = 0\n",
    "    for (d2, d4, d6), coeff in qm.polynomial().dict().items():\n",
    "        r += coeff * E2S^d2 * E4S^d4 * E6S^d6\n",
    "    return r\n",
    "\n",
    "# For homogenous inputs with rational terms\n",
    "# For each monomial term rqm = qm * (1/π)^a * (i/z)^b, we get\n",
    "# rqm|_w,S = qm|_{w-a-b},S * (1/π)^a * (z/i)^b * z^(-a-b) = (-1)^((a + b)/2) * qm|_{w-a-b},S * (1/π)^a * (i/z)^a\n",
    "def rqm_S_action(rqm):\n",
    "    r = 0\n",
    "    assert is_rqm_homogenous(rqm), \"Input is not homogeneous.\"\n",
    "    for (dip, dioz), qm in rqm.dict().items():\n",
    "        r += (-1)^((dip + dioz)/2) * qm_S_action(qm) * ip^dip * ioz^dip\n",
    "    return r\n",
    "\n",
    "# Level Gamma(2)\n",
    "H2S = -H4\n",
    "H4S = -H2\n",
    "E2S_ = E2_ - 6 * ip_ * ioz_\n",
    "\n",
    "# For quasimodular forms\n",
    "def qm2_S_action(qm):\n",
    "    r = 0\n",
    "    for (dh2, dh4, de2), coeff in qm.dict().items():\n",
    "        r += coeff * H2S^dh2 * H4S^dh4 * E2S_^de2\n",
    "    return r\n",
    "\n",
    "# For homogenous inputs with rational terms\n",
    "# For each monomial term rqm = qm * (1/π)^a * (i/z)^b, we get\n",
    "# rqm|_w,S = qm|_{w-a-b},S * (1/π)^a * (-iz)^b * z^(-a-b) = (-1)^b * qm|_{w-a-b},S * (1/π)^a * (i/z)^a\n",
    "def rqm2_S_action(rqm):\n",
    "    r = 0\n",
    "    assert is_rqm2_homogenous(rqm), \"Input is not homogenous.\"\n",
    "    for (dip, dioz), qm in rqm.dict().items():\n",
    "        r += (-1)^((dip + dioz)/2) * qm2_S_action(qm) * ip_^dip * ioz_^dip\n",
    "    return r\n",
    "\n",
    "# Extract each of homogeneous components\n",
    "def rqm_homogeneous_comps(rqm):\n",
    "    r = dict()\n",
    "    for (dip, dioz), qm in rqm.dict().items():\n",
    "        qm_comps = qm.homogeneous_components()\n",
    "        for w_, qm_ in qm_comps.items():\n",
    "            w = w_ + dip + dioz\n",
    "            if w not in r:\n",
    "                r[w] = qm_ * ip^dip * ioz^dioz\n",
    "            else:\n",
    "                r[w] += qm_ * ip^dip * ioz^dioz\n",
    "    return r\n",
    "\n",
    "def qm2_homogeneous_comps(qm):\n",
    "    r = dict()\n",
    "    for (dh2, dh4, de2), coeff in qm.dict().items():\n",
    "        w = 2 * (dh2 + dh4 + de2)\n",
    "        if w not in r:\n",
    "            r[w] = coeff * H2^dh2 * H4^dh4 * E2_^de2\n",
    "        else:\n",
    "            r[w] += coeff * H2^dh2 * H4^dh4 * E2_^de2\n",
    "    return r\n",
    "\n",
    "def rqm2_homogeneous_comps(rqm):\n",
    "    r = dict()\n",
    "    for (dip, dioz), qm in rqm.dict().items():\n",
    "        qm_comps = qm2_homogeneous_comps(qm)\n",
    "        for w_, qm_ in qm_comps.items():\n",
    "            w = w_ + dip + dioz\n",
    "            if w not in r:\n",
    "                r[w] = qm_ * ip_^dip * ioz_^dioz\n",
    "            else:\n",
    "                r[w] += qm_ * ip_^dip * ioz_^dioz\n",
    "    return r"
   ]
  },
  {
   "cell_type": "markdown",
   "id": "49457417",
   "metadata": {},
   "source": [
    "At last, the following function embeds `RQM` into `RQM2`."
   ]
  },
  {
   "cell_type": "code",
   "execution_count": 30,
   "id": "61f69dad",
   "metadata": {},
   "outputs": [],
   "source": [
    "# embed RQM \\to RQM2\n",
    "def rqm_to_rqm2(rqm):\n",
    "    r = 0\n",
    "    for (dip, dioz), qm in rqm.dict().items():\n",
    "        r += l1_to_l2(qm) * ip_^dip * ioz_^dioz\n",
    "    return r"
   ]
  },
  {
   "cell_type": "markdown",
   "id": "78490503",
   "metadata": {},
   "source": [
    "Before we proceed to the last inequality, we'll show how to use the above $S$-action functions to compute the limits appearing in the previous (and also in upcoming) inequalities.\n",
    "For $8$-dimensional case, one needs to prove\n",
    "$$\n",
    "\\lim_{t \\to 0^+} \\frac{F(it)}{G(it)} = \\frac{18}{\\pi^2},\n",
    "$$\n",
    "and this can be proven by rewriting it as\n",
    "$$\n",
    "\\lim_{t \\to \\infty} \\frac{F(i/t)}{G(i/t)} = \\lim_{t \\to \\infty} \\frac{t^{12}(F|_{12}S)(it)}{-t^{10}(G|_{10}S)(it)} = \\lim_{t \\to \\infty} - t^{2} \\frac{(F|_{12}S)(it)}{(G|_{10}S)(it)}.\n",
    "$$\n",
    "We can compute the numerator and the denominator and deduce the limit as in the paper."
   ]
  },
  {
   "cell_type": "code",
   "execution_count": 31,
   "id": "6ec6f364",
   "metadata": {},
   "outputs": [
    {
     "name": "stdout",
     "output_type": "stream",
     "text": [
      "F_8d|S\n",
      "polynomial (E2^2*E4^2 - 2*E2*E4*E6 + E6^2) + (-12*E2*E4^2 + 12*E4*E6)*(1/π)*(i/z) + (36*E4^2)*(1/π)^2*(i/z)^2\n",
      "weight 12\n",
      "depth 2\n",
      "\n",
      "G_8d|S\n",
      "polynomial (-5*H2^2*H4^3 - 5*H2*H4^4 - 2*H4^5)\n",
      "weight 10\n",
      "depth 0\n",
      "\n",
      "F_8dS, ip^0 * ioz^0: 518400*q^2 + 18662400*q^3 + 255052800*q^4 + 1870387200*q^5 + O(q^6)\n",
      "F_8dS, ip^1 * ioz^1: -8640*q - 2229120*q^2 - 56712960*q^3 - 570689280*q^4 - 3375043200*q^5 + O(q^6)\n",
      "F_8dS, ip^2 * ioz^2: 36 + 17280*q + 2229120*q^2 + 37808640*q^3 + 285344640*q^4 + 1350017280*q^5 + O(q^6)\n",
      "G_8dS, ip^0 * ioz^0: (-2) + (-240)*qh^2 + 10240*qh^3 + (-134640)*qh^4 + 1007616*qh^5 + (-5215680)*qh^6 + 20828160*qh^7 + (-69131760)*qh^8 + 199966720*qh^9 + Order(qh^10)\n"
     ]
    }
   ],
   "source": [
    "F_8dS = qm_S_action(F_8d)\n",
    "G_8dS = qm2_S_action(G_8d)\n",
    "\n",
    "print_rqm(F_8dS, \"F_8d|S\")\n",
    "print_rqm2(G_8dS, \"G_8d|S\")\n",
    "\n",
    "# The modular components of F_8dS for ip^0 * ioz^0 and ip^1 * ioz^1 are both cusp forms, hence does not contribute to the limit\n",
    "print(\"F_8dS, ip^0 * ioz^0:\", F_8dS.coefficient([0, 0]))\n",
    "print(\"F_8dS, ip^1 * ioz^1:\", F_8dS.coefficient([1, 1]))\n",
    "print(\"F_8dS, ip^2 * ioz^2:\", F_8dS.coefficient([2, 2]))\n",
    "\n",
    "print(\"G_8dS, ip^0 * ioz^0:\", qm2_q_series(QM2(G_8dS.coefficient([0, 0])), 10))"
   ]
  },
  {
   "cell_type": "markdown",
   "id": "1c273cec",
   "metadata": {},
   "source": [
    "We can proceed for $24$-dimension case similarly and get\n",
    "$$\n",
    "\\lim_{t \\to 0^+} \\frac{F(it)}{G(it)} = \\frac{432}{\\pi^2}.\n",
    "$$"
   ]
  },
  {
   "cell_type": "code",
   "execution_count": 32,
   "id": "9f7dea8c",
   "metadata": {},
   "outputs": [
    {
     "name": "stdout",
     "output_type": "stream",
     "text": [
      "F_24d|S\n",
      "polynomial (49*E2^2*E4^3 - 25*E2^2*E6^2 - 48*E2*E4^2*E6 - 25*E4^4 + 49*E4*E6^2) + (-588*E2*E4^3 + 300*E2*E6^2 + 288*E4^2*E6)*(1/π)*(i/z) + (1764*E4^3 - 900*E6^2)*(1/π)^2*(i/z)^2\n",
      "weight 16\n",
      "depth 2\n",
      "\n",
      "G_24d|S\n",
      "polynomial (-7*H2^2*H4^5 - 7*H2*H4^6 - 2*H4^7)\n",
      "weight 14\n",
      "depth 0\n",
      "\n",
      "F_24dS, ip^0 * ioz^0: 3657830400*q^3 + 138997555200*q^4 + 2567796940800*q^5 + O(q^6)\n",
      "F_24dS, ip^1 * ioz^1: -725760*q - 78382080*q^2 - 15040650240*q^3 - 454261893120*q^4 - 6683835916800*q^5 + O(q^6)\n",
      "F_24dS, ip^2 * ioz^2: 864 + 2177280*q + 117573120*q^2 + 15040650240*q^3 + 340696419840*q^4 + 4010301550080*q^5 + O(q^6)\n",
      "G_24dS, ip^0 * ioz^0: (-2) + 560*qh^2 + (-196560)*qh^4 + 3670016*qh^5 + (-38445120)*qh^6 + 283115520*qh^7 + (-1608122320)*qh^8 + 7450132480*qh^9 + Order(qh^10)\n"
     ]
    }
   ],
   "source": [
    "F_24dS = qm_S_action(F_24d)\n",
    "G_24dS = qm2_S_action(G_24d)\n",
    "\n",
    "print_rqm(F_24dS, \"F_24d|S\")\n",
    "print_rqm2(G_24dS, \"G_24d|S\")\n",
    "\n",
    "# The modular components of F_24dS for ip^0 * ioz^0 and ip^1 * ioz^1 are both cusp forms, hence does not contribute to the limit\n",
    "print(\"F_24dS, ip^0 * ioz^0:\", F_24dS.coefficient([0, 0]))\n",
    "print(\"F_24dS, ip^1 * ioz^1:\", F_24dS.coefficient([1, 1]))\n",
    "print(\"F_24dS, ip^2 * ioz^2:\", F_24dS.coefficient([2, 2]))\n",
    "\n",
    "print(\"G_24dS, ip^0 * ioz^0:\", qm2_q_series(QM2(G_24dS.coefficient([0, 0])), 10))"
   ]
  },
  {
   "cell_type": "markdown",
   "id": "16863ff3",
   "metadata": {},
   "source": [
    "Now, let's return to the last inequality. Our main observation is that the function\n",
    "$$\n",
    "g(t) := \\frac{432}{\\pi^2} - \\frac{F(it)}{G(it)} - 725760 \\frac{\\Delta(it)}{G(it)} \\left(\\frac{1}{\\pi t^3} - \\frac{10}{3 \\pi^2 t^2}\\right)\n",
    "$$\n",
    "is monotone increasing in $t$ for $0 < t < \\frac{3\\pi}{10}$, and its limit as $t \\to 0^+$ equals to $0$."
   ]
  },
  {
   "cell_type": "code",
   "execution_count": 33,
   "id": "9849b16f",
   "metadata": {},
   "outputs": [
    {
     "data": {
      "image/png": "[encoded data removed]",
      "text/plain": [
       "Graphics object consisting of 3 graphics primitives"
      ]
     },
     "metadata": {},
     "output_type": "display_data"
    }
   ],
   "source": [
    "disc = qm_to_func(Disc)\n",
    "LHS_func = 432 / pi^2 - f_24d / g_24d\n",
    "RHS_func = 725760 * disc / g_24d * (1 / pi / t^3 - (10/3) / pi^2 / t^2)\n",
    "g_func = LHS_func - RHS_func\n",
    "\n",
    "show(\n",
    "    plot(LHS_func, (t, 0.2, 1.0), color=\"blue\", legend_label=\"LHS(t)\") + \\\n",
    "    plot(RHS_func, (t, 0.2, 1.0), color=\"red\", legend_label=\"RHS(t)\") + \\\n",
    "    plot(g_func, (t, 0.2, 1.0), color=\"green\", linestyle=\"dashed\", legend_label=\"g(t)\")\n",
    ")"
   ]
  },
  {
   "cell_type": "markdown",
   "id": "0301632b",
   "metadata": {},
   "source": [
    "The limit part can be computed using the trick $\\lim_{t \\to 0^+} g(t) = \\lim_{t \\to \\infty} g(1/t)$ as before. Since we already know $\\lim_{t \\to 0^+} \\frac{432}{\\pi^{2}} - \\frac{F(it)}{G(it)} = 0$, it is enough to show that\n",
    "$$\n",
    "\\lim_{t \\to 0^+} \\frac{\\Delta(it)}{G(it)} \\left(\\frac{1}{\\pi t^3} - \\frac{10}{\\pi^2 t^2}\\right) = \\lim_{t \\to \\infty} \\frac{\\Delta(i/t)}{G(i/t)} \\left(\\frac{t^3}{\\pi} - \\frac{10 t^{2}}{\\pi^{2}}\\right) = \\lim_{t \\to \\infty} \\frac{(\\Delta|_{12}S)(it)}{-t^{2} (G|_{14}S)(it)} \\left(\\frac{t^3}{\\pi} - \\frac{10 t^{2}}{\\pi^{2}}\\right) = \\lim_{t \\to \\infty} \\frac{(\\Delta|_{12}S)(it)}{- (G|_{14}S)(it)} \\left(\\frac{t}{\\pi} - \\frac{10 }{\\pi^{2}}\\right)\n",
    "$$\n",
    "equals $0$, which is true since $\\Delta|_{12}S = \\Delta$ is a cusp form and $G|_{14}S$ is not."
   ]
  },
  {
   "cell_type": "code",
   "execution_count": 34,
   "id": "9b8314cc",
   "metadata": {},
   "outputs": [
    {
     "name": "stdout",
     "output_type": "stream",
     "text": [
      "Disc: q - 24*q^2 + 252*q^3 - 1472*q^4 + 4830*q^5 + O(q^6)\n",
      "G_24d|S: (-2) + 560*qh^2 + (-196560)*qh^4 + 3670016*qh^5 + (-38445120)*qh^6 + 283115520*qh^7 + (-1608122320)*qh^8 + 7450132480*qh^9 + Order(qh^10)\n"
     ]
    }
   ],
   "source": [
    "DiscS = qm_S_action(Disc)\n",
    "assert DiscS == Disc\n",
    "print(\"Disc:\", Disc)\n",
    "print(\"G_24d|S:\", qm2_q_series(QM2(G_24dS.coefficient([0, 0])), 10))"
   ]
  },
  {
   "cell_type": "markdown",
   "id": "84a47581",
   "metadata": {},
   "source": [
    "For the monotonicity part, $\\mathrm{d}g / \\mathrm{d}t > 0$ is equivalent to\n",
    "$$\n",
    "\\widetilde{\\mathcal{L}}_{1, 0}(it) := \\mathcal{L}_{1, 0}(it) - 725760 \\Delta(it) \\left[(\\partial_{12}G)(it) \\left(\\frac{1}{\\pi t^3} - \\frac{10}{3 \\pi^2 t^2}\\right) - G(it) \\left(\\frac{3}{2 \\pi^2 t^4} - \\frac{10}{3 \\pi^3 t^3} \\right)\\right] > 0.\n",
    "$$\n",
    "To prove this, we first check $\\widetilde{\\mathcal{L}}_{1, 0}\\left(\\frac{3\\pi i}{10}\\right) > 0$, and show $\\partial_{30}\\widetilde{\\mathcal{L}}_{1, 0}(it) > 0$ on $0 < t < \\frac{3\\pi}{10}$.\n",
    "We set $p = p(t) = \\frac{1}{\\pi t^3} - \\frac{10}{\\pi^2 t^2}$ so\n",
    "$$\n",
    "\\begin{align*}\n",
    "Dp &= -\\frac{1}{2\\pi} \\frac{\\mathrm{d}p}{\\mathrm{d}t} = \\frac{3}{2 \\pi^2 t^4} - \\frac{10}{\\pi^3 t^3}, \\\\\n",
    "D^{2}p &= \\frac{1}{4\\pi^2} \\frac{\\mathrm{d}^{2}p}{\\mathrm{d}t^2} = \\frac{3}{\\pi^3 t^5} - \\frac{5}{\\pi^4 t^4},\n",
    "\\end{align*}\n",
    "$$\n",
    "then we get\n",
    "$$\n",
    "\\partial_{30} \\widetilde{\\mathcal{L}}_{1, 0} = 725760 \\Delta G\\left[ 7560 X_{8, 2} - \\left(\\frac{37 E_4 - E_2^2}{24}\\right) \\cdot p - \\frac{1}{2}E_2 \\cdot Dp + D^{2}p \\right].\n",
    "$$"
   ]
  },
  {
   "cell_type": "code",
   "execution_count": 35,
   "id": "e05ea65d",
   "metadata": {},
   "outputs": [
    {
     "name": "stdout",
     "output_type": "stream",
     "text": [
      "Dp\n",
      "polynomial (3/2)*(1/π)^2*(i/z)^4 + (-10/3)*(1/π)^3*(i/z)^3\n",
      "weight 6\n",
      "depth 0\n",
      "\n",
      "DDp\n",
      "polynomial (3)*(1/π)^3*(i/z)^5 + (-5)*(1/π)^4*(i/z)^4\n",
      "weight 8\n",
      "depth 0\n",
      "\n"
     ]
    }
   ],
   "source": [
    "p = ip * ioz^3 - (10/3) * ip^2 * ioz^2\n",
    "Dp = rqm_derivative(p)  # (3/2) * ip^2 * ioz^4 - (10/3) * ip^3 * ioz^3\n",
    "DDp = rqm_derivative(Dp)  # 3 * ip^3 * ioz^5 - 5 * ip^4 * ioz^4\n",
    "print_rqm(Dp, \"Dp\")\n",
    "print_rqm(DDp, \"DDp\")\n",
    "p_ = rqm_to_rqm2(p)\n",
    "Dp_ = rqm_to_rqm2(Dp)\n",
    "DDp_ = rqm_to_rqm2(DDp)\n",
    "X82 = extremal_qm(8, 2)\n",
    "\n",
    "Ltilde = L_1_0_24d - 725760 * Disc_ * (qm2_serre_derivative(G_24d, 12) * p_ - G_24d * Dp_)\n",
    "S30Ltilde = rqm2_serre_derivative(Ltilde, 30)\n",
    "h = 7560 * X82 - ((37 * E4 - E2^2) / 24) * p - (E2 / 2) * Dp + DDp\n",
    "h_ = rqm_to_rqm2(h)\n",
    "assert S30Ltilde == 725760 * Disc_ * G_24d * h_"
   ]
  },
  {
   "cell_type": "markdown",
   "id": "cbb7485b",
   "metadata": {},
   "source": [
    "So it is enough to show that the factor\n",
    "$$\n",
    "h = h(t) := 7560 X_{8, 2}(it) - \\left(\\frac{37 E_4(it) - E_2(it)^2}{24}\\right) \\cdot p - \\frac{1}{2}E_2(it) \\cdot Dp + D^{2}p \n",
    "$$\n",
    "is positive on $0 < t < \\frac{3\\pi}{10}$, which is equivalent to proving\n",
    "$$\n",
    "\\begin{align*}\n",
    "(h|_{8, S})(t) &= t^{-8} h\\left(\\frac{1}{t}\\right) \\\\\n",
    "&= 7560 X_{8, 2}(it) \\\\\n",
    "&\\quad + \\frac{1}{\\pi t} \\left(\\frac{7 E_2(it) E_4(it) - E_6(it)}{4} - \\frac{37 E_4(it) - E_2(it)^{2}}{24}\\right) + \\frac{1}{\\pi^{2} t^{2}} \\left(- \\frac{4 E_4(it) + 5E_2(it)^{2}}{36} + \\frac{E_2(it)}{4}\\right) > 0\n",
    "\\end{align*}\n",
    "$$\n",
    "for $t > \\frac{10}{3 \\pi}$. One can actually prove that the last line (`hS2` below) is positive."
   ]
  },
  {
   "cell_type": "code",
   "execution_count": 36,
   "id": "67003e46",
   "metadata": {},
   "outputs": [
    {
     "name": "stdout",
     "output_type": "stream",
     "text": [
      "h\n",
      "polynomial (-7/48*E2^2*E4 + 1/24*E2*E6 + 5/48*E4^2) + (1/24*E2^2 - 37/24*E4)*(1/π)*(i/z)^3 + (-5/36*E2^2 + 185/36*E4)*(1/π)^2*(i/z)^2 + (-3/4*E2)*(1/π)^2*(i/z)^4 + (5/3*E2)*(1/π)^3*(i/z)^3 + (3)*(1/π)^3*(i/z)^5 + (-5)*(1/π)^4*(i/z)^4\n",
      "weight 8\n",
      "depth 2\n",
      "\n",
      "weight 8 component\n",
      "polynomial (-7/48*E2^2*E4 + 1/24*E2*E6 + 5/48*E4^2) + (7/4*E2*E4 - 1/4*E6)*(1/π)*(i/z) + (-5/36*E2^2 - 1/9*E4)*(1/π)^2*(i/z)^2\n",
      "weight 8\n",
      "depth 2\n",
      "\n",
      "weight 6 component\n",
      "polynomial (1/24*E2^2 - 37/24*E4)*(1/π)*(i/z) + (1/4*E2)*(1/π)^2*(i/z)^2\n",
      "weight 6\n",
      "depth 2\n",
      "\n"
     ]
    },
    {
     "data": {
      "image/png": "[encoded data removed]",
      "text/plain": [
       "Graphics object consisting of 2 graphics primitives"
      ]
     },
     "metadata": {},
     "output_type": "display_data"
    }
   ],
   "source": [
    "print_rqm(h, \"h\")\n",
    "hS = rqm_S_action(h)\n",
    "hS_comps = rqm_homogeneous_comps(hS)\n",
    "for k in hS_comps:\n",
    "    print_rqm(hS_comps[k], \"weight \" + str(k) + \" component\")\n",
    "\n",
    "assert hS == 7560 * X82 + ip * ioz * ((7 * E2 * E4 - E6) / 4 - (37 * E4 - E2^2) / 24) + ip^2 * ioz^2 * (-(4*E4+5*E2^2)/36 + E2 / 4)\n",
    "\n",
    "hS2 = ((7 * E2 * E4 - E6) / 4 - (37 * E4 - E2^2) / 24) + ip * ioz * (-(4*E4+5*E2^2)/36 + E2 / 4)\n",
    "assert hS == 7560 * X82 + ip * ioz * hS2\n",
    "assert hS2 == (1/24 - (5/36) * ip * ioz) * E2^2 + ((7/4) * E4 + (1/4) * ip * ioz) * E2 + ((-37/24) * E4 - (1/9) * E4 * ip * ioz - (1/4) * E6)\n",
    "\n",
    "show(\n",
    "    plot(rqm_to_func(hS), (t, 1.0, 3.0), legend_label=\"hS(t)\") + \\\n",
    "    plot(rqm_to_func(hS2), (t, 1.0, 3.0), color=\"red\", legend_label=\"hS2(t)\")\n",
    ")"
   ]
  }
 ],
 "metadata": {
  "kernelspec": {
   "display_name": "SageMath 9.8",
   "language": "sage",
   "name": "SageMath-9.8"
  },
  "language_info": {
   "codemirror_mode": {
    "name": "ipython",
    "version": 3
   },
   "file_extension": ".py",
   "mimetype": "text/x-python",
   "name": "python",
   "nbconvert_exporter": "python",
   "pygments_lexer": "ipython3",
   "version": "3.11.1"
  }
 },
 "nbformat": 4,
 "nbformat_minor": 5
}
